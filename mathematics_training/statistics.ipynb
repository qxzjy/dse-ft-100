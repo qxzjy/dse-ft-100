{
 "cells": [
  {
   "cell_type": "code",
   "execution_count": 6,
   "metadata": {},
   "outputs": [],
   "source": [
    "import numpy as np\n",
    "from scipy.stats import mode"
   ]
  },
  {
   "cell_type": "markdown",
   "metadata": {},
   "source": [
    "## Basic sample statistics"
   ]
  },
  {
   "cell_type": "code",
   "execution_count": 12,
   "metadata": {},
   "outputs": [
    {
     "name": "stdout",
     "output_type": "stream",
     "text": [
      "Mode : ModeResult(mode=7, count=2) | Median : 7.0 | Mean : 7.0 | Standard deviation : 2.21\n"
     ]
    }
   ],
   "source": [
    "data = [4, 10, 7, 7, 6, 9, 3, 8, 9]\n",
    "\n",
    "serie = np.array(data)\n",
    "\n",
    "print(\"Mode : {} | Median : {} | Mean : {} | Standard deviation : {:.2f}\".format(mode(serie), np.median(serie), np.mean(serie), np.std(serie)))"
   ]
  },
  {
   "cell_type": "markdown",
   "metadata": {},
   "source": [
    "a/ 7\n",
    "\n",
    "b/ 7\n",
    "\n",
    "c/ 7\n",
    "\n",
    "d/ 2.21\n",
    "\n",
    "e/ The std will increase\n",
    " "
   ]
  },
  {
   "cell_type": "code",
   "execution_count": null,
   "metadata": {},
   "outputs": [
    {
     "name": "stdout",
     "output_type": "stream",
     "text": [
      "Median : 75.0 | 1Q : 69.5 | 3Q : 80.5 | IQR : 11.0\n"
     ]
    }
   ],
   "source": [
    "data = [62, 65, 68, 70, 72, 74, 76, 78, 80, 82, 96, 101]\n",
    "\n",
    "serie = np.array(data)\n",
    "\n",
    "print(\"Median : {} | 1Q : {} | 3Q : {} | IQR : {}\".format(np.median(serie), np.quantile(serie, 0.25), np.quantile(serie, 0.75), np.quantile(serie, 0.75) - np.quantile(serie, 0.25)))"
   ]
  },
  {
   "cell_type": "markdown",
   "metadata": {},
   "source": [
    "a/ 75\n",
    "\n",
    "b/ 69.5\n",
    "\n",
    "c/ 80.5\n",
    "\n",
    "d/ 11\n"
   ]
  },
  {
   "cell_type": "code",
   "execution_count": 26,
   "metadata": {},
   "outputs": [
    {
     "name": "stdout",
     "output_type": "stream",
     "text": [
      "Mean : 15.0 | Standard Deviation : 3.96\n"
     ]
    }
   ],
   "source": [
    "data = [10, 11, 15, 15, 17, 22]\n",
    "\n",
    "serie = np.array(data)\n",
    "\n",
    "print(\"Mean : {} | Standard Deviation : {:.2f}\".format(np.mean(serie), np.std(serie)))"
   ]
  },
  {
   "cell_type": "markdown",
   "metadata": {},
   "source": [
    "## Covariance and correlation"
   ]
  },
  {
   "cell_type": "code",
   "execution_count": 30,
   "metadata": {},
   "outputs": [
    {
     "name": "stdout",
     "output_type": "stream",
     "text": [
      "Mean X : 65.0 | Mean Y : 66.0 | Std X : 23.233596363886498 | Std y : 14.913081505845799\n",
      "Covariance :\n",
      "[[599.77777778 300.44444444]\n",
      " [300.44444444 247.11111111]]\n",
      "Person's correlation :\n",
      "[[1.         0.78041005]\n",
      " [0.78041005 1.        ]]\n"
     ]
    }
   ],
   "source": [
    "data_x = [39, 65, 62, 90, 82, 75, 25, 98, 36, 78]\n",
    "data_y = [47, 53, 58, 86, 62, 68, 60, 91, 51, 84]\n",
    "\n",
    "x = np.array(data_x)\n",
    "y = np.array(data_y)\n",
    "\n",
    "mean_x = np.mean(x)\n",
    "mean_y = np.mean(y)\n",
    "\n",
    "std_x = np.std(x)\n",
    "std_y = np.std(y)\n",
    "\n",
    "print(f\"Mean X : {mean_x} | Mean Y : {mean_y} | Std X : {std_x} | Std y : {std_y}\")\n",
    "\n",
    "print(\"Covariance :\")\n",
    "print(np.cov(x, y))\n",
    "\n",
    "print(\"Person's correlation :\")\n",
    "print(np.corrcoef(x, y))"
   ]
  }
 ],
 "metadata": {
  "kernelspec": {
   "display_name": "base",
   "language": "python",
   "name": "python3"
  },
  "language_info": {
   "codemirror_mode": {
    "name": "ipython",
    "version": 3
   },
   "file_extension": ".py",
   "mimetype": "text/x-python",
   "name": "python",
   "nbconvert_exporter": "python",
   "pygments_lexer": "ipython3",
   "version": "3.12.7"
  }
 },
 "nbformat": 4,
 "nbformat_minor": 2
}
