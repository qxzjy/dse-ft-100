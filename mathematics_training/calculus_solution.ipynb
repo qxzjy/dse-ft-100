{
 "cells": [
  {
   "cell_type": "markdown",
   "metadata": {},
   "source": [
    "# Calculus - Exercises' solutions 💡\n",
    "\n",
    "## Common functions\n",
    "\n",
    "### Exponential & Logarithm\n",
    "\n",
    "#### Expand each exponential\n",
    "\n",
    "1. \n",
    "\n",
    "$$\n",
    "\\begin{aligned} e^{u + 3v} &= e^u (e^v)^3 \\\\\n",
    "\\end{aligned}\n",
    "$$\n",
    "\n",
    "_**Checking the result with python's sympy library**_ 🤓\n",
    "\n",
    "*Python's sympy library is very handy to perform symbolic computation (i.e. computing the exact result of a mathematical expression or operation).*\n",
    "\n",
    "*To use sympy, you just have to execute once the cell below :*"
   ]
  },
  {
   "cell_type": "code",
   "execution_count": 1,
   "metadata": {},
   "outputs": [
    {
     "name": "stdout",
     "output_type": "stream",
     "text": [
      "Requirement already satisfied: sympy in /Users/aureliemutschler/opt/anaconda3/lib/python3.7/site-packages (1.4)\n",
      "Requirement already satisfied: mpmath>=0.19 in /Users/aureliemutschler/opt/anaconda3/lib/python3.7/site-packages (from sympy) (1.1.0)\n"
     ]
    }
   ],
   "source": [
    "!pip install sympy\n",
    "from sympy import *\n",
    "from sympy.plotting import plot"
   ]
  },
  {
   "cell_type": "markdown",
   "metadata": {},
   "source": [
    "*From now on, sympy's functions are available in this notebook and you can use them to check the solutions. For each computation, we'll show you an example code of how to use sympy to check your results. If you want to practice more, you can use sympy to get the solution for as many expressions as you want* 😁\n",
    "\n",
    "*If you'd like to go further, sympy's documentation is available here :* https://docs.sympy.org/latest/tutorial/\n",
    "\n",
    "*Let's check the solution to question 1. :*"
   ]
  },
  {
   "cell_type": "code",
   "execution_count": 2,
   "metadata": {},
   "outputs": [
    {
     "data": {
      "text/latex": [
       "$\\displaystyle e^{u} e^{3 v}$"
      ],
      "text/plain": [
       "exp(u)*exp(3*v)"
      ]
     },
     "execution_count": 2,
     "metadata": {},
     "output_type": "execute_result"
    }
   ],
   "source": [
    "# Create u, v symbols\n",
    "u, v = symbols('u, v', real = True) # 'real = True' means we're dealing with real numbers\n",
    "# Create expression \n",
    "expr = exp((u + 3*v)) # type the initial expression here\n",
    "# Expand expression\n",
    "expand_power_exp(expr)"
   ]
  },
  {
   "cell_type": "markdown",
   "metadata": {},
   "source": [
    "*Here, sympy's output isn't exactly as the form of your literal expression. In case this happens, you can still check whether both expressions are equal, thanks to the `==` operator :*"
   ]
  },
  {
   "cell_type": "code",
   "execution_count": 3,
   "metadata": {},
   "outputs": [
    {
     "data": {
      "text/plain": [
       "True"
      ]
     },
     "execution_count": 3,
     "metadata": {},
     "output_type": "execute_result"
    }
   ],
   "source": [
    "expand_power_exp(expr) == exp(u)*(exp(v))**3 # compare to the solution"
   ]
  },
  {
   "cell_type": "markdown",
   "metadata": {},
   "source": [
    "2. \n",
    "\n",
    "$$\n",
    "\\begin{aligned} e^{u/2} &= (e^u)^\\frac{1}{2} \\\\\n",
    "&= \\sqrt{e^u} \\\\\n",
    "\\end{aligned}\n",
    "$$\n",
    "\n",
    "*Checking result with python's sympy library* 🤓"
   ]
  },
  {
   "cell_type": "code",
   "execution_count": 4,
   "metadata": {},
   "outputs": [
    {
     "data": {
      "text/plain": [
       "True"
      ]
     },
     "execution_count": 4,
     "metadata": {},
     "output_type": "execute_result"
    }
   ],
   "source": [
    "# Create u symbol\n",
    "u = symbols('u', real = True)\n",
    "# Create expression \n",
    "expr = exp(u/2) \n",
    "# Expand expression\n",
    "expand_power_exp(expr) == sqrt(exp(u))"
   ]
  },
  {
   "cell_type": "markdown",
   "metadata": {},
   "source": [
    "3. \n",
    "\n",
    "$$\n",
    "\\begin{aligned} e^{u - 7v} &= \\frac{e^u}{e^{7v}} \\\\\n",
    "&= \\frac{e^u}{(e^{v})^7} \\\\\n",
    "\\end{aligned}\n",
    "$$\n",
    "\n",
    "*Checking result with python's sympy library* 🤓"
   ]
  },
  {
   "cell_type": "code",
   "execution_count": 5,
   "metadata": {},
   "outputs": [
    {
     "data": {
      "text/plain": [
       "True"
      ]
     },
     "execution_count": 5,
     "metadata": {},
     "output_type": "execute_result"
    }
   ],
   "source": [
    "# Create u, v symbols\n",
    "u, v = symbols('u, v', real = True)\n",
    "# Create expression \n",
    "expr = exp((u - 7*v)) \n",
    "# Expand expression\n",
    "expand_power_exp(expr) == exp(u)/(exp(v))**7"
   ]
  },
  {
   "cell_type": "markdown",
   "metadata": {},
   "source": [
    "4. \n",
    "\n",
    "$$\n",
    "\\begin{aligned} e^{3(\\frac{u}{2} - v)} &= (e^{\\frac{u}{2} - v})^3 \\\\\n",
    "&= (\\frac{e^{\\frac{u}{2}}}{e^{v}})^3 \\\\\n",
    "&= (\\frac{\\sqrt{e^u}}{e^{v}})^3 \\\\\n",
    "\\end{aligned}\n",
    "$$\n",
    "\n",
    "*Checking result with python's sympy library* 🤓"
   ]
  },
  {
   "cell_type": "code",
   "execution_count": 6,
   "metadata": {},
   "outputs": [
    {
     "data": {
      "text/plain": [
       "True"
      ]
     },
     "execution_count": 6,
     "metadata": {},
     "output_type": "execute_result"
    }
   ],
   "source": [
    "# Create u, v symbols\n",
    "u, v = symbols('u, v', real = True)\n",
    "# Create expression \n",
    "expr = exp(3*(u/2 - v)) \n",
    "# Expand expression\n",
    "expand_power_exp(expr) == (sqrt(exp(u))/exp(v))**3"
   ]
  },
  {
   "cell_type": "markdown",
   "metadata": {},
   "source": [
    "5. \n",
    "\n",
    "$$\n",
    "\\begin{aligned} e^{5\\ln{u}} &= (e^{\\ln{u}})^5 \\\\\n",
    "&= u^5 \\\\\n",
    "\\end{aligned}\n",
    "$$\n",
    "\n",
    "*Checking result with python's sympy library* 🤓"
   ]
  },
  {
   "cell_type": "code",
   "execution_count": 7,
   "metadata": {},
   "outputs": [
    {
     "data": {
      "text/latex": [
       "$\\displaystyle u^{5}$"
      ],
      "text/plain": [
       "u**5"
      ]
     },
     "execution_count": 7,
     "metadata": {},
     "output_type": "execute_result"
    }
   ],
   "source": [
    "# Create u symbol\n",
    "u = symbols('u', real = True)\n",
    "# Create expression \n",
    "expr = exp(5*log(u)) \n",
    "# Expand expression\n",
    "expand_power_exp(expr)"
   ]
  },
  {
   "cell_type": "markdown",
   "metadata": {},
   "source": [
    "#### Expand each logarithm\n",
    "\n",
    "1. \n",
    "\n",
    "$$\n",
    "\\begin{aligned} \\ln(3 u^2) &= \\ln(u^2) + \\ln(3) \\\\\n",
    "&= 2 \\ln(u) + \\ln(3) \\\\\n",
    "\\end{aligned}\n",
    "$$\n",
    "\n",
    "*Checking result with python's sympy library* 🤓"
   ]
  },
  {
   "cell_type": "code",
   "execution_count": 8,
   "metadata": {},
   "outputs": [
    {
     "data": {
      "text/latex": [
       "$\\displaystyle 2 \\log{\\left(u \\right)} + \\log{\\left(3 \\right)}$"
      ],
      "text/plain": [
       "2*log(u) + log(3)"
      ]
     },
     "execution_count": 8,
     "metadata": {},
     "output_type": "execute_result"
    }
   ],
   "source": [
    "# Create u symbol\n",
    "u = symbols('u', real = True)\n",
    "# Create expression \n",
    "expr = ln(3*u**2) # type your expression here\n",
    "# Expand expression\n",
    "expand_log(expr, force = True)"
   ]
  },
  {
   "cell_type": "markdown",
   "metadata": {},
   "source": [
    "2. \n",
    "\n",
    "$$\n",
    "\\begin{aligned} \\ln(5uv) &= \\ln(5) + \\ln(u) + \\ln(v)\n",
    "\\end{aligned}\n",
    "$$\n",
    "\n",
    "*Checking result with python's sympy library* 🤓"
   ]
  },
  {
   "cell_type": "code",
   "execution_count": 9,
   "metadata": {},
   "outputs": [
    {
     "data": {
      "text/latex": [
       "$\\displaystyle \\log{\\left(u \\right)} + \\log{\\left(v \\right)} + \\log{\\left(5 \\right)}$"
      ],
      "text/plain": [
       "log(u) + log(v) + log(5)"
      ]
     },
     "execution_count": 9,
     "metadata": {},
     "output_type": "execute_result"
    }
   ],
   "source": [
    "# Create u, v symbols\n",
    "u, v = symbols('u, v', real = True)\n",
    "# Create expression \n",
    "expr = ln(5*u*v)\n",
    "# Expand expression\n",
    "expand_log(expr, force = True)"
   ]
  },
  {
   "cell_type": "markdown",
   "metadata": {},
   "source": [
    "3. \n",
    "$$\n",
    "\\begin{aligned} \\ln(u + v)^2 &= 2\\ln(u + v)\n",
    "\\end{aligned}\n",
    "$$\n",
    "\n",
    "**☝️ Reminder : $\\ln(u+v) \\ne \\ln(u) + \\ln(v)$ there's no way to expand the log of a sum !**\n",
    "\n",
    "*Checking result with python's sympy library* 🤓"
   ]
  },
  {
   "cell_type": "code",
   "execution_count": 10,
   "metadata": {},
   "outputs": [
    {
     "data": {
      "text/latex": [
       "$\\displaystyle 2 \\log{\\left(u + v \\right)}$"
      ],
      "text/plain": [
       "2*log(u + v)"
      ]
     },
     "execution_count": 10,
     "metadata": {},
     "output_type": "execute_result"
    }
   ],
   "source": [
    "# Create u, v symbols\n",
    "u, v = symbols('u, v', real = True)\n",
    "# Create expression \n",
    "expr = ln((u + v)**2)\n",
    "# Expand expression\n",
    "expand_log(expr, force = True)"
   ]
  },
  {
   "cell_type": "markdown",
   "metadata": {},
   "source": [
    "4. \n",
    "\n",
    "$$\n",
    "\\begin{aligned} \\ln(\\frac{u^4}{v^4}) &= \\ln(u^4) - \\ln(v^4) \\\\\n",
    "&= 4\\ln(u) - 4\\ln(v) \\\\\n",
    "\\end{aligned}\n",
    "$$\n",
    "\n",
    "*Checking result with python's sympy library* 🤓"
   ]
  },
  {
   "cell_type": "code",
   "execution_count": 11,
   "metadata": {},
   "outputs": [
    {
     "data": {
      "text/latex": [
       "$\\displaystyle 4 \\log{\\left(u \\right)} - 4 \\log{\\left(v \\right)}$"
      ],
      "text/plain": [
       "4*log(u) - 4*log(v)"
      ]
     },
     "execution_count": 11,
     "metadata": {},
     "output_type": "execute_result"
    }
   ],
   "source": [
    "# Create u, v symbols\n",
    "u, v = symbols('u, v', real = True)\n",
    "# Create expression \n",
    "expr = ln((u**4/v**4))\n",
    "# Expand expression\n",
    "expand_log(expr, force = True)"
   ]
  },
  {
   "cell_type": "markdown",
   "metadata": {},
   "source": [
    "5. \n",
    "\n",
    "$$ \\begin{aligned} \\ln(\\frac{u^2}{v})^3 &= 3\\ln(\\frac{u^2}{v}) \\\\\n",
    "&= 3(\\ln(u^2) - \\ln(v)) \\\\\n",
    "&= 3(2\\ln(u) - \\ln(v)) \\\\\n",
    "&= 6\\ln(u) - 3\\ln(v)\n",
    "\\end{aligned}\n",
    "$$\n",
    "\n",
    "*Checking result with python's sympy library* 🤓"
   ]
  },
  {
   "cell_type": "code",
   "execution_count": 12,
   "metadata": {},
   "outputs": [
    {
     "data": {
      "text/latex": [
       "$\\displaystyle 6 \\log{\\left(u \\right)} - 3 \\log{\\left(v \\right)}$"
      ],
      "text/plain": [
       "6*log(u) - 3*log(v)"
      ]
     },
     "execution_count": 12,
     "metadata": {},
     "output_type": "execute_result"
    }
   ],
   "source": [
    "# Create u, v symbols\n",
    "u, v = symbols('u, v', real = True)\n",
    "# Create expression \n",
    "expr = ln((u**2/v)**3)\n",
    "# Expand expression\n",
    "expand_log(expr, force = True)"
   ]
  },
  {
   "cell_type": "markdown",
   "metadata": {},
   "source": [
    "6. \n",
    "\n",
    "$$\n",
    "\\begin{aligned} \\ln(\\frac{5u}{7v^3})^2 &= 2\\ln(\\frac{5u}{7v^3}) \\\\\n",
    "&= 2(\\ln(5) + \\ln(u) - \\ln(7) - \\ln(v^3)) \\\\\n",
    "&= 2(\\ln(5) + \\ln(u) - \\ln(7) - 3\\ln(v)) \\\\\n",
    "&= 2\\ln(u) - 6\\ln(v) + 2\\ln(5) - 2\\ln(7)\n",
    "\\end{aligned}\n",
    "$$\n",
    "\n",
    "*Checking result with python's sympy library* 🤓\n"
   ]
  },
  {
   "cell_type": "code",
   "execution_count": 13,
   "metadata": {},
   "outputs": [
    {
     "data": {
      "text/latex": [
       "$\\displaystyle 2 \\log{\\left(u \\right)} - 6 \\log{\\left(v \\right)} - 2 \\log{\\left(7 \\right)} + 2 \\log{\\left(5 \\right)}$"
      ],
      "text/plain": [
       "2*log(u) - 6*log(v) - 2*log(7) + 2*log(5)"
      ]
     },
     "execution_count": 13,
     "metadata": {},
     "output_type": "execute_result"
    }
   ],
   "source": [
    "# Create u, v symbols\n",
    "u, v = symbols('u, v', real = True)\n",
    "# Create expression \n",
    "expr = ln(((5*u)/(7*v**3))**2)\n",
    "# Expand expression\n",
    "expand_log(expr, force = True)"
   ]
  },
  {
   "cell_type": "markdown",
   "metadata": {},
   "source": [
    "#### Find the inverse of each function\n",
    "\n",
    "1. \n",
    "\n",
    "$$\n",
    "\\begin{aligned} y &=\\ln(x) \\\\\n",
    "\\iff e^y &= x  \\\\\n",
    "\\iff x &= e^y \n",
    "\\end{aligned}\n",
    "$$\n",
    "\n",
    "\n",
    "*Checking result with python's sympy library* 🤓\n"
   ]
  },
  {
   "cell_type": "code",
   "execution_count": 14,
   "metadata": {},
   "outputs": [
    {
     "name": "stdout",
     "output_type": "stream",
     "text": [
      "[exp(y)]\n"
     ]
    }
   ],
   "source": [
    "# Create x, y variables\n",
    "x, y = symbols(\"x y\", real = True, positive = True) # real positive values\n",
    "# Create equation y = f(x)\n",
    "expr = Eq(y, ln(x))\n",
    "# Output expression x = f(y)\n",
    "res = solve(expr, x)\n",
    "print(res)"
   ]
  },
  {
   "cell_type": "code",
   "execution_count": 15,
   "metadata": {},
   "outputs": [
    {
     "name": "stderr",
     "output_type": "stream",
     "text": [
      "/Users/aureliemutschler/opt/anaconda3/lib/python3.7/site-packages/sympy/plotting/experimental_lambdify.py:233: UserWarning: The evaluation of the expression is problematic. We are trying a failback method that may still work. Please report this as a bug.\n",
      "  warnings.warn('The evaluation of the expression is'\n"
     ]
    },
    {
     "data": {
      "text/plain": [
       "<Figure size 640x480 with 1 Axes>"
      ]
     },
     "metadata": {},
     "output_type": "display_data"
    }
   ],
   "source": [
    "# Plot the function and its inverse \n",
    "p = plot(expr.rhs, (x, 0, 10), show = False, line_color='blue') # initial function in blue\n",
    "p2 = plot(res[0], (y, -10, 2), show = False, line_color='red') # inverse function in red\n",
    "p.extend(p2)\n",
    "p.show()"
   ]
  },
  {
   "cell_type": "markdown",
   "metadata": {},
   "source": [
    "2. \n",
    "\n",
    "$$ \\begin{aligned} y &= -10\\ln(x) \\\\\n",
    "\\iff \\frac{-y}{10} &= \\ln(x)  \\\\\n",
    "\\iff x &= e^\\frac{-y}{10}\n",
    "\\end{aligned}\n",
    "$$\n",
    "\n",
    "\n",
    "*Checking result with python's sympy library* 🤓"
   ]
  },
  {
   "cell_type": "code",
   "execution_count": 16,
   "metadata": {},
   "outputs": [
    {
     "name": "stdout",
     "output_type": "stream",
     "text": [
      "[exp(-y/10)]\n"
     ]
    }
   ],
   "source": [
    "# Create x, y variables\n",
    "x, y = symbols(\"x y\", real = True, positive = True) # real positive values\n",
    "# Create equation y = f(x)\n",
    "expr = Eq(y, -10*ln(x))\n",
    "# Output expression x = f(y)\n",
    "res = solve(expr, x)\n",
    "print(res)"
   ]
  },
  {
   "cell_type": "code",
   "execution_count": 17,
   "metadata": {},
   "outputs": [
    {
     "data": {
      "image/png": "[encoded data removed]",
      "text/plain": [
       "<Figure size 432x288 with 1 Axes>"
      ]
     },
     "metadata": {
      "needs_background": "light"
     },
     "output_type": "display_data"
    }
   ],
   "source": [
    "# Plot the function and its inverse \n",
    "p = plot(expr.rhs, (x, 0, 10), show = False, line_color='blue') # initial function in blue\n",
    "p2 = plot(res[0], (y, -5, 10), show = False, line_color='red') # inverse function in red\n",
    "p.extend(p2)\n",
    "p.show()"
   ]
  },
  {
   "cell_type": "markdown",
   "metadata": {},
   "source": [
    "3. \n",
    "\n",
    "$$\n",
    "\\begin{aligned} y &= \\ln(3x) \\\\\n",
    "\\iff e^y &= 3x  \\\\\n",
    "\\iff x &= \\frac{e^y}{3}\n",
    "\\end{aligned}\n",
    "$$\n",
    "\n",
    "\n",
    "*Checking result with python's sympy library* 🤓"
   ]
  },
  {
   "cell_type": "code",
   "execution_count": 18,
   "metadata": {},
   "outputs": [
    {
     "name": "stdout",
     "output_type": "stream",
     "text": [
      "[exp(y)/3]\n"
     ]
    }
   ],
   "source": [
    "# Create x, y variables\n",
    "x, y = symbols(\"x y\", real = True, positive = True) # real positive values\n",
    "# Create equation y = f(x)\n",
    "expr = Eq(y, ln(3*x))\n",
    "# Output expression x = f(y)\n",
    "res = solve(expr, x)\n",
    "print(res)"
   ]
  },
  {
   "cell_type": "code",
   "execution_count": 19,
   "metadata": {},
   "outputs": [
    {
     "data": {
      "image/png": "[encoded data removed]",
      "text/plain": [
       "<Figure size 432x288 with 1 Axes>"
      ]
     },
     "metadata": {
      "needs_background": "light"
     },
     "output_type": "display_data"
    }
   ],
   "source": [
    "# Plot the function and its inverse \n",
    "p = plot(expr.rhs, (x, 0, 10), show = False, line_color='blue') # initial function in blue\n",
    "p2 = plot(res[0], (y, -5, 5), show = False, line_color='red') # inverse function in red\n",
    "p.extend(p2)\n",
    "p.show()"
   ]
  },
  {
   "cell_type": "markdown",
   "metadata": {},
   "source": [
    "4. \n",
    "\n",
    "$$\n",
    "\\begin{aligned} y &= \\frac{e^x}{3} \\\\\n",
    "\\iff 3y &= e^x  \\\\\n",
    "\\iff x &= \\ln(3y)\n",
    "\\end{aligned}\n",
    "$$\n",
    "\n",
    "\n",
    "*Checking result with python's sympy library* 🤓"
   ]
  },
  {
   "cell_type": "code",
   "execution_count": 20,
   "metadata": {},
   "outputs": [
    {
     "name": "stdout",
     "output_type": "stream",
     "text": [
      "[log(3*y)]\n"
     ]
    }
   ],
   "source": [
    "# Create x, y variables\n",
    "x, y = symbols(\"x y\", real = True, positive = True) # real positive values\n",
    "# Create equation y = f(x)\n",
    "expr = Eq(y, exp(x)/3)\n",
    "# Output expression x = f(y)\n",
    "res = solve(expr, x)\n",
    "print(res)"
   ]
  },
  {
   "cell_type": "code",
   "execution_count": 21,
   "metadata": {},
   "outputs": [
    {
     "data": {
      "image/png": "[encoded data removed]",
      "text/plain": [
       "<Figure size 432x288 with 1 Axes>"
      ]
     },
     "metadata": {
      "needs_background": "light"
     },
     "output_type": "display_data"
    }
   ],
   "source": [
    "# Plot the function and its inverse \n",
    "p = plot(expr.rhs, (x, -2, 3), show = False, line_color='blue') # initial function in blue\n",
    "p2 = plot(res[0], (y, 0, 4), show = False, line_color='red') # inverse function in red\n",
    "p.extend(p2)\n",
    "p.show()"
   ]
  },
  {
   "cell_type": "markdown",
   "metadata": {},
   "source": [
    "5. \n",
    "\n",
    "$$\n",
    "\\begin{aligned} y &= \\frac{4^x}{2} \\\\\n",
    "\\iff 2y &= 4^x  \\\\\n",
    "\\iff 2y &= (e^{\\ln(4)})^x  \\\\\n",
    "\\iff 2y &= e^{x\\ln(4)} \\\\\n",
    "\\iff \\ln(2y) &= x\\ln(4) \\\\\n",
    "\\iff x &= \\frac{\\ln(2y)}{\\ln(4)} \\\\\n",
    "\\iff x &= \\frac{\\ln(y) + ln(2)}{2\\ln(2)}\n",
    "\\end{aligned}\n",
    "$$\n",
    "\n",
    "☝️ _**Here we used a little trick : $a^x = e^{x\\ln(a)}$**_ 💪\n",
    "\n",
    "*Checking result with python's sympy library* 🤓"
   ]
  },
  {
   "cell_type": "code",
   "execution_count": 22,
   "metadata": {},
   "outputs": [
    {
     "name": "stdout",
     "output_type": "stream",
     "text": [
      "[(log(y) + log(2))/(2*log(2))]\n"
     ]
    }
   ],
   "source": [
    "# Create x, y variables\n",
    "x, y = symbols(\"x y\", real = True, positive = True) # real positive values\n",
    "# Create equation y = f(x)\n",
    "expr = Eq(y, 4**x/2)\n",
    "# Output expression x = f(y)\n",
    "res = solve(expr, x)\n",
    "print(res)"
   ]
  },
  {
   "cell_type": "code",
   "execution_count": 23,
   "metadata": {},
   "outputs": [
    {
     "data": {
      "image/png": "[encoded data removed]",
      "text/plain": [
       "<Figure size 432x288 with 1 Axes>"
      ]
     },
     "metadata": {
      "needs_background": "light"
     },
     "output_type": "display_data"
    }
   ],
   "source": [
    "# Plot the function and its inverse \n",
    "p = plot(expr.rhs, (x, -5, 2), show = False, line_color='blue') # initial function in blue\n",
    "p2 = plot(res[0], (y, 0, 5), show = False, line_color='red') # inverse function in red\n",
    "p.extend(p2)\n",
    "p.show()"
   ]
  },
  {
   "cell_type": "markdown",
   "metadata": {},
   "source": [
    "6. \n",
    "\n",
    "$$\n",
    "\\begin{aligned} y &= 3^x + 8 \\\\\n",
    "\\iff y - 8 &= 3^x  \\\\\n",
    "\\iff y - 8 &= (e^{\\ln(3)})^x  \\\\\n",
    "\\iff y - 8 &= e^{x\\ln(3)} \\\\\n",
    "\\iff \\ln(y - 8) &= x\\ln(3) \\\\\n",
    "\\iff x &= \\frac{\\ln(y - 8)}{\\ln(3)}\n",
    "\\end{aligned}\n",
    "$$\n",
    "\n",
    "*Checking result with python's sympy library* 🤓"
   ]
  },
  {
   "cell_type": "code",
   "execution_count": 24,
   "metadata": {},
   "outputs": [
    {
     "name": "stdout",
     "output_type": "stream",
     "text": [
      "[log(y - 8)/log(3)]\n"
     ]
    }
   ],
   "source": [
    "# Create x, y variables\n",
    "x, y = symbols(\"x y\", real = True, positive = True) # real positive values\n",
    "# Create equation y = f(x)\n",
    "expr = Eq(y, 3**x+8)\n",
    "# Output expression x = f(y)\n",
    "res = solve(expr, x)\n",
    "print(res)"
   ]
  },
  {
   "cell_type": "code",
   "execution_count": 25,
   "metadata": {},
   "outputs": [
    {
     "data": {
      "image/png": "[encoded data removed]",
      "text/plain": [
       "<Figure size 432x288 with 1 Axes>"
      ]
     },
     "metadata": {
      "needs_background": "light"
     },
     "output_type": "display_data"
    }
   ],
   "source": [
    "# Plot the function and its inverse \n",
    "p = plot(expr.rhs, (x, -2, 3), show = False, line_color='blue') # initial function in blue\n",
    "p2 = plot(res[0], (y, 8, 12), show = False, line_color='red') # inverse function in red\n",
    "p.extend(p2)\n",
    "p.show()"
   ]
  },
  {
   "cell_type": "markdown",
   "metadata": {},
   "source": [
    "### Power and square root\n",
    "\n",
    "#### Expand each expression\n",
    "\n",
    "1. \n",
    "\n",
    "$$\n",
    "\\begin{aligned} (u + 3v)^2 &= (u + 3v)(u + 3v) \\\\\n",
    "&= u^2 + 3uv + 3vu + 9v^2  \\\\\n",
    "&= u^2 + 6uv + 9v^2\n",
    "\\end{aligned}\n",
    "$$\n",
    "\n",
    "☝️ _**Or just use the famous remarkable identity : $(a+b)^2 = a^2 + 2ab + b^2$**_ 😉\n",
    "\n",
    "*Checking result with python's sympy library* 🤓"
   ]
  },
  {
   "cell_type": "code",
   "execution_count": 26,
   "metadata": {},
   "outputs": [
    {
     "data": {
      "text/latex": [
       "$\\displaystyle u^{2} + 6 u v + 9 v^{2}$"
      ],
      "text/plain": [
       "u**2 + 6*u*v + 9*v**2"
      ]
     },
     "execution_count": 26,
     "metadata": {},
     "output_type": "execute_result"
    }
   ],
   "source": [
    "# Create u, v symbols\n",
    "u, v = symbols('u, v', real = True)\n",
    "# Create expression \n",
    "expr = (u + 3*v)**2\n",
    "# Expand expression\n",
    "expand(expr)"
   ]
  },
  {
   "cell_type": "markdown",
   "metadata": {},
   "source": [
    "2. \n",
    "\n",
    "$$\n",
    "\\begin{aligned} (4u)^3 &= 4^3u^3 \\\\\n",
    "&= 64u^3 \n",
    "\\end{aligned}\n",
    "$$\n",
    "\n",
    "*Checking result with python's sympy library* 🤓"
   ]
  },
  {
   "cell_type": "code",
   "execution_count": 27,
   "metadata": {},
   "outputs": [
    {
     "data": {
      "text/latex": [
       "$\\displaystyle 64 u^{3}$"
      ],
      "text/plain": [
       "64*u**3"
      ]
     },
     "execution_count": 27,
     "metadata": {},
     "output_type": "execute_result"
    }
   ],
   "source": [
    "# Create u symbol\n",
    "u = symbols('u', real = True)\n",
    "# Create expression \n",
    "expr = (4*u)**3\n",
    "# Expand expression\n",
    "expand(expr)"
   ]
  },
  {
   "cell_type": "markdown",
   "metadata": {},
   "source": [
    "3. \n",
    "\n",
    "$$\n",
    "\\begin{aligned} (2u - v)^3 &= (2u - v)(2u - v)^2 \\\\\n",
    "&= (2u - v)(4u^2 - 4uv +v^2) \\\\\n",
    "&= 8u^3 - 8u^2v + 2uv^2 - 4u^2v + 4 uv^2 - v^3 \\\\\n",
    "&= 8u^3 - 12u^2v + 6uv^2 - v^3\n",
    "\\end{aligned}\n",
    "$$\n",
    "\n",
    "☝️ _**In the solution above, we used the remarkable identity : $(a-b)^2 = a^2 - 2ab + b^2$**_ 😉\n",
    "\n",
    "*Checking result with python's sympy library* 🤓"
   ]
  },
  {
   "cell_type": "code",
   "execution_count": 28,
   "metadata": {},
   "outputs": [
    {
     "data": {
      "text/latex": [
       "$\\displaystyle 8 u^{3} - 12 u^{2} v + 6 u v^{2} - v^{3}$"
      ],
      "text/plain": [
       "8*u**3 - 12*u**2*v + 6*u*v**2 - v**3"
      ]
     },
     "execution_count": 28,
     "metadata": {},
     "output_type": "execute_result"
    }
   ],
   "source": [
    "# Create u, v symbols\n",
    "u, v = symbols('u, v', real = True)\n",
    "# Create expression \n",
    "expr = (2*u - v)**3\n",
    "# Expand expression\n",
    "expand(expr)"
   ]
  },
  {
   "cell_type": "markdown",
   "metadata": {},
   "source": [
    "4. \n",
    "\n",
    "$$\n",
    "\\begin{aligned} \\sqrt{9u} &= \\sqrt{9}\\sqrt{u} \\\\\n",
    "&= 3\\sqrt{u} \n",
    "\\end{aligned}\n",
    "$$\n",
    "\n",
    "*Checking result with python's sympy library* 🤓"
   ]
  },
  {
   "cell_type": "code",
   "execution_count": 29,
   "metadata": {},
   "outputs": [
    {
     "data": {
      "text/latex": [
       "$\\displaystyle 3 \\sqrt{u}$"
      ],
      "text/plain": [
       "3*sqrt(u)"
      ]
     },
     "execution_count": 29,
     "metadata": {},
     "output_type": "execute_result"
    }
   ],
   "source": [
    "# Create u symbol\n",
    "u = symbols('u', real = True)\n",
    "# Create expression \n",
    "expr = sqrt(9*u)\n",
    "# Expand expression\n",
    "expand(expr)"
   ]
  },
  {
   "cell_type": "markdown",
   "metadata": {},
   "source": [
    "#### Find the inverse of each function\n",
    "\n",
    "1. $y = 2x^3$\n",
    "2. $y = \\sqrt{3x + 1}$\n",
    "3. $y = \\sqrt[3]{x + 2}$\n",
    "\n",
    "\n",
    "1. \n",
    "\n",
    "$$\n",
    "\\begin{aligned} y &= 2x^2 \\\\\n",
    "\\iff \\frac{y}{2} &= x^2 \\\\\n",
    "\\iff x &= \\sqrt{\\frac{y}{2}}\n",
    "\\end{aligned}\n",
    "$$\n",
    "\n",
    "☝️ _**The equation $x^2 = a$ has two solutions : $x = \\sqrt{a}$ or $x = -\\sqrt{a}$**_\n",
    "\n",
    "_**BUT x and y must be real positive numbers, so we keep only the first solution**_ \n",
    "\n",
    "*Checking result with python's sympy library* 🤓"
   ]
  },
  {
   "cell_type": "code",
   "execution_count": 30,
   "metadata": {},
   "outputs": [
    {
     "name": "stdout",
     "output_type": "stream",
     "text": [
      "[sqrt(2)*sqrt(y)/2]\n"
     ]
    }
   ],
   "source": [
    "# Create x, y variables\n",
    "x, y = symbols(\"x y\", real = True, positive = True) # real positive values\n",
    "# Create equation y = f(x)\n",
    "expr = Eq(y, 2*x**2)\n",
    "# Output expression x = f(y)\n",
    "res = solve(expr, x)\n",
    "print(res)"
   ]
  },
  {
   "cell_type": "code",
   "execution_count": 31,
   "metadata": {},
   "outputs": [
    {
     "data": {
      "image/png": "[encoded data removed]",
      "text/plain": [
       "<Figure size 432x288 with 1 Axes>"
      ]
     },
     "metadata": {
      "needs_background": "light"
     },
     "output_type": "display_data"
    }
   ],
   "source": [
    "# Plot the function and its inverse \n",
    "p = plot(expr.rhs, (x, -5, 5), show = False, line_color='blue') # initial function in blue\n",
    "p2 = plot(res[0], (y, 0, 10), show = False, line_color='red') # inverse function in red\n",
    "p.extend(p2)\n",
    "p.show()"
   ]
  },
  {
   "cell_type": "markdown",
   "metadata": {},
   "source": [
    "2. \n",
    "   \n",
    "$$\n",
    "\\begin{aligned} y = \\sqrt{3x + 1} \\\\\n",
    "\\iff y^2 &= 3x + 1 \\\\\n",
    "\\iff x &= \\frac{y^2 - 1}{3}\n",
    "\\end{aligned}\n",
    "$$\n",
    "\n",
    "*Checking result with python's sympy library* 🤓"
   ]
  },
  {
   "cell_type": "code",
   "execution_count": 32,
   "metadata": {},
   "outputs": [
    {
     "name": "stdout",
     "output_type": "stream",
     "text": [
      "[y**2/3 - 1/3]\n"
     ]
    }
   ],
   "source": [
    "# Create x, y variables\n",
    "x, y = symbols(\"x y\", real = True, positive = True) # real positive values\n",
    "# Create equation y = f(x)\n",
    "expr = Eq(y, sqrt(3*x + 1))\n",
    "# Output expression x = f(y)\n",
    "res = solve(expr, x)\n",
    "print(res)"
   ]
  },
  {
   "cell_type": "code",
   "execution_count": 33,
   "metadata": {},
   "outputs": [
    {
     "data": {
      "image/png": "[encoded data removed]",
      "text/plain": [
       "<Figure size 432x288 with 1 Axes>"
      ]
     },
     "metadata": {
      "needs_background": "light"
     },
     "output_type": "display_data"
    }
   ],
   "source": [
    "# Plot the function and its inverse \n",
    "p = plot(expr.rhs, (x, 0, 10), show = False, line_color='blue') # initial function in blue\n",
    "p2 = plot(res[0], (y, -5, 5), show = False, line_color='red') # inverse function in red\n",
    "p.extend(p2)\n",
    "p.show()"
   ]
  },
  {
   "cell_type": "markdown",
   "metadata": {},
   "source": [
    "3. \n",
    "\n",
    "$$\n",
    "\\begin{aligned} y = \\sqrt[3]{x + 2} \\\\\n",
    "\\iff y^3 &= x + 2 \\\\\n",
    "\\iff x &= y^3 - 2\n",
    "\\end{aligned}\n",
    "$$\n",
    "\n",
    "*Checking result with python's sympy library* 🤓"
   ]
  },
  {
   "cell_type": "code",
   "execution_count": 34,
   "metadata": {},
   "outputs": [
    {
     "name": "stdout",
     "output_type": "stream",
     "text": [
      "[y**3 - 2]\n"
     ]
    }
   ],
   "source": [
    "# Create x, y variables\n",
    "x, y = symbols(\"x y\", real = True, positive = True) # real positive values\n",
    "# Create equation y = f(x)\n",
    "expr = Eq(y, cbrt(x + 2)) # cbrt() is the cubic root function in sympy \n",
    "# Output expression x = f(y)\n",
    "res = solve(expr, x)\n",
    "print(res)"
   ]
  },
  {
   "cell_type": "code",
   "execution_count": 35,
   "metadata": {},
   "outputs": [
    {
     "data": {
      "image/png": "[encoded data removed]",
      "text/plain": [
       "<Figure size 432x288 with 1 Axes>"
      ]
     },
     "metadata": {
      "needs_background": "light"
     },
     "output_type": "display_data"
    }
   ],
   "source": [
    "# Plot the function and its inverse \n",
    "p = plot(expr.rhs, (x, 0, 6), show = False, line_color='blue') # initial function in blue\n",
    "p2 = plot(res[0], (y, -2, 2), show = False, line_color='red') # inverse function in red\n",
    "p.extend(p2)\n",
    "p.show()"
   ]
  },
  {
   "cell_type": "markdown",
   "metadata": {},
   "source": [
    "### Derivatives\n",
    "\n",
    "#### Find the derivative of each function (easy ones 🤗)\n",
    "\n",
    "_For each function $f(x)$, compute $f'(x) \\equiv \\frac{df}{dx}$ (derivative of $f$ with respect to $x$) :_\n",
    "\n",
    "1. \n",
    "\n",
    "$$\n",
    "\\begin{aligned} f(x) &= 4x - 1 \\\\\n",
    "\\iff f'(x) &= 4\n",
    "\\end{aligned}\n",
    "$$\n",
    "\n",
    "*Checking result with python's sympy library* 🤓"
   ]
  },
  {
   "cell_type": "code",
   "execution_count": 36,
   "metadata": {},
   "outputs": [
    {
     "name": "stdout",
     "output_type": "stream",
     "text": [
      "4\n"
     ]
    }
   ],
   "source": [
    "# Create x variable\n",
    "x = symbols(\"x\", real = True) \n",
    "# Create expression of function f(x)\n",
    "expr = 4*x -1\n",
    "# Compute derivative of expr with respect to x\n",
    "res = diff(expr, x)\n",
    "print(res)"
   ]
  },
  {
   "cell_type": "code",
   "execution_count": 37,
   "metadata": {},
   "outputs": [
    {
     "data": {
      "image/png": "[encoded data removed]",
      "text/plain": [
       "<Figure size 432x288 with 1 Axes>"
      ]
     },
     "metadata": {
      "needs_background": "light"
     },
     "output_type": "display_data"
    }
   ],
   "source": [
    "# Plot the function and its derivative \n",
    "p = plot(expr, (x, -5, 5), show = False, line_color='blue') # function in blue\n",
    "p2 = plot(res, (x, -5, 5), show = False, line_color='red') # derivative in red\n",
    "p.extend(p2)\n",
    "p.show()"
   ]
  },
  {
   "cell_type": "markdown",
   "metadata": {},
   "source": [
    "2. \n",
    "\n",
    "$$\n",
    "\\begin{aligned} f(x) &= x^2 + 3x + 1 \\\\\n",
    "\\iff f'(x) &= 2x + 3\n",
    "\\end{aligned}\n",
    "$$\n",
    "\n",
    "*Checking result with python's sympy library* 🤓"
   ]
  },
  {
   "cell_type": "code",
   "execution_count": 38,
   "metadata": {},
   "outputs": [
    {
     "name": "stdout",
     "output_type": "stream",
     "text": [
      "2*x + 3\n"
     ]
    }
   ],
   "source": [
    "# Create x variable\n",
    "x = symbols(\"x\", real = True) \n",
    "# Create expression of function f(x)\n",
    "expr = x**2 + 3*x +1\n",
    "# Compute derivative of expr with respect to x\n",
    "res = diff(expr, x)\n",
    "print(res)"
   ]
  },
  {
   "cell_type": "code",
   "execution_count": 39,
   "metadata": {
    "scrolled": true
   },
   "outputs": [
    {
     "data": {
      "image/png": "[encoded data removed]",
      "text/plain": [
       "<Figure size 432x288 with 1 Axes>"
      ]
     },
     "metadata": {
      "needs_background": "light"
     },
     "output_type": "display_data"
    }
   ],
   "source": [
    "# Plot the function and its derivative \n",
    "p = plot(expr, (x, -5, 5), show = False, line_color='blue') # function in blue\n",
    "p2 = plot(res, (x, -5, 5), show = False, line_color='red') # derivative in red\n",
    "p.extend(p2)\n",
    "p.show()"
   ]
  },
  {
   "cell_type": "markdown",
   "metadata": {},
   "source": [
    "3. \n",
    "   \n",
    "$$\n",
    "\\begin{aligned} f(x) &=  -e^{x}\\\\\n",
    "\\iff f'(x) &= -e^{x}\n",
    "\\end{aligned}\n",
    "$$\n",
    "\n",
    "*Checking result with python's sympy library* 🤓"
   ]
  },
  {
   "cell_type": "code",
   "execution_count": 40,
   "metadata": {},
   "outputs": [
    {
     "name": "stdout",
     "output_type": "stream",
     "text": [
      "-exp(x)\n"
     ]
    }
   ],
   "source": [
    "# Create x variable\n",
    "x = symbols(\"x\", real = True) \n",
    "# Create expression of function f(x)\n",
    "expr = -exp(x)\n",
    "# Compute derivative of expr with respect to x\n",
    "res = diff(expr, x)\n",
    "print(res)"
   ]
  },
  {
   "cell_type": "code",
   "execution_count": 41,
   "metadata": {},
   "outputs": [
    {
     "data": {
      "image/png": "[encoded data removed]",
      "text/plain": [
       "<Figure size 432x288 with 1 Axes>"
      ]
     },
     "metadata": {
      "needs_background": "light"
     },
     "output_type": "display_data"
    }
   ],
   "source": [
    "# Plot the function and its derivative \n",
    "p = plot(expr, (x, -5, 5), show = False, line_color='blue') # function in blue\n",
    "p2 = plot(res, (x, -5, 5), show = False, line_color='red') # derivative in red\n",
    "p.extend(p2)\n",
    "p.show()"
   ]
  },
  {
   "cell_type": "markdown",
   "metadata": {},
   "source": [
    "4. \n",
    "\n",
    "$$\n",
    "\\begin{aligned} f(x) &=  3ln(x) + 5\\\\\n",
    "\\iff f'(x) &= \\frac{3}{x}\n",
    "\\end{aligned}\n",
    "$$\n",
    "\n",
    "*Checking result with python's sympy library* 🤓"
   ]
  },
  {
   "cell_type": "code",
   "execution_count": 42,
   "metadata": {},
   "outputs": [
    {
     "name": "stdout",
     "output_type": "stream",
     "text": [
      "3/x\n"
     ]
    }
   ],
   "source": [
    "# Create x variable\n",
    "x = symbols(\"x\", real = True) \n",
    "# Create expression of function f(x)\n",
    "expr = 3*log(x) + 5\n",
    "# Compute derivative of expr with respect to x\n",
    "res = diff(expr, x)\n",
    "print(res)"
   ]
  },
  {
   "cell_type": "code",
   "execution_count": 43,
   "metadata": {},
   "outputs": [
    {
     "data": {
      "image/png": "[encoded data removed]",
      "text/plain": [
       "<Figure size 432x288 with 1 Axes>"
      ]
     },
     "metadata": {
      "needs_background": "light"
     },
     "output_type": "display_data"
    }
   ],
   "source": [
    "# Plot the function and its derivative \n",
    "p = plot(expr, (x, 0.1, 5), show = False, line_color='blue') # function in blue\n",
    "p2 = plot(res, (x, 0.1, 5), show = False, line_color='red') # derivative in red\n",
    "p.extend(p2)\n",
    "p.show()"
   ]
  },
  {
   "cell_type": "markdown",
   "metadata": {},
   "source": [
    "5. \n",
    "\n",
    "$$\n",
    "\\begin{aligned} f(x) &=  \\frac{\\sqrt{x}}{2} + x \\\\\n",
    "\\iff f(x) &=  \\frac{1}{2}\\sqrt{x} + x \\\\\n",
    "\\iff f'(x) &= \\frac{1}{2}\\frac{1}{2\\sqrt{x}}+ 1 \\\\\n",
    "\\iff f'(x) &= \\frac{1}{4\\sqrt{x}}+ 1\n",
    "\\end{aligned}\n",
    "$$\n",
    "\n",
    "\n",
    "*Checking result with python's sympy library* 🤓"
   ]
  },
  {
   "cell_type": "code",
   "execution_count": 44,
   "metadata": {},
   "outputs": [
    {
     "name": "stdout",
     "output_type": "stream",
     "text": [
      "1 + 1/(4*sqrt(x))\n"
     ]
    }
   ],
   "source": [
    "# Create x variable\n",
    "x = symbols(\"x\", real = True) \n",
    "# Create expression of function f(x)\n",
    "expr = sqrt(x)/2 + x\n",
    "# Compute derivative of expr with respect to x\n",
    "res = diff(expr, x)\n",
    "print(res)"
   ]
  },
  {
   "cell_type": "code",
   "execution_count": 45,
   "metadata": {},
   "outputs": [
    {
     "data": {
      "image/png": "[encoded data removed]",
      "text/plain": [
       "<Figure size 432x288 with 1 Axes>"
      ]
     },
     "metadata": {
      "needs_background": "light"
     },
     "output_type": "display_data"
    }
   ],
   "source": [
    "# Plot the function and its derivative \n",
    "p = plot(expr, (x, 0, 5), show = False, line_color='blue') # function in blue\n",
    "p2 = plot(res, (x, 0.1, 5), show = False, line_color='red') # derivative in red\n",
    "p.extend(p2)\n",
    "p.show()"
   ]
  },
  {
   "cell_type": "markdown",
   "metadata": {},
   "source": [
    "6. \n",
    "\n",
    "$$\n",
    "\\begin{aligned} f(x) &=  \\cos(x) + 3\\sin(x)\\\\\n",
    "\\iff f'(x) &= -\\sin(x) + 3\\cos(x)\n",
    "\\end{aligned}\n",
    "$$\n",
    "\n",
    "*Checking result with python's sympy library* 🤓"
   ]
  },
  {
   "cell_type": "code",
   "execution_count": 46,
   "metadata": {},
   "outputs": [
    {
     "name": "stdout",
     "output_type": "stream",
     "text": [
      "-sin(x) + 3*cos(x)\n"
     ]
    }
   ],
   "source": [
    "# Create x variable\n",
    "x = symbols(\"x\", real = True) \n",
    "# Create expression of function f(x)\n",
    "expr = cos(x) + 3*sin(x)\n",
    "# Compute derivative of expr with respect to x\n",
    "res = diff(expr, x)\n",
    "print(res)"
   ]
  },
  {
   "cell_type": "code",
   "execution_count": 47,
   "metadata": {},
   "outputs": [
    {
     "data": {
      "image/png": "[encoded data removed]",
      "text/plain": [
       "<Figure size 432x288 with 1 Axes>"
      ]
     },
     "metadata": {
      "needs_background": "light"
     },
     "output_type": "display_data"
    }
   ],
   "source": [
    "# Plot the function and its derivative \n",
    "p = plot(expr, (x, -5, 5), show = False, line_color='blue') # function in blue\n",
    "p2 = plot(res, (x, -5, 5), show = False, line_color='red') # derivative in red\n",
    "p.extend(p2)\n",
    "p.show()"
   ]
  },
  {
   "cell_type": "markdown",
   "metadata": {},
   "source": [
    "7. \n",
    "   \n",
    "$$\n",
    "\\begin{aligned} f(x) &=  2e^{x} - \\frac{ln{x}}{3} + \\sin(x) + 2x + 1\\\\\n",
    "\\iff f'(x) &= 2e^{x} - \\frac{1}{3x} + \\cos(x) + 2\n",
    "\\end{aligned}\n",
    "$$\n",
    "\n",
    "*Checking result with python's sympy library* 🤓"
   ]
  },
  {
   "cell_type": "code",
   "execution_count": 48,
   "metadata": {},
   "outputs": [
    {
     "name": "stdout",
     "output_type": "stream",
     "text": [
      "2*exp(x) + cos(x) + 2 - 1/(3*x)\n"
     ]
    }
   ],
   "source": [
    "# Create x variable\n",
    "x = symbols(\"x\", real = True) \n",
    "# Create expression of function f(x)\n",
    "expr = 2*exp(x) - ln(x)/3 + sin(x) + 2*x + 1\n",
    "# Compute derivative of expr with respect to x\n",
    "res = diff(expr, x)\n",
    "print(res)"
   ]
  },
  {
   "cell_type": "code",
   "execution_count": 49,
   "metadata": {},
   "outputs": [
    {
     "data": {
      "image/png": "[encoded data removed]",
      "text/plain": [
       "<Figure size 432x288 with 1 Axes>"
      ]
     },
     "metadata": {
      "needs_background": "light"
     },
     "output_type": "display_data"
    }
   ],
   "source": [
    "# Plot the function and its derivative \n",
    "p = plot(expr, (x, 0.1, 5), show = False, line_color='blue') # function in blue\n",
    "p2 = plot(res, (x, 0.1, 5), show = False, line_color='red') # derivative in red\n",
    "p.extend(p2)\n",
    "p.show()"
   ]
  },
  {
   "cell_type": "markdown",
   "metadata": {},
   "source": [
    "####  Find the derivative of each function (product and ratios of common functions 💪)\n",
    "\n",
    "1. $f(x) = (x^2+5)e^x$\n",
    "2. $f(x) = \\frac{4x + 1}{x^2}$\n",
    "3. $f(x) = \\sin(x)(1 + e^x)$\n",
    "4. $f(x) = -\\frac{\\ln{x}}{\\sin(x) - 1}$\n",
    "\n",
    "1. \n",
    "\n",
    "$$\n",
    "\\begin{aligned} f(x) &= (x^2+5)e^x\\\\\n",
    "\\end{aligned}\n",
    "$$\n",
    "\n",
    "Considering $u$ and $v$ and their respectives derivatives $u'$ and $v'$ :\n",
    "\n",
    "$$ \n",
    "\\begin{aligned} u &= x^2+5\\\\\n",
    "v &= e^x \\\\\n",
    "u' &= 2x\\\\\n",
    "v' &= e^x \n",
    "\\end{aligned}\n",
    "$$\n",
    "\n",
    "We have:\n",
    "\n",
    "$$\n",
    "\\begin{aligned} f(x) &= uv\\\\\n",
    "\\end{aligned}\n",
    "$$\n",
    "\n",
    "By applying the rule $(uv)' = u'v + uv'$, we get :\n",
    "\n",
    "$$\n",
    "\\begin{aligned} f'(x) &= 2x e^x + (x^2 + 5)e^x\\\\\n",
    "\\end{aligned}\n",
    "$$\n",
    "\n",
    "\n",
    "*Checking result with python's sympy library* 🤓"
   ]
  },
  {
   "cell_type": "code",
   "execution_count": 50,
   "metadata": {},
   "outputs": [
    {
     "name": "stdout",
     "output_type": "stream",
     "text": [
      "2*x*exp(x) + (x**2 + 5)*exp(x)\n"
     ]
    }
   ],
   "source": [
    "# Create x variable\n",
    "x = symbols(\"x\", real = True) \n",
    "# Create expression of function f(x)\n",
    "expr = (x**2 + 5)*exp(x)\n",
    "# Compute derivative of expr with respect to x\n",
    "res = diff(expr, x)\n",
    "print(res)"
   ]
  },
  {
   "cell_type": "code",
   "execution_count": 51,
   "metadata": {},
   "outputs": [
    {
     "data": {
      "image/png": "[encoded data removed]",
      "text/plain": [
       "<Figure size 432x288 with 1 Axes>"
      ]
     },
     "metadata": {
      "needs_background": "light"
     },
     "output_type": "display_data"
    }
   ],
   "source": [
    "# Plot the function and its derivative \n",
    "p = plot(expr, (x, -5, 5), show = False, line_color='blue') # function in blue\n",
    "p2 = plot(res, (x, -5, 5), show = False, line_color='red') # derivative in red\n",
    "p.extend(p2)\n",
    "p.show()"
   ]
  },
  {
   "cell_type": "markdown",
   "metadata": {},
   "source": [
    "2. \n",
    "\n",
    "$$\n",
    "\\begin{aligned} f(x) &= \\frac{4x + 1}{x^2} \\\\\n",
    "\\end{aligned}\n",
    "$$\n",
    "\n",
    "Considering $u$ and $v$ and their respectives derivatives $u'$ and $v'$ :\n",
    "\n",
    "$$ \n",
    "\\begin{aligned} u &= 4x + 1\\\\\n",
    "v &= x^2 \\\\\n",
    "u' &= 4\\\\\n",
    "v' &= 2x \n",
    "\\end{aligned}\n",
    "$$\n",
    "\n",
    "We have:\n",
    "\n",
    "$$ \n",
    "\\begin{aligned} f(x) &= \\frac{u}{v}\\\\\n",
    "\\end{aligned}\n",
    "$$\n",
    "\n",
    "By applying the rule $(\\frac{u}{v})' = \\frac{u'v - uv'}{v^2}$, we get :\n",
    "\n",
    "$$\n",
    "\\begin{aligned} f'(x) &= \\frac{4x^2 - 2x(4x + 1)}{x^4} \\\\\n",
    "&= \\frac{4}{x^2} - \\frac{2(4x+1)}{x^3} \n",
    "\\end{aligned}\n",
    "$$\n",
    "\n",
    "\n",
    "*Checking result with python's sympy library* 🤓"
   ]
  },
  {
   "cell_type": "code",
   "execution_count": 52,
   "metadata": {},
   "outputs": [
    {
     "name": "stdout",
     "output_type": "stream",
     "text": [
      "4/x**2 - 2*(4*x + 1)/x**3\n"
     ]
    }
   ],
   "source": [
    "# Create x variable\n",
    "x = symbols(\"x\", real = True) \n",
    "# Create expression of function f(x)\n",
    "expr = (4*x + 1)/(x**2)\n",
    "# Compute derivative of expr with respect to x\n",
    "res = diff(expr, x)\n",
    "print(res)"
   ]
  },
  {
   "cell_type": "code",
   "execution_count": 53,
   "metadata": {},
   "outputs": [
    {
     "data": {
      "image/png": "[encoded data removed]",
      "text/plain": [
       "<Figure size 432x288 with 1 Axes>"
      ]
     },
     "metadata": {
      "needs_background": "light"
     },
     "output_type": "display_data"
    }
   ],
   "source": [
    "# Plot the function and its derivative \n",
    "p = plot(expr, (x, 0.2, 5), show = False, line_color='blue') # function in blue\n",
    "p2 = plot(res, (x, 0.2, 5), show = False, line_color='red') # derivative in red\n",
    "p.extend(p2)\n",
    "p.show()"
   ]
  },
  {
   "cell_type": "markdown",
   "metadata": {},
   "source": [
    "3. \n",
    "\n",
    "$$\n",
    "\\begin{aligned} f(x) &= \\sin(x)(1 + e^x)\\\\\n",
    "\\end{aligned}\n",
    "$$\n",
    "\n",
    "Considering $u$ and $v$ and their respectives derivatives $u'$ and $v'$ :\n",
    "\n",
    "$$ \n",
    "\\begin{aligned} u &= \\sin(x)\\\\\n",
    "v &= (1 + e^x) \\\\\n",
    "u' &= \\cos(x)\\\\\n",
    "v' &= e^x \n",
    "\\end{aligned}\n",
    "$$\n",
    "\n",
    "We have :\n",
    "\n",
    "$$\n",
    "\\begin{aligned} f(x) &= uv\\\\\n",
    "\\end{aligned}\n",
    "$$\n",
    "\n",
    "By applying the rule $(uv)' = u'v + uv'$, we get :\n",
    "\n",
    "$$\n",
    "\\begin{aligned} f'(x) &= \\cos(x) (1 + e^x) + \\sin(x)e^x\\\\\n",
    "\\end{aligned}\n",
    "$$\n",
    "\n",
    "\n",
    "*Checking result with python's sympy library* 🤓"
   ]
  },
  {
   "cell_type": "code",
   "execution_count": 54,
   "metadata": {},
   "outputs": [
    {
     "name": "stdout",
     "output_type": "stream",
     "text": [
      "(exp(x) + 1)*cos(x) + exp(x)*sin(x)\n"
     ]
    }
   ],
   "source": [
    "# Create x variable\n",
    "x = symbols(\"x\", real = True) \n",
    "# Create expression of function f(x)\n",
    "expr = sin(x)*(1 + exp(x))\n",
    "# Compute derivative of expr with respect to x\n",
    "res = diff(expr, x)\n",
    "print(res)"
   ]
  },
  {
   "cell_type": "code",
   "execution_count": 55,
   "metadata": {},
   "outputs": [
    {
     "data": {
      "image/png": "[encoded data removed]",
      "text/plain": [
       "<Figure size 432x288 with 1 Axes>"
      ]
     },
     "metadata": {
      "needs_background": "light"
     },
     "output_type": "display_data"
    }
   ],
   "source": [
    "# Plot the function and its derivative \n",
    "p = plot(expr, (x, -5, 10), show = False, line_color='blue') # function in blue\n",
    "p2 = plot(res, (x, -5, 10), show = False, line_color='red') # derivative in red\n",
    "p.extend(p2)\n",
    "p.show()"
   ]
  },
  {
   "cell_type": "markdown",
   "metadata": {},
   "source": [
    "4. \n",
    "\n",
    "$$\n",
    "\\begin{aligned} f(x) &= -\\frac{\\ln{x}}{\\sin(x) - 1} \\\\\n",
    "\\end{aligned}\n",
    "$$\n",
    "\n",
    "Considering $u$ and $v$ and their respectives derivatives $u'$ and $v'$ :\n",
    "\n",
    "$$\n",
    "\\begin{aligned} u &= \\ln(x) \\\\\n",
    "v &= \\sin(x) - 1 \\\\\n",
    "u' &= \\frac{1}{x}\\\\\n",
    "v' &= \\cos(x)\n",
    "\\end{aligned}\n",
    "$$\n",
    "\n",
    "We have :\n",
    "\n",
    "$$\n",
    "\\begin{aligned} f(x) &= \\frac{u}{v} \\\\\n",
    "\\end{aligned}\n",
    "$$\n",
    "\n",
    "By applying the rule $(\\frac{u}{v})' = \\frac{u'v - uv'}{v^2}$, we get :\n",
    "\n",
    "$$\n",
    "\\begin{aligned} f'(x) &= -\\frac{\\frac{\\sin(x) - 1}{x} - \\ln(x)\\cos(x)}{(\\sin(x) - 1)^2} \\\\\n",
    "&= \\frac{\\ln(x)\\cos(x)}{(\\sin(x) - 1)^2} - \\frac{\\frac{\\sin(x) - 1}{x}}{(\\sin(x) - 1)^2} \\\\\n",
    "&= \\frac{\\ln(x)\\cos(x)}{(\\sin(x) - 1)^2} - \\frac{1}{x(\\sin(x) - 1)}\n",
    "\\end{aligned}\n",
    "$$\n",
    "\n",
    "\n",
    "*Checking result with python's sympy library* 🤓"
   ]
  },
  {
   "cell_type": "code",
   "execution_count": 56,
   "metadata": {},
   "outputs": [
    {
     "name": "stdout",
     "output_type": "stream",
     "text": [
      "log(x)*cos(x)/(sin(x) - 1)**2 - 1/(x*(sin(x) - 1))\n"
     ]
    }
   ],
   "source": [
    "# Create x variable\n",
    "x = symbols(\"x\", real = True) \n",
    "# Create expression of function f(x)\n",
    "expr = - ln(x)/(sin(x)-1)\n",
    "# Compute derivative of expr with respect to x\n",
    "res = diff(expr, x)\n",
    "print(res)"
   ]
  },
  {
   "cell_type": "code",
   "execution_count": 57,
   "metadata": {},
   "outputs": [
    {
     "data": {
      "image/png": "[encoded data removed]",
      "text/plain": [
       "<Figure size 432x288 with 1 Axes>"
      ]
     },
     "metadata": {
      "needs_background": "light"
     },
     "output_type": "display_data"
    }
   ],
   "source": [
    "# Plot the function and its derivative \n",
    "p = plot(expr, (x, 2, 7), show = False, line_color='blue') # function in blue\n",
    "p2 = plot(res, (x, 2, 7), show = False, line_color='red') # derivative in red\n",
    "p.extend(p2)\n",
    "p.show()"
   ]
  },
  {
   "cell_type": "markdown",
   "metadata": {},
   "source": [
    "####  Find the derivative of each function (composition of common functions 🥵)\n",
    "\n",
    "1. \n",
    "\n",
    "$$\n",
    "\\begin{aligned} f(x) &= (3x+2)^2 \\\\\n",
    "\\end{aligned}\n",
    "$$\n",
    "\n",
    "Considering $g$ and $h$ and their respectives derivatives $g'(h) = \\frac{dg}{dh}$ and $h'(x) = \\frac{dh}{dx}$ :\n",
    "\n",
    "$$\n",
    "\\begin{aligned} g(h) &= h^2 \\\\\n",
    "h(x) &= 3x+2 \\\\\n",
    "g'(h) &= \\frac{dg}{dh} = 2h = 2(3x+2) \\\\\n",
    "h'(x) &= \\frac{dh}{dx} = 3\n",
    "\\end{aligned}\n",
    "$$\n",
    "\n",
    "We have :\n",
    "\n",
    "$$\n",
    "\\begin{aligned} f(x) &= g(h(x)) \\\\\n",
    "    \\iff f'(x) &= \\frac{df}{dx} = \\frac{d}{dx}g(h(x))\n",
    "\\end{aligned}\n",
    "$$\n",
    "\n",
    "By applying the chain rule $\\frac{d}{dx}g(h(x)) = \\frac{dg(h)}{dh}\\frac{dh(x)}{dx} = g'(h)h'(x)$, we get :\n",
    "\n",
    "$$\n",
    "\\begin{aligned} f'(x) &= g'(h)h'(x) \\\\\n",
    "&= 6(3x+2) \n",
    "\\end{aligned}\n",
    "$$\n",
    "\n",
    "\n",
    "*Checking result with python's sympy library* 🤓\n"
   ]
  },
  {
   "cell_type": "code",
   "execution_count": 58,
   "metadata": {},
   "outputs": [
    {
     "name": "stdout",
     "output_type": "stream",
     "text": [
      "18*x + 12\n"
     ]
    }
   ],
   "source": [
    "# Create x variable\n",
    "x = symbols(\"x\", real = True) \n",
    "# Create expression of function f(x)\n",
    "expr = (3*x+2)**2\n",
    "# Compute derivative of expr with respect to x\n",
    "res = diff(expr, x)\n",
    "print(res)"
   ]
  },
  {
   "cell_type": "code",
   "execution_count": 59,
   "metadata": {},
   "outputs": [
    {
     "data": {
      "image/png": "[encoded data removed]",
      "text/plain": [
       "<Figure size 432x288 with 1 Axes>"
      ]
     },
     "metadata": {
      "needs_background": "light"
     },
     "output_type": "display_data"
    }
   ],
   "source": [
    "# Plot the function and its derivative \n",
    "p = plot(expr, (x, -5, 5), show = False, line_color='blue') # function in blue\n",
    "p2 = plot(res, (x, -5, 5), show = False, line_color='red') # derivative in red\n",
    "p.extend(p2)\n",
    "p.show()"
   ]
  },
  {
   "cell_type": "markdown",
   "metadata": {},
   "source": [
    "2. \n",
    "\n",
    "$$\n",
    "\\begin{aligned} f(x) &= e^{(x-1)^2} \\\\\n",
    "\\end{aligned}\n",
    "$$\n",
    "\n",
    "Considering $g$ and $h$ and their respectives derivatives $g'(h) = \\frac{dg}{dh}$ and $h'(x) = \\frac{dh}{dx}$ :\n",
    "\n",
    "$$\n",
    "\\begin{aligned} g(h) &= e^h \\\\\n",
    "h(x) &= x^2 \\\\\n",
    "g'(h) &= \\frac{dg}{dh} = e^h = e^{x^2} \\\\\n",
    "h'(x) &= \\frac{dh}{dx} = 2x\n",
    "\\end{aligned}\n",
    "$$\n",
    "\n",
    "We have :\n",
    "\n",
    "$$\n",
    "\\begin{aligned} f(x) &= g(h(x)) \\\\\n",
    "    \\iff f'(x) &= \\frac{df}{dx} = \\frac{d}{dx}g(h(x))\n",
    "\\end{aligned}\n",
    "$$\n",
    "\n",
    "By applying the chain rule $\\frac{d}{dx}g(h(x)) = \\frac{dg(h)}{dh}\\frac{dh(x)}{dx} = g'(h)h'(x)$, we get:\n",
    "\n",
    "$$\n",
    "\\begin{aligned} f'(x) &= g'(h)h'(x) \\\\\n",
    "&=  2xe^{x^2}\n",
    "\\end{aligned}\n",
    "$$\n",
    "\n",
    "*Checking result with python's sympy library* 🤓"
   ]
  },
  {
   "cell_type": "code",
   "execution_count": 60,
   "metadata": {},
   "outputs": [
    {
     "name": "stdout",
     "output_type": "stream",
     "text": [
      "2*x*exp(x**2)\n"
     ]
    }
   ],
   "source": [
    "# Create x variable\n",
    "x = symbols(\"x\", real = True) \n",
    "# Create expression of function f(x)\n",
    "expr = exp(x**2)\n",
    "# Compute derivative of expr with respect to x\n",
    "res = diff(expr, x)\n",
    "print(res)"
   ]
  },
  {
   "cell_type": "code",
   "execution_count": 61,
   "metadata": {},
   "outputs": [
    {
     "data": {
      "image/png": "[encoded data removed]",
      "text/plain": [
       "<Figure size 432x288 with 1 Axes>"
      ]
     },
     "metadata": {
      "needs_background": "light"
     },
     "output_type": "display_data"
    }
   ],
   "source": [
    "# Plot the function and its derivative \n",
    "p = plot(expr, (x, -3, 3), show = False, line_color='blue') # function in blue\n",
    "p2 = plot(res, (x, -3, 3), show = False, line_color='red') # derivative in red\n",
    "p.extend(p2)\n",
    "p.show()"
   ]
  },
  {
   "cell_type": "markdown",
   "metadata": {},
   "source": [
    "3. \n",
    "\n",
    "$$\n",
    "\\begin{aligned} f(x) &= \\ln(3x - 5)  \\\\\n",
    "\\end{aligned}\n",
    "$$\n",
    "\n",
    "Considering $g$ and $h$ and their respectives derivatives $g'(h) = \\frac{dg}{dh}$ and $h'(x) = \\frac{dh}{dx}$ :\n",
    "\n",
    "$$\n",
    "\\begin{aligned} g(h) &= \\ln(h) \\\\\n",
    "h(x) &= 3x-5 \\\\\n",
    "g'(h) &= \\frac{dg}{dh} = \\frac{1}{h} = \\frac{1}{3x-5} \\\\\n",
    "h'(x) &= \\frac{dh}{dx} = 3\n",
    "\\end{aligned}\n",
    "$$\n",
    "\n",
    "We have:\n",
    "\n",
    "$$\n",
    "\\begin{aligned} f(x) &= g(h(x)) \\\\\n",
    "    \\iff f'(x) &= \\frac{df}{dx} = \\frac{d}{dx}g(h(x))\n",
    "\\end{aligned}\n",
    "$$\n",
    "\n",
    "By applying the chain rule $\\frac{d}{dx}g(h(x)) = \\frac{dg(h)}{dh}\\frac{dh(x)}{dx} = g'(h)h'(x)$, we get:\n",
    "\n",
    "$$\n",
    "\\begin{aligned} f'(x) &= g'(h)h'(x) \\\\\n",
    "&=  \\frac{3}{3x-5}\n",
    "\\end{aligned}\n",
    "$$\n",
    "\n",
    "*Checking result with python's sympy library* 🤓"
   ]
  },
  {
   "cell_type": "code",
   "execution_count": 62,
   "metadata": {},
   "outputs": [
    {
     "name": "stdout",
     "output_type": "stream",
     "text": [
      "3/(3*x - 5)\n"
     ]
    }
   ],
   "source": [
    "# Create x variable\n",
    "x = symbols(\"x\", real = True) \n",
    "# Create expression of function f(x)\n",
    "expr = ln(3*x-5)\n",
    "# Compute derivative of expr with respect to x\n",
    "res = diff(expr, x)\n",
    "print(res)"
   ]
  },
  {
   "cell_type": "code",
   "execution_count": 63,
   "metadata": {},
   "outputs": [
    {
     "data": {
      "image/png": "[encoded data removed]",
      "text/plain": [
       "<Figure size 432x288 with 1 Axes>"
      ]
     },
     "metadata": {
      "needs_background": "light"
     },
     "output_type": "display_data"
    }
   ],
   "source": [
    "# Plot the function and its derivative \n",
    "p = plot(expr, (x, 2, 10), show = False, line_color='blue') # function in blue\n",
    "p2 = plot(res, (x, 2, 10), show = False, line_color='red') # derivative in red\n",
    "p.extend(p2)\n",
    "p.show()"
   ]
  },
  {
   "cell_type": "markdown",
   "metadata": {},
   "source": [
    "4. \n",
    "\n",
    "$$\n",
    "\\begin{aligned} f(x) &= \\cos(\\frac{1}{x}) \\\\\n",
    "\\end{aligned}\n",
    "$$\n",
    "\n",
    "Considering $g$ and $h$ and their respectives derivatives $g'(h) = \\frac{dg}{dh}$ and $h'(x) = \\frac{dh}{dx}$:\n",
    "\n",
    "$$\n",
    "\\begin{aligned} g(h) &= \\cos(h) \\\\\n",
    "h(x) &= \\frac{1}{x} \\\\\n",
    "g'(h) &= \\frac{dg}{dh} = -\\sin(h) = -\\sin(\\frac{1}{x}) \\\\\n",
    "h'(x) &= \\frac{dh}{dx} = -\\frac{1}{x^2}\n",
    "\\end{aligned}\n",
    "$$\n",
    "\n",
    "We have :\n",
    "\n",
    "$$\n",
    "\\begin{aligned} f(x) &= g(h(x)) \\\\\n",
    "    \\iff f'(x) &= \\frac{df}{dx} = \\frac{d}{dx}g(h(x))\n",
    "\\end{aligned}\n",
    "$$\n",
    "\n",
    "By applying the chain rule $\\frac{d}{dx}g(h(x)) = \\frac{dg(h)}{dh}\\frac{dh(x)}{dx} = g'(h)h'(x)$, we get :\n",
    "\n",
    "$$\n",
    "\\begin{aligned} f'(x) &= g'(h)h'(x) \\\\\n",
    "&=  \\frac{\\sin(\\frac{1}{x})}{x^2}\n",
    "\\end{aligned}\n",
    "$$\n",
    "\n",
    "*Checking result with python's sympy library* 🤓"
   ]
  },
  {
   "cell_type": "code",
   "execution_count": 64,
   "metadata": {},
   "outputs": [
    {
     "name": "stdout",
     "output_type": "stream",
     "text": [
      "sin(1/x)/x**2\n"
     ]
    }
   ],
   "source": [
    "# Create x variable\n",
    "x = symbols(\"x\", real = True) \n",
    "# Create expression of function f(x)\n",
    "expr = cos(1/x)\n",
    "# Compute derivative of expr with respect to x\n",
    "res = diff(expr, x)\n",
    "print(res)"
   ]
  },
  {
   "cell_type": "code",
   "execution_count": 65,
   "metadata": {},
   "outputs": [
    {
     "data": {
      "image/png": "[encoded data removed]",
      "text/plain": [
       "<Figure size 432x288 with 1 Axes>"
      ]
     },
     "metadata": {
      "needs_background": "light"
     },
     "output_type": "display_data"
    }
   ],
   "source": [
    "# Plot the function and its derivative \n",
    "p = plot(expr, (x, 0.5, 5), show = False, line_color='blue') # function in blue\n",
    "p2 = plot(res, (x, 0.5, 5), show = False, line_color='red') # derivative in red\n",
    "p.extend(p2)\n",
    "p.show()"
   ]
  },
  {
   "cell_type": "markdown",
   "metadata": {},
   "source": [
    "#### Find all the partial derivatives of each function\n",
    "\n",
    "_For each function, find all the partial derivates with respect to all the function's variables. For example, if $f(x, y)$ is a function of two variables $x$ and $y$, you have to find the partial derivatives $\\frac{\\partial f}{\\partial x}$ and $\\frac{\\partial f}{\\partial y}$._\n",
    "\n",
    "1. $f(x, y) = 3x^2 + y^4$\n",
    "2. $f(x, y) = x^2 + 5x + y^2 - 3y + 2xy - 7$\n",
    "3. $f(x, y) = (y^5 +1)e^x$\n",
    "4. $f(x, y) = y\\ln(x) + y^2$\n",
    "5. $f(x, y) = \\frac{\\sin(x)}{\\cos(y)}$\n",
    "6. $f(x, y, z) = ze^{x^2+y^2}$\n",
    "\n",
    "1. \n",
    "\n",
    "$$\n",
    "\\begin{aligned} f(x, y) = 3x^2 + y^4 \\\\\n",
    "\\end{aligned}\n",
    "$$\n",
    "\n",
    "$$\n",
    "\\begin{aligned} \\frac{\\partial f}{\\partial x} = 6x \\\\\n",
    "\\end{aligned}\n",
    "$$\n",
    "\n",
    "$$\n",
    "\\begin{aligned} \\frac{\\partial f}{\\partial y} = 4y^3 \\\\\n",
    "\\end{aligned}\n",
    "$$\n",
    "\n",
    "*Checking result with python's sympy library* 🤓"
   ]
  },
  {
   "cell_type": "code",
   "execution_count": 66,
   "metadata": {},
   "outputs": [
    {
     "name": "stdout",
     "output_type": "stream",
     "text": [
      "6*x\n",
      "4*y**3\n"
     ]
    }
   ],
   "source": [
    "# Create x, y variables\n",
    "x, y = symbols(\"x, y\", real = True) \n",
    "# Create expression of function f(x)\n",
    "expr = 3*x**2 + y**4\n",
    "# Partial derivative of expr with respect to x\n",
    "print(diff(expr, x))\n",
    "# Partial derivative of expr with respect to y\n",
    "print(diff(expr, y))"
   ]
  },
  {
   "cell_type": "markdown",
   "metadata": {},
   "source": [
    "2. \n",
    "\n",
    "$$\n",
    "\\begin{aligned} f(x, y) = x^2 + 5x + y^2 - 3y + 2xy - 7 \\\\\n",
    "\\end{aligned}\n",
    "$$\n",
    "\n",
    "$$\n",
    "\\begin{aligned} \\frac{\\partial f}{\\partial x} &= 2x + 5 +2y  \\\\\n",
    "&= 2x + 2y + 5\n",
    "\\end{aligned}\n",
    "$$\n",
    "\n",
    "$$\n",
    "\\begin{aligned} \\frac{\\partial f}{\\partial y} &= 2y -3 + 2x  \\\\\n",
    "&= 2x + 2y -3  \\\\\n",
    "\\end{aligned}\n",
    "$$\n",
    "\n",
    "*Checking result with python's sympy library* 🤓"
   ]
  },
  {
   "cell_type": "code",
   "execution_count": 67,
   "metadata": {},
   "outputs": [
    {
     "name": "stdout",
     "output_type": "stream",
     "text": [
      "Partial derivative with respect to x : 2*x + 2*y + 5\n",
      "Partial derivative with respect to y : 2*x + 2*y - 3\n"
     ]
    }
   ],
   "source": [
    "# Create x, y variables\n",
    "x, y = symbols(\"x, y\", real = True) \n",
    "# Create expression of function f(x)\n",
    "expr = x**2 + 5*x + y**2 - 3*y + 2*x*y - 7\n",
    "# Partial derivative of expr with respect to x\n",
    "print(\"Partial derivative with respect to x :\", diff(expr, x))\n",
    "# Partial derivative of expr with respect to y\n",
    "print(\"Partial derivative with respect to y :\", diff(expr, y))"
   ]
  },
  {
   "cell_type": "markdown",
   "metadata": {},
   "source": [
    "3. \n",
    "\n",
    "$$\n",
    "\\begin{aligned} f(x, y) = (y^5 +1)e^x \\\\\n",
    "\\end{aligned}\n",
    "$$\n",
    "\n",
    "$$\n",
    "\\begin{aligned} \\frac{\\partial f}{\\partial x} = (y^5 + 1)e^x \\\\\n",
    "\\end{aligned}\n",
    "$$\n",
    "\n",
    "$$\n",
    "\\begin{aligned} \\frac{\\partial f}{\\partial y} = 5y^4e^x \\\\\n",
    "\\end{aligned}\n",
    "$$\n",
    "\n",
    "*Checking result with python's sympy library* 🤓"
   ]
  },
  {
   "cell_type": "code",
   "execution_count": 68,
   "metadata": {},
   "outputs": [
    {
     "name": "stdout",
     "output_type": "stream",
     "text": [
      "Partial derivative with respect to x : (y**5 + 1)*exp(x)\n",
      "Partial derivative with respect to y : 5*y**4*exp(x)\n"
     ]
    }
   ],
   "source": [
    "# Create x, y variables\n",
    "x, y = symbols(\"x, y\", real = True) \n",
    "# Create expression of function f(x)\n",
    "expr = (y**5 + 1)*exp(x)\n",
    "# Partial derivative of expr with respect to x\n",
    "print(\"Partial derivative with respect to x :\", diff(expr, x))\n",
    "# Partial derivative of expr with respect to y\n",
    "print(\"Partial derivative with respect to y :\", diff(expr, y))"
   ]
  },
  {
   "cell_type": "markdown",
   "metadata": {},
   "source": [
    "4. \n",
    "\n",
    "$$\n",
    "\\begin{aligned} f(x, y) = y\\ln(x) + y^2  \\\\\n",
    "\\end{aligned}\n",
    "$$\n",
    "\n",
    "$$\n",
    "\\begin{aligned} \\frac{\\partial f}{\\partial x} = \\frac{y}{x} \\\\\n",
    "\\end{aligned}\n",
    "$$\n",
    "\n",
    "$$\n",
    "\\begin{aligned} \\frac{\\partial f}{\\partial y} = \\ln(x) + 2y \\\\\n",
    "\\end{aligned}\n",
    "$$\n",
    "\n",
    "*Checking result with python's sympy library* 🤓"
   ]
  },
  {
   "cell_type": "code",
   "execution_count": 69,
   "metadata": {},
   "outputs": [
    {
     "name": "stdout",
     "output_type": "stream",
     "text": [
      "Partial derivative with respect to x : y/x\n",
      "Partial derivative with respect to y : 2*y + log(x)\n"
     ]
    }
   ],
   "source": [
    "# Create x, y variables\n",
    "x, y = symbols(\"x, y\", real = True) \n",
    "# Create expression of function f(x)\n",
    "expr = y*ln(x) + y**2\n",
    "# Partial derivative of expr with respect to x\n",
    "print(\"Partial derivative with respect to x :\", diff(expr, x))\n",
    "# Partial derivative of expr with respect to y\n",
    "print(\"Partial derivative with respect to y :\", diff(expr, y))"
   ]
  },
  {
   "cell_type": "markdown",
   "metadata": {},
   "source": [
    "5. \n",
    "\n",
    "$$\n",
    "\\begin{aligned} f(x, y) = \\frac{\\sin(x)}{\\cos(y)} \\\\\n",
    "\\end{aligned}\n",
    "$$\n",
    "\n",
    "$$\n",
    "\\begin{aligned} \\frac{\\partial f}{\\partial x} = \\frac{\\cos(x)}{\\cos(y)} \\\\\n",
    "\\end{aligned}\n",
    "$$\n",
    "\n",
    "$$\n",
    "\\begin{aligned} \\frac{\\partial f}{\\partial y} = \\sin(x) \\frac{\\partial}{\\partial y}\\frac{1}{\\cos(y)} \\\\\n",
    "\\end{aligned}\n",
    "$$\n",
    "\n",
    "Let's use the chain rule to find $\\frac{\\partial}{\\partial y}\\frac{1}{\\cos(y)}$ : \n",
    "\n",
    "Considering $g$ and $h$ and their respectives derivatives $\\frac{\\partial g}{\\partial h}$ and $\\frac{\\partial h}{\\partial y}$ :\n",
    "\n",
    "$$\n",
    "\\begin{aligned} g(h) &= \\frac{1}{h} \\\\\n",
    "h(y) &= \\cos(y) \\\\\n",
    "\\frac{\\partial g}{\\partial h} &= -\\frac{1}{h^2} = -\\frac{1}{\\cos^2(y)} \\\\\n",
    "\\frac{\\partial h}{\\partial y} &= -\\sin(y)\n",
    "\\end{aligned}\n",
    "$$\n",
    "\n",
    "We have :\n",
    "\n",
    "$$\n",
    "\\begin{aligned} \\frac{1}{\\cos(y)} &= g(h(y)) \\\\\n",
    "    \\iff \\frac{\\partial}{\\partial y}\\frac{1}{\\cos(y)} &= \\frac{\\partial }{\\partial y}g(h(y))\n",
    "\\end{aligned}\n",
    "$$\n",
    "\n",
    "By applying the chain rule $\\frac{\\partial }{\\partial y}g(h(y)) = \\frac{\\partial g(h)}{\\partial h}\\frac{\\partial h(y)}{\\partial y}$, we get :\n",
    "\n",
    "$$\n",
    "\\begin{aligned} \\frac{\\partial}{\\partial y}\\frac{1}{\\cos(y)} &= \\frac{\\partial g(h)}{\\partial h}\\frac{\\partial h(y)}{\\partial y} \\\\\n",
    "&=  \\frac{\\sin(y)}{\\cos^2(y)}\n",
    "\\end{aligned}\n",
    "$$\n",
    "\n",
    "Finally, by plugging $\\frac{\\partial}{\\partial y}\\frac{1}{\\cos(y)} = \\frac{\\sin(y)}{\\cos^2(y)}$, we find :\n",
    "\n",
    "$$\n",
    "\\begin{aligned} \\frac{\\partial f}{\\partial y} &= \\sin(x) \\frac{\\partial}{\\partial y}\\frac{1}{\\cos(y)} \\\\\n",
    "&=  \\frac{\\sin(x)\\sin(y)}{\\cos^2(y)}\n",
    "\\end{aligned}\n",
    "$$\n",
    "\n",
    "*Checking result with python's sympy library* 🤓"
   ]
  },
  {
   "cell_type": "code",
   "execution_count": 70,
   "metadata": {},
   "outputs": [
    {
     "name": "stdout",
     "output_type": "stream",
     "text": [
      "Partial derivative with respect to x : cos(x)/cos(y)\n",
      "Partial derivative with respect to y : sin(x)*sin(y)/cos(y)**2\n"
     ]
    }
   ],
   "source": [
    "# Create x, y variables\n",
    "x, y = symbols(\"x, y\", real = True) \n",
    "# Create expression of function f(x)\n",
    "expr = sin(x)/cos(y)\n",
    "# Partial derivative of expr with respect to x\n",
    "print(\"Partial derivative with respect to x :\", diff(expr, x))\n",
    "# Partial derivative of expr with respect to y\n",
    "print(\"Partial derivative with respect to y :\", diff(expr, y))"
   ]
  },
  {
   "cell_type": "markdown",
   "metadata": {},
   "source": [
    "6. \n",
    "\n",
    "$$\n",
    "\\begin{aligned} f(x, y, z) = ze^{x^2+y^2} \\\\\n",
    "\\end{aligned}\n",
    "$$\n",
    "\n",
    "$$\n",
    "\\begin{aligned} \\frac{\\partial f}{\\partial x} = z \\frac{\\partial}{\\partial x}e^{x^2 + y^2} \\\\\n",
    "\\end{aligned}\n",
    "$$\n",
    "\n",
    "Let's use the chain rule to find $\\frac{\\partial}{\\partial x}e^{x^2 + y^2}$ : \n",
    "\n",
    "Considering $g$ and $h$ and their respectives derivatives $\\frac{\\partial g}{\\partial h}$ and $\\frac{\\partial h}{\\partial x}$ :\n",
    "\n",
    "$$\n",
    "\\begin{aligned} g(h) &= e^h \\\\\n",
    "h(x, y) &= x^2 + y^2 \\\\\n",
    "\\frac{\\partial g}{\\partial h} &= e^h = e^{x^2 + y^2} \\\\\n",
    "\\frac{\\partial h}{\\partial x} &= 2x\n",
    "\\end{aligned}\n",
    "$$\n",
    "\n",
    "We have :\n",
    "\n",
    "$$\n",
    "\\begin{aligned} e^{x^2 + y^2} &= g(h(x, y)) \\\\\n",
    "    \\iff \\frac{\\partial}{\\partial x}e^{x^2 + y^2} &= \\frac{\\partial }{\\partial x}g(h(x, y))\n",
    "\\end{aligned}\n",
    "$$\n",
    "\n",
    "By applying the chain rule $\\frac{\\partial }{\\partial x}g(h(x, y)) = \\frac{\\partial g(h)}{\\partial h}\\frac{\\partial h(x, y)}{\\partial x}$, we get :\n",
    "\n",
    "$$\n",
    "\\begin{aligned} \\frac{\\partial}{\\partial x}e^{x^2 + y^2} &= \\frac{\\partial g}{\\partial h}\\frac{\\partial h}{\\partial x} \\\\\n",
    "&= 2xe^{x^2 + y^2}\n",
    "\\end{aligned}\n",
    "$$\n",
    "\n",
    "Finally, by plugging $\\frac{\\partial}{\\partial x}e^{x^2 + y^2} = 2xe^{x^2 + y^2}$, we find :\n",
    "\n",
    "$$\n",
    "\\begin{aligned} \\frac{\\partial f}{\\partial x} &= 2xze^{x^2 + y^2} \\\\\n",
    "\\end{aligned}\n",
    "$$\n",
    "\n",
    "The process for finding $\\frac{\\partial f}{\\partial y}$ is the same. We get :\n",
    "\n",
    "$$\n",
    "\\begin{aligned} \\frac{\\partial f}{\\partial y} = 2yze^{x^2 + y^2} \\\\\n",
    "\\end{aligned}\n",
    "$$\n",
    "\n",
    "Finally, the process for $\\frac{\\partial f}{\\partial z}$ is much easier :\n",
    "\n",
    "$$\n",
    "\\begin{aligned} \\frac{\\partial f}{\\partial z} = e^{x^2+y^2} \\\\\n",
    "\\end{aligned}\n",
    "$$\n",
    "\n",
    "*Checking result with python's sympy library* 🤓"
   ]
  },
  {
   "cell_type": "code",
   "execution_count": 71,
   "metadata": {},
   "outputs": [
    {
     "name": "stdout",
     "output_type": "stream",
     "text": [
      "Partial derivative with respect to x : 2*x*z*exp(x**2 + y**2)\n",
      "Partial derivative with respect to y : 2*y*z*exp(x**2 + y**2)\n",
      "Partial derivative with respect to z : exp(x**2 + y**2)\n"
     ]
    }
   ],
   "source": [
    "# Create x, y, z variables\n",
    "x, y, z = symbols(\"x, y, z\", real = True) \n",
    "# Create expression of function f(x)\n",
    "expr = z*exp(x**2 + y**2)\n",
    "# Partial derivative of expr with respect to x\n",
    "print(\"Partial derivative with respect to x :\", diff(expr, x))\n",
    "# Partial derivative of expr with respect to y\n",
    "print(\"Partial derivative with respect to y :\", diff(expr, y))\n",
    "print(\"Partial derivative with respect to z :\", diff(expr, z))"
   ]
  }
 ],
 "metadata": {
  "kernelspec": {
   "display_name": "Python 3",
   "language": "python",
   "name": "python3"
  },
  "language_info": {
   "codemirror_mode": {
    "name": "ipython",
    "version": 3
   },
   "file_extension": ".py",
   "mimetype": "text/x-python",
   "name": "python",
   "nbconvert_exporter": "python",
   "pygments_lexer": "ipython3",
   "version": "3.8.8"
  }
 },
 "nbformat": 4,
 "nbformat_minor": 4
}
