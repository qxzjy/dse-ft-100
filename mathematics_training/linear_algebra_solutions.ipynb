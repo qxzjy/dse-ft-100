{
 "cells": [
  {
   "cell_type": "markdown",
   "id": "cc66444a",
   "metadata": {},
   "source": [
    "# Linear algebra - Exercises' solutions"
   ]
  },
  {
   "cell_type": "markdown",
   "id": "f667c27a",
   "metadata": {},
   "source": [
    "## Operations with vectors and matrices\n",
    "\n",
    "### Vector operations\n",
    "\n",
    "1. Compute the sum $\\vec{u} + \\vec{v}$ of the following vectors : \n",
    "$$\n",
    "\\vec{u} = \n",
    "\\begin{bmatrix}\n",
    "2 \\\\\n",
    "9 \\\\\n",
    "-1\n",
    "\\end{bmatrix}\n",
    "$$\n",
    "$$\n",
    "\\vec{v} = \n",
    "\\begin{bmatrix}\n",
    "1 \\\\\n",
    "5 \\\\\n",
    "3\n",
    "\\end{bmatrix}\n",
    "$$"
   ]
  },
  {
   "cell_type": "markdown",
   "id": "2cd1e41d",
   "metadata": {},
   "source": [
    "$$\n",
    "\\vec{u} + \\vec{v} =\n",
    "\\begin{bmatrix}\n",
    "2 \\\\\n",
    "9 \\\\\n",
    "-1\n",
    "\\end{bmatrix}\n",
    "+\n",
    "\\begin{bmatrix}\n",
    "1 \\\\\n",
    "5 \\\\\n",
    "3\n",
    "\\end{bmatrix}\n",
    "= \n",
    "\\begin{bmatrix}\n",
    "2 + 1 \\\\\n",
    "9 + 5 \\\\\n",
    "-1 + 3\n",
    "\\end{bmatrix}\n",
    "= \n",
    "\\begin{bmatrix}\n",
    "3 \\\\\n",
    "14 \\\\\n",
    "2\n",
    "\\end{bmatrix}\n",
    "$$\n",
    "\n",
    "_**Checking the result with python's sympy library**_ 🤓\n",
    "\n",
    "*Python's sympy library is very handy to perform symbolic computation (i.e. computing the exact result of a mathematical expression or operation).*\n",
    "\n",
    "*To use sympy, you just have to execute once the cell below :*"
   ]
  },
  {
   "cell_type": "code",
   "execution_count": 1,
   "id": "e5de3269",
   "metadata": {},
   "outputs": [],
   "source": [
    "!pip install sympy --quiet\n",
    "from sympy import *\n",
    "init_printing(use_unicode=True)"
   ]
  },
  {
   "cell_type": "markdown",
   "id": "57f4c77e",
   "metadata": {},
   "source": [
    "*From now on, sympy's functions are available in this notebook and you can use them to check the solutions. For each computation, we'll show you an example code of how to use sympy to check your results. If you want to practice more, you can use sympy to get the solution for as many examples as you want* 😁\n",
    "\n",
    "*If you'd like to go further, sympy's documentation is available here :* https://docs.sympy.org/latest/tutorial/\n",
    "\n",
    "*Let's check the solution to question 1. :*"
   ]
  },
  {
   "cell_type": "code",
   "execution_count": 2,
   "id": "80e3b3dc",
   "metadata": {},
   "outputs": [
    {
     "data": {
      "text/latex": [
       "$\\displaystyle \\left[\\begin{matrix}3\\\\14\\\\2\\end{matrix}\\right]$"
      ],
      "text/plain": [
       "⎡3 ⎤\n",
       "⎢  ⎥\n",
       "⎢14⎥\n",
       "⎢  ⎥\n",
       "⎣2 ⎦"
      ]
     },
     "execution_count": 2,
     "metadata": {},
     "output_type": "execute_result"
    }
   ],
   "source": [
    "u = Matrix([2, 9, -1]) # define u\n",
    "v = Matrix([1, 5, 3]) # define v\n",
    "u + v # compute the sum"
   ]
  },
  {
   "cell_type": "markdown",
   "id": "643382d5",
   "metadata": {},
   "source": [
    "2. Compute the difference $\\vec{u} - \\vec{v}$ between the following vectors : \n",
    "$$\n",
    "\\vec{u} = \n",
    "\\begin{bmatrix}\n",
    "10 \\\\\n",
    "-2 \\\\\n",
    "1\n",
    "\\end{bmatrix}\n",
    "$$\n",
    "$$\n",
    "\\vec{v} = \n",
    "\\begin{bmatrix}\n",
    "4 \\\\\n",
    "3 \\\\\n",
    "2\n",
    "\\end{bmatrix}\n",
    "$$"
   ]
  },
  {
   "cell_type": "markdown",
   "id": "cf30f87c",
   "metadata": {},
   "source": [
    "$$\n",
    "\\begin{bmatrix}\n",
    "10 \\\\\n",
    "-2 \\\\\n",
    "1\n",
    "\\end{bmatrix} \n",
    "-\n",
    "\\begin{bmatrix}\n",
    "4 \\\\\n",
    "3 \\\\\n",
    "2\n",
    "\\end{bmatrix}\n",
    "=\n",
    "\\begin{bmatrix}\n",
    "10 - 4 \\\\\n",
    "-2 -3 \\\\\n",
    "1 -2\n",
    "\\end{bmatrix} \n",
    "=\n",
    "\\begin{bmatrix}\n",
    "6 \\\\\n",
    "-5 \\\\\n",
    "-1\n",
    "\\end{bmatrix} \n",
    "$$\n",
    "\n",
    "*Checking result with python's sympy library* 🤓"
   ]
  },
  {
   "cell_type": "code",
   "execution_count": 3,
   "id": "9a7261ab",
   "metadata": {},
   "outputs": [
    {
     "data": {
      "text/latex": [
       "$\\displaystyle \\left[\\begin{matrix}6\\\\-5\\\\-1\\end{matrix}\\right]$"
      ],
      "text/plain": [
       "⎡6 ⎤\n",
       "⎢  ⎥\n",
       "⎢-5⎥\n",
       "⎢  ⎥\n",
       "⎣-1⎦"
      ]
     },
     "execution_count": 3,
     "metadata": {},
     "output_type": "execute_result"
    }
   ],
   "source": [
    "u = Matrix([10, -2, 1]) # define u\n",
    "v = Matrix([4, 3, 2]) # define v\n",
    "u - v # compute the difference"
   ]
  },
  {
   "cell_type": "markdown",
   "id": "66320a8d",
   "metadata": {},
   "source": [
    "3. Compute : $\\alpha (\\vec{u} + \\vec{v})$ with $\\alpha = 4$ and :\n",
    "$$\n",
    "\\vec{u} = \n",
    "\\begin{bmatrix}\n",
    "1 \\\\\n",
    "-2 \\\\\n",
    "2\n",
    "\\end{bmatrix}\n",
    "$$\n",
    "$$\n",
    "\\vec{v} = \n",
    "\\begin{bmatrix}\n",
    "2 \\\\\n",
    "1 \\\\\n",
    "0\n",
    "\\end{bmatrix}\n",
    "$$"
   ]
  },
  {
   "cell_type": "markdown",
   "id": "54df6c54",
   "metadata": {},
   "source": [
    "$$\n",
    "\\alpha (\\vec{u} + \\vec{v})\n",
    "=\n",
    "4 \\times\n",
    "\\begin{bmatrix}\n",
    "1 + 2 \\\\\n",
    "-2 + 1 \\\\\n",
    "2 + 0\n",
    "\\end{bmatrix}\n",
    "= \n",
    "4 \\times\n",
    "\\begin{bmatrix}\n",
    "3 \\\\\n",
    "-1 \\\\\n",
    "2 \n",
    "\\end{bmatrix}\n",
    "=\n",
    "\\begin{bmatrix}\n",
    "4 \\times 3 \\\\\n",
    "4 \\times (-1) \\\\\n",
    "4 \\times 2 \n",
    "\\end{bmatrix}\n",
    "=\n",
    "\\begin{bmatrix}\n",
    "12 \\\\\n",
    "-4 \\\\\n",
    "8 \n",
    "\\end{bmatrix}\n",
    "$$\n",
    "\n",
    "*Checking result with python's sympy library* 🤓"
   ]
  },
  {
   "cell_type": "code",
   "execution_count": 4,
   "id": "2ced28ba",
   "metadata": {},
   "outputs": [
    {
     "data": {
      "text/latex": [
       "$\\displaystyle \\left[\\begin{matrix}12\\\\-4\\\\8\\end{matrix}\\right]$"
      ],
      "text/plain": [
       "⎡12⎤\n",
       "⎢  ⎥\n",
       "⎢-4⎥\n",
       "⎢  ⎥\n",
       "⎣8 ⎦"
      ]
     },
     "execution_count": 4,
     "metadata": {},
     "output_type": "execute_result"
    }
   ],
   "source": [
    "u = Matrix([1, -2, 2]) # define u\n",
    "v = Matrix([2, 1, 0]) # define v\n",
    "4*(u + v) # compute the operation"
   ]
  },
  {
   "cell_type": "markdown",
   "id": "5543030d",
   "metadata": {},
   "source": [
    "4. Compute the norms $\\Vert\\vec{u}\\Vert$ and $\\Vert\\vec{v}\\Vert$ with:\n",
    "$$\n",
    "\\vec{u}\n",
    "=\n",
    "\\begin{bmatrix}\n",
    "1 \\\\\n",
    "2 \\\\\n",
    "3 \\\\\n",
    "4 \\\\\n",
    "\\end{bmatrix}\n",
    "$$\n",
    "$$\n",
    "\\vec{v}\n",
    "=\n",
    "\\begin{bmatrix}\n",
    "-1 \\\\\n",
    "2 \\\\\n",
    "-3 \\\\\n",
    "4 \\\\\n",
    "\\end{bmatrix}\n",
    "$$"
   ]
  },
  {
   "cell_type": "markdown",
   "id": "e577c36b",
   "metadata": {},
   "source": [
    "$$\n",
    "\\Vert\\vec{u}\\Vert = \\sqrt{1^2 + 2^2 + 3^2 + 4^2} = \\sqrt{1 + 4 + 9 + 16} = \\sqrt{30}\n",
    "$$\n",
    "$$\n",
    "\\Vert\\vec{v}\\Vert = \\sqrt{(-1)^2 + 2^2 + (-3)^2 + 4^2} = \\sqrt{1 + 4 + 9 + 16} = \\sqrt{30}\n",
    "$$\n",
    "\n",
    "*Checking result with python's sympy library* 🤓"
   ]
  },
  {
   "cell_type": "code",
   "execution_count": 5,
   "id": "da524d10",
   "metadata": {},
   "outputs": [
    {
     "data": {
      "image/png": "[encoded data removed]",
      "text/latex": [
       "$\\displaystyle \\sqrt{30}$"
      ],
      "text/plain": [
       "√30"
      ]
     },
     "execution_count": 5,
     "metadata": {},
     "output_type": "execute_result"
    }
   ],
   "source": [
    "u = Matrix([1, 2, 3, 4]) # define u\n",
    "sqrt(u.dot(u)) # compute the norm"
   ]
  },
  {
   "cell_type": "code",
   "execution_count": 6,
   "id": "10c26725",
   "metadata": {},
   "outputs": [
    {
     "data": {
      "image/png": "[encoded data removed]",
      "text/latex": [
       "$\\displaystyle \\sqrt{30}$"
      ],
      "text/plain": [
       "√30"
      ]
     },
     "execution_count": 6,
     "metadata": {},
     "output_type": "execute_result"
    }
   ],
   "source": [
    "v = Matrix([-1, 2, -3, 4]) # define u\n",
    "sqrt(v.dot(v)) # compute the norm"
   ]
  },
  {
   "cell_type": "markdown",
   "id": "c57eb827",
   "metadata": {},
   "source": [
    "### Matrix operations"
   ]
  },
  {
   "cell_type": "markdown",
   "id": "b667e04c",
   "metadata": {},
   "source": [
    "5. Compute the sum $A + B$ of the two following matrices :\n",
    "$$\n",
    "A = \n",
    "\\begin{bmatrix}\n",
    "1 & 2 & 3 \\\\\n",
    "2 & 1 & 4 \\\\\n",
    "3 & 4 & 1\n",
    "\\end{bmatrix}\n",
    "$$\n",
    "$$\n",
    "B = \n",
    "\\begin{bmatrix}\n",
    "2 & 3 & 4 \\\\\n",
    "3 & 2 & 5 \\\\\n",
    "4 & 5 & 2\n",
    "\\end{bmatrix}\n",
    "$$"
   ]
  },
  {
   "cell_type": "markdown",
   "id": "a6aa0943",
   "metadata": {},
   "source": [
    "$$\n",
    "A + B\n",
    "=\n",
    "\\begin{bmatrix}\n",
    "1 & 2 & 3 \\\\\n",
    "2 & 1 & 4 \\\\\n",
    "3 & 4 & 1\n",
    "\\end{bmatrix}\n",
    "+\n",
    "\\begin{bmatrix}\n",
    "2 & 3 & 4 \\\\\n",
    "3 & 2 & 5 \\\\\n",
    "4 & 5 & 2\n",
    "\\end{bmatrix}\n",
    "=\n",
    "\\begin{bmatrix}\n",
    "1 + 2 & 2 + 3 & 3 + 4 \\\\\n",
    "2 + 3 & 1 + 2 & 4 + 5 \\\\\n",
    "3 + 4 & 4 + 5 & 1 + 2\n",
    "\\end{bmatrix}\n",
    "=\n",
    "\\begin{bmatrix}\n",
    "3 & 5 & 7 \\\\\n",
    "5 & 3 & 9 \\\\\n",
    "7 & 9 & 3\n",
    "\\end{bmatrix}\n",
    "$$\n",
    "\n",
    "*Checking result with python's sympy library* 🤓"
   ]
  },
  {
   "cell_type": "code",
   "execution_count": 7,
   "id": "d522caa7",
   "metadata": {},
   "outputs": [
    {
     "data": {
      "text/latex": [
       "$\\displaystyle \\left[\\begin{matrix}3 & 5 & 7\\\\5 & 3 & 9\\\\7 & 9 & 3\\end{matrix}\\right]$"
      ],
      "text/plain": [
       "⎡3  5  7⎤\n",
       "⎢       ⎥\n",
       "⎢5  3  9⎥\n",
       "⎢       ⎥\n",
       "⎣7  9  3⎦"
      ]
     },
     "execution_count": 7,
     "metadata": {},
     "output_type": "execute_result"
    }
   ],
   "source": [
    "A = Matrix([[1, 2, 3], [2, 1, 4], [3, 4, 1]]) # define A\n",
    "B = Matrix([[2, 3, 4], [3, 2, 5], [4, 5, 2]]) # define B\n",
    "A + B # compute the sum"
   ]
  },
  {
   "cell_type": "markdown",
   "id": "15e14752",
   "metadata": {},
   "source": [
    "6. Compute the operation $2A - B$ with:\n",
    "$$\n",
    "A = \n",
    "\\begin{bmatrix}\n",
    "1 & 2 & 3 \\\\\n",
    "2 & 1 & 4 \\\\\n",
    "3 & 4 & 1\n",
    "\\end{bmatrix}\n",
    "$$\n",
    "$$\n",
    "B = \n",
    "\\begin{bmatrix}\n",
    "2 & 3 & 4 \\\\\n",
    "3 & 2 & 5 \\\\\n",
    "4 & 5 & 2\n",
    "\\end{bmatrix}\n",
    "$$"
   ]
  },
  {
   "cell_type": "markdown",
   "id": "9fd5a6dd",
   "metadata": {},
   "source": [
    "$$\n",
    "2A - B = \n",
    "2 \\times \\begin{bmatrix}\n",
    "1 & 2 & 3 \\\\\n",
    "2 & 1 & 4 \\\\\n",
    "3 & 4 & 1\n",
    "\\end{bmatrix}\n",
    "-\n",
    "\\begin{bmatrix}\n",
    "2 & 3 & 4 \\\\\n",
    "3 & 2 & 5 \\\\\n",
    "4 & 5 & 2\n",
    "\\end{bmatrix}\n",
    "=\n",
    "\\begin{bmatrix}\n",
    "2 - 2 & 4 - 3 & 6 - 4 \\\\\n",
    "4 - 3 & 2 - 2 & 8 - 5 \\\\\n",
    "6 - 4 & 8 - 5 & 2 - 2\n",
    "\\end{bmatrix}\n",
    "=\n",
    "\\begin{bmatrix}\n",
    "0 & 1 & 2 \\\\\n",
    "1 & 0 & 3 \\\\\n",
    "2 & 3 & 0\n",
    "\\end{bmatrix}\n",
    "$$\n",
    "\n",
    "*Checking result with python's sympy library* 🤓"
   ]
  },
  {
   "cell_type": "code",
   "execution_count": 8,
   "id": "01c2f7ab",
   "metadata": {},
   "outputs": [
    {
     "data": {
      "text/latex": [
       "$\\displaystyle \\left[\\begin{matrix}0 & 1 & 2\\\\1 & 0 & 3\\\\2 & 3 & 0\\end{matrix}\\right]$"
      ],
      "text/plain": [
       "⎡0  1  2⎤\n",
       "⎢       ⎥\n",
       "⎢1  0  3⎥\n",
       "⎢       ⎥\n",
       "⎣2  3  0⎦"
      ]
     },
     "execution_count": 8,
     "metadata": {},
     "output_type": "execute_result"
    }
   ],
   "source": [
    "A = Matrix([[1, 2, 3], [2, 1, 4], [3, 4, 1]]) # define A\n",
    "B = Matrix([[2, 3, 4], [3, 2, 5], [4, 5, 2]]) # define B\n",
    "2*A - B # compute the operation"
   ]
  },
  {
   "cell_type": "markdown",
   "id": "4f192dd9",
   "metadata": {},
   "source": [
    "7. Compute the products of matrices : $AB$ and $BA$ with:\n",
    "$$\n",
    "A = \n",
    "\\begin{bmatrix}\n",
    "1 & 0 & 2 \\\\\n",
    "2 & 1 & 0 \\\\\n",
    "1 & 2 & 1\n",
    "\\end{bmatrix}\n",
    "$$\n",
    "$$\n",
    "B = \n",
    "\\begin{bmatrix}\n",
    "2 & 0 & 0 \\\\\n",
    "1 & 2 & 0 \\\\\n",
    "0 & 1 & 2\n",
    "\\end{bmatrix}\n",
    "$$"
   ]
  },
  {
   "cell_type": "markdown",
   "id": "d288718b",
   "metadata": {},
   "source": [
    "$$\n",
    "AB = \n",
    "\\begin{bmatrix}\n",
    "1 & 0 & 2 \\\\\n",
    "2 & 1 & 0 \\\\\n",
    "1 & 2 & 1\n",
    "\\end{bmatrix}\n",
    "\\begin{bmatrix}\n",
    "2 & 0 & 0 \\\\\n",
    "1 & 2 & 0 \\\\\n",
    "0 & 1 & 2\n",
    "\\end{bmatrix}\n",
    "=\n",
    "\\begin{bmatrix}\n",
    "2 + 0 + 0 & 0 + 0 + 2 & 4 + 0 + 0 \\\\\n",
    "4 + 1 + 0 & 0 + 2 + 0 & 0 + 0 + 0 \\\\\n",
    "2 + 2 + 0 & 0 + 4 + 1 & 0 + 0 + 2\n",
    "\\end{bmatrix}\n",
    "=\n",
    "\\begin{bmatrix}\n",
    "2 & 2 & 4 \\\\\n",
    "5 & 2 & 0 \\\\\n",
    "4 & 5 & 2\n",
    "\\end{bmatrix}\n",
    "$$\n",
    "\n",
    "$$\n",
    "BA = \n",
    "\\begin{bmatrix}\n",
    "2 & 0 & 0 \\\\\n",
    "1 & 2 & 0 \\\\\n",
    "0 & 1 & 2\n",
    "\\end{bmatrix}\n",
    "\\begin{bmatrix}\n",
    "1 & 0 & 2 \\\\\n",
    "2 & 1 & 0 \\\\\n",
    "1 & 2 & 1\n",
    "\\end{bmatrix}\n",
    "=\n",
    "\\begin{bmatrix}\n",
    "2 + 0 + 0 & 0 + 0 + 0 & 4 + 0 + 0 \\\\\n",
    "1 + 4 + 0 & 0 + 2 + 0 & 2 + 0 + 0 \\\\\n",
    "0 + 2 + 2 & 0 + 1 + 4 & 0 + 0 + 2\n",
    "\\end{bmatrix}\n",
    "=\n",
    "\\begin{bmatrix}\n",
    "2 & 0 & 4 \\\\\n",
    "5 & 2 & 2 \\\\\n",
    "4 & 5 & 2\n",
    "\\end{bmatrix}\n",
    "$$\n",
    "\n",
    "*Checking result with python's sympy library* 🤓"
   ]
  },
  {
   "cell_type": "code",
   "execution_count": 9,
   "id": "7c0134b4",
   "metadata": {},
   "outputs": [
    {
     "data": {
      "text/latex": [
       "$\\displaystyle \\left[\\begin{matrix}2 & 2 & 4\\\\5 & 2 & 0\\\\4 & 5 & 2\\end{matrix}\\right]$"
      ],
      "text/plain": [
       "⎡2  2  4⎤\n",
       "⎢       ⎥\n",
       "⎢5  2  0⎥\n",
       "⎢       ⎥\n",
       "⎣4  5  2⎦"
      ]
     },
     "execution_count": 9,
     "metadata": {},
     "output_type": "execute_result"
    }
   ],
   "source": [
    "A = Matrix([[1, 0, 2], [2, 1, 0], [1, 2, 1]]) # define A\n",
    "B = Matrix([[2, 0, 0], [1, 2, 0], [0, 1, 2]]) # define B\n",
    "A*B # compute the operation"
   ]
  },
  {
   "cell_type": "code",
   "execution_count": 10,
   "id": "27b68d44",
   "metadata": {},
   "outputs": [
    {
     "data": {
      "text/latex": [
       "$\\displaystyle \\left[\\begin{matrix}2 & 0 & 4\\\\5 & 2 & 2\\\\4 & 5 & 2\\end{matrix}\\right]$"
      ],
      "text/plain": [
       "⎡2  0  4⎤\n",
       "⎢       ⎥\n",
       "⎢5  2  2⎥\n",
       "⎢       ⎥\n",
       "⎣4  5  2⎦"
      ]
     },
     "execution_count": 10,
     "metadata": {},
     "output_type": "execute_result"
    }
   ],
   "source": [
    "A = Matrix([[1, 0, 2], [2, 1, 0], [1, 2, 1]]) # define A\n",
    "B = Matrix([[2, 0, 0], [1, 2, 0], [0, 1, 2]]) # define B\n",
    "B*A # compute the operation"
   ]
  },
  {
   "cell_type": "markdown",
   "id": "3582156a",
   "metadata": {},
   "source": [
    "8. Compute the products of matrices : $AB$ and $BA$ with:\n",
    "$$\n",
    "A = \n",
    "\\begin{bmatrix}\n",
    "1 & 0 \\\\\n",
    "2 & 1 \\\\\n",
    "1 & 2\n",
    "\\end{bmatrix}\n",
    "$$\n",
    "$$\n",
    "B = \n",
    "\\begin{bmatrix}\n",
    "2 & 0 & 0 \\\\\n",
    "1 & 2 & 0 \n",
    "\\end{bmatrix}\n",
    "$$"
   ]
  },
  {
   "cell_type": "markdown",
   "id": "7e89c029",
   "metadata": {},
   "source": [
    "$$\n",
    "AB = \n",
    "\\begin{bmatrix}\n",
    "1 & 0 \\\\\n",
    "2 & 1 \\\\\n",
    "1 & 2\n",
    "\\end{bmatrix}\n",
    "\\begin{bmatrix}\n",
    "2 & 0 & 0 \\\\\n",
    "1 & 2 & 0 \n",
    "\\end{bmatrix}\n",
    "=\n",
    "\\begin{bmatrix}\n",
    "2 + 0 & 0 + 0 & 0 + 0 \\\\\n",
    "4 + 1 & 0 + 2 & 0 + 0 \\\\\n",
    "2 + 2 & 0 + 4 & 0 + 0\n",
    "\\end{bmatrix}\n",
    "=\n",
    "\\begin{bmatrix}\n",
    "2 & 0 & 0 \\\\\n",
    "5 & 2 & 0 \\\\\n",
    "4 & 4 & 0\n",
    "\\end{bmatrix}\n",
    "$$\n",
    "\n",
    "$$\n",
    "BA = \n",
    "\\begin{bmatrix}\n",
    "2 & 0 & 0 \\\\\n",
    "1 & 2 & 0 \n",
    "\\end{bmatrix}\n",
    "\\begin{bmatrix}\n",
    "1 & 0 \\\\\n",
    "2 & 1 \\\\\n",
    "1 & 2\n",
    "\\end{bmatrix}\n",
    "=\n",
    "\\begin{bmatrix}\n",
    "2 + 0 + 0 & 0 + 0 + 0 \\\\\n",
    "1 + 4 + 0 & 0 + 2 + 0 \\\\\n",
    "\\end{bmatrix}\n",
    "=\n",
    "\\begin{bmatrix}\n",
    "2 & 0 \\\\\n",
    "5 & 2 \\\\\n",
    "\\end{bmatrix}\n",
    "$$\n",
    "\n",
    "*Checking result with python's sympy library* 🤓"
   ]
  },
  {
   "cell_type": "code",
   "execution_count": 11,
   "id": "6b5af230",
   "metadata": {},
   "outputs": [
    {
     "data": {
      "text/latex": [
       "$\\displaystyle \\left[\\begin{matrix}2 & 0 & 0\\\\5 & 2 & 0\\\\4 & 4 & 0\\end{matrix}\\right]$"
      ],
      "text/plain": [
       "⎡2  0  0⎤\n",
       "⎢       ⎥\n",
       "⎢5  2  0⎥\n",
       "⎢       ⎥\n",
       "⎣4  4  0⎦"
      ]
     },
     "execution_count": 11,
     "metadata": {},
     "output_type": "execute_result"
    }
   ],
   "source": [
    "A = Matrix([[1, 0], [2, 1], [1, 2]]) # define A\n",
    "B = Matrix([[2, 0, 0], [1, 2, 0]]) # define B\n",
    "A*B # compute the operation"
   ]
  },
  {
   "cell_type": "code",
   "execution_count": 12,
   "id": "0f5b190d",
   "metadata": {},
   "outputs": [
    {
     "data": {
      "text/latex": [
       "$\\displaystyle \\left[\\begin{matrix}2 & 0\\\\5 & 2\\end{matrix}\\right]$"
      ],
      "text/plain": [
       "⎡2  0⎤\n",
       "⎢    ⎥\n",
       "⎣5  2⎦"
      ]
     },
     "execution_count": 12,
     "metadata": {},
     "output_type": "execute_result"
    }
   ],
   "source": [
    "A = Matrix([[1, 0], [2, 1], [1, 2]]) # define A\n",
    "B = Matrix([[2, 0, 0], [1, 2, 0]]) # define B\n",
    "B*A # compute the operation"
   ]
  },
  {
   "cell_type": "markdown",
   "id": "993de912",
   "metadata": {},
   "source": [
    "### Matrix-vector product"
   ]
  },
  {
   "cell_type": "markdown",
   "id": "ca7cf239",
   "metadata": {},
   "source": [
    "9. Compute the matrix-vector product $A\\vec{v}$ with :\n",
    "$$\n",
    "A = \n",
    "\\begin{bmatrix}\n",
    "1 & 0 & 2 \\\\\n",
    "2 & 1 & 0 \\\\\n",
    "1 & 2 & 1\n",
    "\\end{bmatrix}\n",
    "$$\n",
    "$$\n",
    "\\vec{v} = \n",
    "\\begin{bmatrix}\n",
    "-1 \\\\\n",
    "1 \\\\\n",
    "2 \n",
    "\\end{bmatrix}\n",
    "$$"
   ]
  },
  {
   "cell_type": "markdown",
   "id": "1de1b85f",
   "metadata": {},
   "source": [
    "$$\n",
    "A\\vec{v} =\n",
    "\\begin{bmatrix}\n",
    "1 & 0 & 2 \\\\\n",
    "2 & 1 & 0 \\\\\n",
    "1 & 2 & 1\n",
    "\\end{bmatrix}\n",
    "\\begin{bmatrix}\n",
    "-1 \\\\\n",
    "1 \\\\\n",
    "2 \n",
    "\\end{bmatrix}\n",
    "=\n",
    "\\begin{bmatrix}\n",
    "1\\times-1 + 0\\times1 + 2\\times2 \\\\\n",
    "2\\times-1 + 1\\times1 + 0\\times2 \\\\\n",
    "1\\times-1 + 2\\times1 + 1\\times2\n",
    "\\end{bmatrix}\n",
    "=\n",
    "\\begin{bmatrix}\n",
    "3 \\\\\n",
    "-1 \\\\\n",
    "3\n",
    "\\end{bmatrix}\n",
    "$$\n",
    "\n",
    "*Checking result with python's sympy library* 🤓"
   ]
  },
  {
   "cell_type": "code",
   "execution_count": 13,
   "id": "fec4bee8",
   "metadata": {},
   "outputs": [
    {
     "data": {
      "text/latex": [
       "$\\displaystyle \\left[\\begin{matrix}3\\\\-1\\\\3\\end{matrix}\\right]$"
      ],
      "text/plain": [
       "⎡3 ⎤\n",
       "⎢  ⎥\n",
       "⎢-1⎥\n",
       "⎢  ⎥\n",
       "⎣3 ⎦"
      ]
     },
     "execution_count": 13,
     "metadata": {},
     "output_type": "execute_result"
    }
   ],
   "source": [
    "A = Matrix([[1, 0, 2], [2, 1, 0], [1, 2, 1]]) # define A\n",
    "v = Matrix([-1, 1, 2]) # define v\n",
    "A*v # compute the operation"
   ]
  },
  {
   "cell_type": "markdown",
   "id": "eb89fadc",
   "metadata": {},
   "source": [
    "## Collinearity and orthogonality"
   ]
  },
  {
   "cell_type": "markdown",
   "id": "b4ec65a6",
   "metadata": {},
   "source": [
    "10. Compute the dot product $\\vec{u} \\cdot \\vec{v} $ with:\n",
    "$$\n",
    "\\vec{u}\n",
    "=\n",
    "\\begin{bmatrix}\n",
    "2 \\\\\n",
    "-3 \\\\\n",
    "-1 \\\\\n",
    "\\end{bmatrix}\n",
    "$$\n",
    "$$\n",
    "\\vec{v}\n",
    "=\n",
    "\\begin{bmatrix}\n",
    "3 \\\\\n",
    "1 \\\\\n",
    "3 \\\\\n",
    "\\end{bmatrix}\n",
    "$$\n",
    "\n",
    "What can you conclude about the angle between the two vectors ?"
   ]
  },
  {
   "cell_type": "markdown",
   "id": "fde6b1ca",
   "metadata": {},
   "source": [
    "$$\n",
    "\\vec{u} \\cdot \\vec{v} = 2 \\times 3 - 3 \\times 1 - 1 \\times 3 = 6 - 3 - 3 = 0\n",
    "$$\n",
    "\n",
    "Using the property $\\vec{u} \\cdot \\vec{v} = \\Vert\\vec{u}\\Vert \\Vert\\vec{v}\\Vert \\cos{\\theta}$, and because $\\Vert\\vec{u}\\Vert \\ne 0$ and $\\Vert\\vec{b}\\Vert \\ne 0$, we can deduce that $\\theta = 0°$, which means that the vectors are orthogonal.\n",
    "\n",
    "*Checking result with python's sympy library* 🤓"
   ]
  },
  {
   "cell_type": "code",
   "execution_count": 14,
   "id": "bb3e6f0e",
   "metadata": {},
   "outputs": [
    {
     "data": {
      "image/png": "[encoded data removed]",
      "text/latex": [
       "$\\displaystyle 0$"
      ],
      "text/plain": [
       "0"
      ]
     },
     "execution_count": 14,
     "metadata": {},
     "output_type": "execute_result"
    }
   ],
   "source": [
    "u = Matrix([2, -3, -1]) # define u\n",
    "v = Matrix([3, 1, 3]) # define v\n",
    "u.dot(v) # compute the dot product"
   ]
  },
  {
   "cell_type": "markdown",
   "id": "54311258",
   "metadata": {},
   "source": [
    "11. Are $\\vec{u}$, $\\vec{v}$ collinear ?\n",
    "$$\n",
    "\\vec{u}\n",
    "=\n",
    "\\begin{bmatrix}\n",
    "4 \\\\\n",
    "2 \\\\\n",
    "-1\n",
    "\\end{bmatrix}\n",
    "$$\n",
    "\n",
    "$$\n",
    "\\vec{v}\n",
    "=\n",
    "\\begin{bmatrix}\n",
    "-1 \\\\\n",
    "-\\frac{1}{2} \\\\\n",
    "\\frac{1}{4}\n",
    "\\end{bmatrix}\n",
    "$$"
   ]
  },
  {
   "cell_type": "markdown",
   "id": "2e91d855",
   "metadata": {},
   "source": [
    "If we multiply $\\vec{v}$ by the scaling factor $\\alpha = -4$, we obtain :\n",
    "\n",
    "$$\n",
    "\\alpha\\vec{v}\n",
    "=\n",
    "\\begin{bmatrix}\n",
    "-4\\times-1 \\\\\n",
    "-4\\times - \\frac{1}{2} \\\\\n",
    "-4 \\times \\frac{1}{4}\n",
    "\\end{bmatrix}\n",
    "=\n",
    "\\begin{bmatrix}\n",
    "4 \\\\\n",
    "2 \\\\\n",
    "-1\n",
    "\\end{bmatrix}\n",
    "=\n",
    "\\vec{u}\n",
    "$$\n",
    "\n",
    "$\\vec{u} = -4 \\vec{v}$ so the vectors are collinear.\n",
    "\n",
    "*Checking result with python's sympy library* 🤓"
   ]
  },
  {
   "cell_type": "code",
   "execution_count": 15,
   "id": "8ebfb979",
   "metadata": {},
   "outputs": [
    {
     "data": {
      "text/latex": [
       "$\\displaystyle \\left[\\begin{matrix}4\\\\2.0\\\\-1.0\\end{matrix}\\right]$"
      ],
      "text/plain": [
       "⎡ 4  ⎤\n",
       "⎢    ⎥\n",
       "⎢2.0 ⎥\n",
       "⎢    ⎥\n",
       "⎣-1.0⎦"
      ]
     },
     "execution_count": 15,
     "metadata": {},
     "output_type": "execute_result"
    }
   ],
   "source": [
    "v = Matrix([-1, -1/2, 1/4]) # define v\n",
    "-4*v # compute the operation"
   ]
  },
  {
   "cell_type": "markdown",
   "id": "f8eaa6e4",
   "metadata": {},
   "source": [
    "12. Are $\\vec{u}$, $\\vec{v}$ and $\\vec{w}$ linearly independent ?\n",
    "$$\n",
    "\\vec{u}\n",
    "=\n",
    "\\begin{bmatrix}\n",
    "1 \\\\\n",
    "2 \n",
    "\\end{bmatrix}\n",
    "$$\n",
    "\n",
    "$$\n",
    "\\vec{v}\n",
    "=\n",
    "\\begin{bmatrix}\n",
    "-2 \\\\\n",
    "1 \\\\\n",
    "\\end{bmatrix}\n",
    "$$\n",
    "\n",
    "$$\n",
    "\\vec{w}\n",
    "=\n",
    "\\begin{bmatrix}\n",
    "-1 \\\\\n",
    "3\n",
    "\\end{bmatrix}\n",
    "$$"
   ]
  },
  {
   "cell_type": "markdown",
   "id": "f9ad7d27",
   "metadata": {},
   "source": [
    "One can notice that : \n",
    "$$\n",
    "\\vec{u} + \\vec{v}\n",
    "=\n",
    "\\begin{bmatrix}\n",
    "1 -2 \\\\\n",
    "2 +1\n",
    "\\end{bmatrix}\n",
    "=\n",
    "\\begin{bmatrix}\n",
    "-1 \\\\\n",
    "3\n",
    "\\end{bmatrix}\n",
    "=\n",
    "\\vec{w}\n",
    "$$\n",
    "\n",
    "So the vectors are not linearly independent !\n",
    "\n",
    "*Checking result with python's sympy library* 🤓"
   ]
  },
  {
   "cell_type": "code",
   "execution_count": 16,
   "id": "924650db",
   "metadata": {},
   "outputs": [
    {
     "data": {
      "text/latex": [
       "$\\displaystyle \\left[\\begin{matrix}-1\\\\3\\end{matrix}\\right]$"
      ],
      "text/plain": [
       "⎡-1⎤\n",
       "⎢  ⎥\n",
       "⎣3 ⎦"
      ]
     },
     "execution_count": 16,
     "metadata": {},
     "output_type": "execute_result"
    }
   ],
   "source": [
    "u = Matrix([1, 2]) # define u\n",
    "v = Matrix([-2, 1]) # define v\n",
    "u+v # compute the operation"
   ]
  },
  {
   "cell_type": "markdown",
   "id": "bd97de40",
   "metadata": {},
   "source": [
    "13. **[Bonus question - for experts only 💪]** Are $\\vec{u}$, $\\vec{v}$ and $\\vec{w}$ linearly independent ?\n",
    "\n",
    "$$\n",
    "\\vec{u}\n",
    "=\n",
    "\\begin{bmatrix}\n",
    "1 \\\\\n",
    "2 \\\\\n",
    "0\n",
    "\\end{bmatrix}\n",
    "$$\n",
    "\n",
    "$$\n",
    "\\vec{v}\n",
    "=\n",
    "\\begin{bmatrix}\n",
    "-2 \\\\\n",
    "1 \\\\\n",
    "0\n",
    "\\end{bmatrix}\n",
    "$$\n",
    "\n",
    "$$\n",
    "\\vec{w}\n",
    "=\n",
    "\\begin{bmatrix}\n",
    "0 \\\\\n",
    "1 \\\\\n",
    "2\n",
    "\\end{bmatrix}\n",
    "$$"
   ]
  },
  {
   "cell_type": "markdown",
   "id": "87f1e1e3",
   "metadata": {},
   "source": [
    "If the vectors are not linearly independent, there exist some non-zero numbers $x_1$, $x_2$ and $x_3$ such that :\n",
    "$$\n",
    "x_1\\vec{u} + x_2\\vec{v} + x_3\\vec{w} = \\vec{0} \n",
    "$$\n",
    "$$\n",
    "\\iff \n",
    "$$\n",
    "$$\n",
    "\\begin{bmatrix}\n",
    "x_1 \\\\\n",
    "2x_1 \\\\\n",
    "0\n",
    "\\end{bmatrix}\n",
    "+\n",
    "\\begin{bmatrix}\n",
    "-2x_2 \\\\\n",
    "x_2 \\\\\n",
    "0\n",
    "\\end{bmatrix}\n",
    "+\n",
    "\\begin{bmatrix}\n",
    "0 \\\\\n",
    "x_3 \\\\\n",
    "2x_3\n",
    "\\end{bmatrix}\n",
    "=\n",
    "\\begin{bmatrix}\n",
    "0 \\\\\n",
    "0 \\\\\n",
    "0\n",
    "\\end{bmatrix}\n",
    "$$\n",
    "$$\n",
    "\\iff\n",
    "$$\n",
    "$$\n",
    "\\begin{bmatrix}\n",
    "x_1 -2x_2 + 0 \\\\\n",
    "2x_1 + x_2 + x_3 \\\\\n",
    "0 + 0 + 2x_3\n",
    "\\end{bmatrix}\n",
    "=\n",
    "\\begin{bmatrix}\n",
    "0 \\\\\n",
    "0 \\\\\n",
    "0\n",
    "\\end{bmatrix}\n",
    "$$\n",
    "\n",
    "We are looking for $x_1$, $x_2$, $x_3$ that are solution of the system of linear equations :\n",
    "$$\n",
    "\\begin{equation}\n",
    "\\begin{cases}\n",
    "x_1 -2x_2 + 0 = 0 \\\\\n",
    "2x_1 + x_2 + x_3 = 0 \\\\\n",
    "2x_3 = 0\n",
    "\\end{cases}\n",
    "\\end{equation}\n",
    "$$\n",
    "Because $x_3 =0$, we get :\n",
    "$$\n",
    "\\begin{equation}\n",
    "\\begin{cases}\n",
    "x_1 -2x_2 = 0 \\\\\n",
    "2x_1 + x_2 = 0 \\iff x_2 = -2x_1 \\\\\n",
    "x_3 = 0\n",
    "\\end{cases}\n",
    "\\end{equation}\n",
    "$$\n",
    "$$\n",
    "\\iff\n",
    "$$\n",
    "$$\n",
    "\\begin{equation}\n",
    "\\begin{cases}\n",
    "x_1 -2(-2x_1) = 0 \\\\\n",
    "x_2 = -2x_1 \\\\\n",
    "x_3 = 0\n",
    "\\end{cases}\n",
    "\\end{equation}\n",
    "$$\n",
    "$$\n",
    "\\iff\n",
    "$$\n",
    "$$\n",
    "\\begin{equation}\n",
    "\\begin{cases}\n",
    "5x_1 = 0 \\iff x_1 = 0 \\\\\n",
    "x_2 = -2x_1 = 0 \\\\\n",
    "x_3 = 0\n",
    "\\end{cases}\n",
    "\\end{equation}\n",
    "$$\n",
    "\n",
    "We just proved that $x_1\\vec{u} + x_2\\vec{v} + x_3\\vec{w} = \\vec{0} \\iff x_1 = x_2 = x_3 = 0$ so the vectors are linearly independent !"
   ]
  },
  {
   "cell_type": "markdown",
   "id": "983eec78",
   "metadata": {},
   "source": [
    "## Systems of linear equations"
   ]
  },
  {
   "cell_type": "markdown",
   "id": "184bb514",
   "metadata": {},
   "source": [
    "14. **[Bonus question - for experts only 💪]** Consider the following system of linear equations :\n",
    "\n",
    "$$\n",
    "\\begin{equation}\n",
    "    \\begin{cases}\n",
    "      2x_1 + x_2 = 2\\\\\n",
    "      x_1 + 2x_2 + x_3 = 0 \\\\\n",
    "      x_2 + 2x_3 = 1\n",
    "    \\end{cases}\n",
    "\\end{equation}\n",
    "$$\n",
    "\n",
    "a. Write the matrix representation of this system of equations, in the form $A\\vec{x} = \\vec{c}$ where :\n",
    "- $A$ is a matrix containing the coefficients of the equation\n",
    "- $\\vec{x}$ is the vector of unknowns\n",
    "- $\\vec{c}$ is a vector of constant values\n",
    "\n",
    "b. Prove that the following matrix is the inverse of matrix $A$ :\n",
    "$$\n",
    "B = \\begin{bmatrix} \n",
    "\\frac{3}{4} & - \\frac{1}{2} & \\frac{1}{4} \\\\\n",
    "-\\frac{1}{2} & 1 & -\\frac{1}{2} \\\\\n",
    "\\frac{1}{4} & -\\frac{1}{2} & \\frac{3}{4}\n",
    "\\end{bmatrix}\n",
    "$$\n",
    "\n",
    "c. Finally, use $B = A^{-1}$ to find the solution to the system of equation"
   ]
  },
  {
   "cell_type": "markdown",
   "id": "d5135ab3",
   "metadata": {},
   "source": [
    "a. Matrix representation of the system of equations :\n",
    "$$\n",
    "\\begin{bmatrix}\n",
    "2 & 1 & 0 \\\\\n",
    "1 & 2 & 1 \\\\\n",
    "0 & 1 & 2\n",
    "\\end{bmatrix}\n",
    "\\begin{bmatrix}\n",
    "x_1 \\\\\n",
    "x_2 \\\\\n",
    "x_3\n",
    "\\end{bmatrix}\n",
    "=\n",
    "\\begin{bmatrix}\n",
    "2 \\\\\n",
    "0 \\\\\n",
    "1\n",
    "\\end{bmatrix}\n",
    "$$"
   ]
  },
  {
   "cell_type": "markdown",
   "id": "b326f69d",
   "metadata": {},
   "source": [
    "b. If $B = A^{-1}$, we must have : $BA = \\mathbb{1}$\n",
    "\n",
    "$$\n",
    "BA\n",
    "=\n",
    "\\begin{bmatrix} \n",
    "\\frac{3}{4} & - \\frac{1}{2} & \\frac{1}{4} \\\\\n",
    "-\\frac{1}{2} & 1 & -\\frac{1}{2} \\\\\n",
    "\\frac{1}{4} & -\\frac{1}{2} & \\frac{3}{4}\n",
    "\\end{bmatrix}\n",
    "\\begin{bmatrix}\n",
    "2 & 1 & 0 \\\\\n",
    "1 & 2 & 1 \\\\\n",
    "0 & 1 & 2\n",
    "\\end{bmatrix}\n",
    "=\n",
    "\\begin{bmatrix} \n",
    "2\\times\\frac{3}{4} - 1\\times\\frac{1}{2} + 0\\times\\frac{1}{4} & 1\\times\\frac{3}{4} - 2\\times\\frac{1}{2} + 1\\times\\frac{1}{4} & 0\\times\\frac{3}{4} - 1\\times\\frac{1}{2} + 2\\times\\frac{1}{4} \\\\\n",
    "-2\\times\\frac{1}{2} + 1\\times1 -0\\times\\frac{1}{2} & -1\\times\\frac{1}{2} + 2\\times1 -1\\times\\frac{1}{2} & -0\\times\\frac{1}{2} + 1\\times1 -2\\times\\frac{1}{2} \\\\\n",
    "2\\times\\frac{1}{4} -1\\times\\frac{1}{2} + 0\\times\\frac{3}{4} & 1\\times\\frac{1}{4} -2\\times\\frac{1}{2} + 1\\times\\frac{3}{4} & 0\\times\\frac{1}{4} -1\\times\\frac{1}{2} + 2\\times\\frac{3}{4}\n",
    "\\end{bmatrix}\n",
    "=\n",
    "\\begin{bmatrix} \n",
    "1 & 0 & 0 \\\\\n",
    "0 & 1 & 0 \\\\\n",
    "0 & 0 & 1\n",
    "\\end{bmatrix}\n",
    "=\n",
    "\\mathbb{1}\n",
    "$$\n",
    "\n",
    "*Checking result with python's sympy library* 🤓"
   ]
  },
  {
   "cell_type": "code",
   "execution_count": 17,
   "id": "24cde7f8",
   "metadata": {},
   "outputs": [
    {
     "data": {
      "text/latex": [
       "$\\displaystyle \\left[\\begin{matrix}1.0 & 0 & 0\\\\0 & 1.0 & 0\\\\0 & 0 & 1.0\\end{matrix}\\right]$"
      ],
      "text/plain": [
       "⎡1.0   0    0 ⎤\n",
       "⎢             ⎥\n",
       "⎢ 0   1.0   0 ⎥\n",
       "⎢             ⎥\n",
       "⎣ 0    0   1.0⎦"
      ]
     },
     "execution_count": 17,
     "metadata": {},
     "output_type": "execute_result"
    }
   ],
   "source": [
    "A = Matrix([[2, 1, 0], [1, 2, 1], [0, 1, 2]]) # define A\n",
    "B = Matrix([[3/4, -1/2, 1/4], [-1/2, 1, -1/2],[1/4, -1/2, 3/4]]) # define B\n",
    "B*A # compute the operation"
   ]
  },
  {
   "cell_type": "markdown",
   "id": "47cdf42a",
   "metadata": {},
   "source": [
    "c. $A\\vec{x} = \\vec{c} \\iff \\vec{x} = A^{-1}\\vec{c} = B\\vec{c}$ so :\n",
    "\n",
    "$$\n",
    "\\begin{bmatrix}\n",
    "x_1 \\\\\n",
    "x_2 \\\\\n",
    "x_3\n",
    "\\end{bmatrix} \n",
    "=\n",
    "\\begin{bmatrix} \n",
    "\\frac{3}{4} & - \\frac{1}{2} & \\frac{1}{4} \\\\\n",
    "-\\frac{1}{2} & 1 & -\\frac{1}{2} \\\\\n",
    "\\frac{1}{4} & -\\frac{1}{2} & \\frac{3}{4}\n",
    "\\end{bmatrix}\n",
    "\\begin{bmatrix}\n",
    "2 \\\\\n",
    "0 \\\\\n",
    "1\n",
    "\\end{bmatrix}\n",
    "=\n",
    "\\begin{bmatrix} \n",
    "2\\times\\frac{3}{4} - 0\\times\\frac{1}{2} + 1\\times\\frac{1}{4} \\\\\n",
    "-2\\times\\frac{1}{2} + 0\\times1 -1\\times\\frac{1}{2} \\\\\n",
    "2\\times\\frac{1}{4} -0\\times\\frac{1}{2} + 1\\times\\frac{3}{4}\n",
    "\\end{bmatrix}\n",
    "=\n",
    "\\begin{bmatrix} \n",
    "\\frac{7}{4} \\\\\n",
    "-\\frac{3}{2} \\\\\n",
    "\\frac{5}{4}\n",
    "\\end{bmatrix}\n",
    "$$\n",
    "\n",
    "Finally, the solution to the system of equation is :\n",
    "\n",
    "$$\n",
    "\\begin{equation}\n",
    "    \\begin{cases}\n",
    "      x_1 = \\frac{7}{4}\\\\\n",
    "      x_2 = -\\frac{3}{2} \\\\\n",
    "      x_3 = \\frac{5}{4}\n",
    "    \\end{cases}\n",
    "\\end{equation}\n",
    "$$\n",
    "*Checking result with python's sympy library* 🤓"
   ]
  },
  {
   "cell_type": "code",
   "execution_count": 18,
   "id": "d1486223",
   "metadata": {},
   "outputs": [
    {
     "data": {
      "text/latex": [
       "$\\displaystyle \\left[\\begin{matrix}1.75\\\\-1.5\\\\1.25\\end{matrix}\\right]$"
      ],
      "text/plain": [
       "⎡1.75⎤\n",
       "⎢    ⎥\n",
       "⎢-1.5⎥\n",
       "⎢    ⎥\n",
       "⎣1.25⎦"
      ]
     },
     "execution_count": 18,
     "metadata": {},
     "output_type": "execute_result"
    }
   ],
   "source": [
    "B = Matrix([[3/4, -1/2, 1/4], [-1/2, 1, -1/2],[1/4, -1/2, 3/4]]) # define B\n",
    "c = Matrix([2, 0, 1]) # define c\n",
    "B*c # compute the operation"
   ]
  },
  {
   "cell_type": "markdown",
   "id": "df5b1b68",
   "metadata": {},
   "source": [
    "## Matrix diagonalization"
   ]
  },
  {
   "cell_type": "markdown",
   "id": "c8b3183c",
   "metadata": {},
   "source": [
    "15. Consider the following matrix :\n",
    "\n",
    "$$\n",
    "A = \n",
    "\\begin{bmatrix}\n",
    "3 & -1 \\\\\n",
    "2 & 0\n",
    "\\end{bmatrix}\n",
    "$$\n",
    "\n",
    "a. Show that $\\vec{u} = \\begin{bmatrix}1\\\\1\\end{bmatrix}$ and $\\vec{v} = \\begin{bmatrix}1\\\\2\\end{bmatrix}$ are eigenvectors of $A$\n",
    "\n",
    "b. What are the eigenvalues associated to $\\vec{u}$ and $\\vec{v}$ ?"
   ]
  },
  {
   "cell_type": "markdown",
   "id": "f7701743",
   "metadata": {},
   "source": [
    "a.\n",
    "$$\n",
    "A\\vec{u}\n",
    "=\n",
    "\\begin{bmatrix}\n",
    "3 & -1 \\\\\n",
    "2 & 0\n",
    "\\end{bmatrix}\n",
    "\\begin{bmatrix}\n",
    "1\\\\\n",
    "1\n",
    "\\end{bmatrix}\n",
    "=\n",
    "\\begin{bmatrix}\n",
    "3\\times1 -1\\times1 \\\\\n",
    "2\\times1 + 0\\times1\n",
    "\\end{bmatrix}\n",
    "=\n",
    "\\begin{bmatrix}\n",
    "2 \\\\\n",
    "2\n",
    "\\end{bmatrix}\n",
    "=\n",
    "2\n",
    "\\begin{bmatrix}\n",
    "1\\\\\n",
    "1\n",
    "\\end{bmatrix}\n",
    "=\n",
    "2\\vec{u}\n",
    "$$\n",
    "\n",
    "$$\n",
    "A\\vec{v}\n",
    "=\n",
    "\\begin{bmatrix}\n",
    "3 & -1 \\\\\n",
    "2 & 0\n",
    "\\end{bmatrix}\n",
    "\\begin{bmatrix}\n",
    "1\\\\\n",
    "2\n",
    "\\end{bmatrix}\n",
    "=\n",
    "\\begin{bmatrix}\n",
    "3\\times1 -1\\times2 \\\\\n",
    "2\\times1 + 0\\times2\n",
    "\\end{bmatrix}\n",
    "=\n",
    "\\begin{bmatrix}\n",
    "1 \\\\\n",
    "2\n",
    "\\end{bmatrix}\n",
    "=\n",
    "\\vec{v}\n",
    "$$\n",
    "\n",
    "*Checking result with python's sympy library* 🤓"
   ]
  },
  {
   "cell_type": "code",
   "execution_count": 19,
   "id": "9630db28",
   "metadata": {},
   "outputs": [
    {
     "data": {
      "text/latex": [
       "$\\displaystyle \\left[\\begin{matrix}2\\\\2\\end{matrix}\\right]$"
      ],
      "text/plain": [
       "⎡2⎤\n",
       "⎢ ⎥\n",
       "⎣2⎦"
      ]
     },
     "execution_count": 19,
     "metadata": {},
     "output_type": "execute_result"
    }
   ],
   "source": [
    "A = Matrix([[3, -1], [2, 0]]) # define A\n",
    "u = Matrix([1,1]) # define u\n",
    "A*u # compute the operation"
   ]
  },
  {
   "cell_type": "code",
   "execution_count": 20,
   "id": "ca5e82a1",
   "metadata": {},
   "outputs": [
    {
     "data": {
      "text/latex": [
       "$\\displaystyle \\left[\\begin{matrix}1\\\\2\\end{matrix}\\right]$"
      ],
      "text/plain": [
       "⎡1⎤\n",
       "⎢ ⎥\n",
       "⎣2⎦"
      ]
     },
     "execution_count": 20,
     "metadata": {},
     "output_type": "execute_result"
    }
   ],
   "source": [
    "A = Matrix([[3, -1], [2, 0]]) # define A\n",
    "v = Matrix([1,2]) # define v\n",
    "A*v # compute the operation"
   ]
  },
  {
   "cell_type": "markdown",
   "id": "178e03c3",
   "metadata": {},
   "source": [
    "b. $A\\vec{u} = 2\\vec{u}$ so the eigenvalue of $\\vec{u}$ is $\\lambda_u = 2$.\n",
    "\n",
    "$A\\vec{v} = \\vec{v}$ so the eigenvalue of $\\vec{v}$ is $\\lambda_v = 1$."
   ]
  }
 ],
 "metadata": {
  "kernelspec": {
   "display_name": "Python 3",
   "language": "python",
   "name": "python3"
  },
  "language_info": {
   "codemirror_mode": {
    "name": "ipython",
    "version": 3
   },
   "file_extension": ".py",
   "mimetype": "text/x-python",
   "name": "python",
   "nbconvert_exporter": "python",
   "pygments_lexer": "ipython3",
   "version": "3.8.8"
  }
 },
 "nbformat": 4,
 "nbformat_minor": 5
}
