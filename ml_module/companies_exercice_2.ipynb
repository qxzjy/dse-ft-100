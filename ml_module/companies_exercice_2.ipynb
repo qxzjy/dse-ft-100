{
 "cells": [
  {
   "cell_type": "markdown",
   "metadata": {},
   "source": [
    "# Predict companies' performance - Part 2/2"
   ]
  },
  {
   "cell_type": "markdown",
   "metadata": {},
   "source": [
    "## Step 1 - Import librairies"
   ]
  },
  {
   "cell_type": "code",
   "execution_count": 21,
   "metadata": {},
   "outputs": [],
   "source": [
    "# Data manipulation\n",
    "import pandas as pd\n",
    "\n",
    "# Data visualization\n",
    "import seaborn as sns\n",
    "import matplotlib.pyplot as plt\n",
    "\n",
    "# Matrice manipulation\n",
    "import numpy as np\n",
    "\n",
    "# Since the Scikit library is big, we only import what we need\n",
    "\n",
    "# train_test_split : method to split the dataset (DataFrame) into two distinct : one for training, one for testing\n",
    "from sklearn.model_selection import train_test_split\n",
    "\n",
    "# SimpleImputer : class which allow us to fill missing values (null, NaN) with specific strategy (median, mean, mode, etc.)\n",
    "from sklearn.impute import SimpleImputer\n",
    "\n",
    "# StandardScaler : class which allow us to standardize (put on the same scale) numerical features (using z-score)\n",
    "# OneHotEncoder : class which allow us to encode categorical features (create a column per category that contain only 0 and 1)\n",
    "# LabelEncoder : class which allow us to encode labels (same as categorical, but with a \"binary\" template of data) \n",
    "from sklearn.preprocessing import StandardScaler, OneHotEncoder, LabelEncoder\n",
    "\n",
    "# ColumnTransformer : : class which allow us to use scalers and encoders ojects to transform our DataFrames, returning numpy arrays\n",
    "from sklearn.compose import ColumnTransformer\n",
    "\n",
    "# LinearRegression : class which allow us to perform a linear regression model on our data\n",
    "from sklearn.linear_model import LinearRegression"
   ]
  },
  {
   "cell_type": "markdown",
   "metadata": {},
   "source": [
    "## Step 2 - Import dataset "
   ]
  },
  {
   "cell_type": "code",
   "execution_count": 22,
   "metadata": {},
   "outputs": [
    {
     "data": {
      "text/html": [
       "<div>\n",
       "<style scoped>\n",
       "    .dataframe tbody tr th:only-of-type {\n",
       "        vertical-align: middle;\n",
       "    }\n",
       "\n",
       "    .dataframe tbody tr th {\n",
       "        vertical-align: top;\n",
       "    }\n",
       "\n",
       "    .dataframe thead th {\n",
       "        text-align: right;\n",
       "    }\n",
       "</style>\n",
       "<table border=\"1\" class=\"dataframe\">\n",
       "  <thead>\n",
       "    <tr style=\"text-align: right;\">\n",
       "      <th></th>\n",
       "      <th>R&amp;D Spend</th>\n",
       "      <th>Administration</th>\n",
       "      <th>Marketing Spend</th>\n",
       "      <th>State</th>\n",
       "      <th>Profit</th>\n",
       "    </tr>\n",
       "  </thead>\n",
       "  <tbody>\n",
       "    <tr>\n",
       "      <th>0</th>\n",
       "      <td>165349.20</td>\n",
       "      <td>136897.80</td>\n",
       "      <td>471784.10</td>\n",
       "      <td>New York</td>\n",
       "      <td>192261.83</td>\n",
       "    </tr>\n",
       "    <tr>\n",
       "      <th>1</th>\n",
       "      <td>162597.70</td>\n",
       "      <td>151377.59</td>\n",
       "      <td>443898.53</td>\n",
       "      <td>California</td>\n",
       "      <td>191792.06</td>\n",
       "    </tr>\n",
       "    <tr>\n",
       "      <th>2</th>\n",
       "      <td>153441.51</td>\n",
       "      <td>101145.55</td>\n",
       "      <td>407934.54</td>\n",
       "      <td>Florida</td>\n",
       "      <td>191050.39</td>\n",
       "    </tr>\n",
       "    <tr>\n",
       "      <th>3</th>\n",
       "      <td>144372.41</td>\n",
       "      <td>118671.85</td>\n",
       "      <td>383199.62</td>\n",
       "      <td>New York</td>\n",
       "      <td>182901.99</td>\n",
       "    </tr>\n",
       "    <tr>\n",
       "      <th>4</th>\n",
       "      <td>142107.34</td>\n",
       "      <td>91391.77</td>\n",
       "      <td>366168.42</td>\n",
       "      <td>Florida</td>\n",
       "      <td>166187.94</td>\n",
       "    </tr>\n",
       "  </tbody>\n",
       "</table>\n",
       "</div>"
      ],
      "text/plain": [
       "   R&D Spend  Administration  Marketing Spend       State     Profit\n",
       "0  165349.20       136897.80        471784.10    New York  192261.83\n",
       "1  162597.70       151377.59        443898.53  California  191792.06\n",
       "2  153441.51       101145.55        407934.54     Florida  191050.39\n",
       "3  144372.41       118671.85        383199.62    New York  182901.99\n",
       "4  142107.34        91391.77        366168.42     Florida  166187.94"
      ]
     },
     "execution_count": 22,
     "metadata": {},
     "output_type": "execute_result"
    }
   ],
   "source": [
    "df = pd.read_csv(\"/Users/qxzjy/vscworkspace/dse-ft-100/ml_module/data/50_Startups.csv\")\n",
    "df.head()"
   ]
  },
  {
   "cell_type": "code",
   "execution_count": null,
   "metadata": {},
   "outputs": [
    {
     "name": "stdout",
     "output_type": "stream",
     "text": [
      "Rows , Columuns : (50, 5)\n",
      "\n",
      "            R&D Spend  Administration  Marketing Spend     State  \\\n",
      "count       50.000000       50.000000        50.000000        50   \n",
      "unique            NaN             NaN              NaN         3   \n",
      "top               NaN             NaN              NaN  New York   \n",
      "freq              NaN             NaN              NaN        17   \n",
      "mean     73721.615600   121344.639600    211025.097800       NaN   \n",
      "std      45902.256482    28017.802755    122290.310726       NaN   \n",
      "min          0.000000    51283.140000         0.000000       NaN   \n",
      "25%      39936.370000   103730.875000    129300.132500       NaN   \n",
      "50%      73051.080000   122699.795000    212716.240000       NaN   \n",
      "75%     101602.800000   144842.180000    299469.085000       NaN   \n",
      "max     165349.200000   182645.560000    471784.100000       NaN   \n",
      "\n",
      "               Profit  \n",
      "count       50.000000  \n",
      "unique            NaN  \n",
      "top               NaN  \n",
      "freq              NaN  \n",
      "mean    112012.639200  \n",
      "std      40306.180338  \n",
      "min      14681.400000  \n",
      "25%      90138.902500  \n",
      "50%     107978.190000  \n",
      "75%     139765.977500  \n",
      "max     192261.830000  \n",
      "\n",
      "R&D Spend          False\n",
      "Administration     False\n",
      "Marketing Spend    False\n",
      "State              False\n",
      "Profit             False\n",
      "dtype: bool\n"
     ]
    },
    {
     "data": {
      "image/png": "[encoded data removed]",
      "text/plain": [
       "<Figure size 640x480 with 1 Axes>"
      ]
     },
     "metadata": {},
     "output_type": "display_data"
    },
    {
     "data": {
      "image/png": "[encoded data removed]",
      "text/plain": [
       "<Figure size 640x480 with 1 Axes>"
      ]
     },
     "metadata": {},
     "output_type": "display_data"
    }
   ],
   "source": [
    "# Print the shape of dataset in the form of (#rows, #columns)\n",
    "print(f\"Rows , Columuns : {df.shape}\")\n",
    "print()\n",
    "\n",
    "# Describe dataset's main statistics\n",
    "# We're using the include=\"all\" attribut because we want to see/explore all values (not only numbers)\n",
    "# We need to see if there's missing values (null / NaN) and the type of data we have (numerical, categorical, labels, etc.)\n",
    "print(df.describe(include=\"all\"))\n",
    "print()\n",
    "\n",
    "# We're looking for missing values (display True or False for each column depending if values are missing or not)\n",
    "print(df.isnull().any())\n",
    "\n",
    "# We show the relationship between Marketing Spend and Profit\n",
    "plt.scatter(df.iloc[:, 2], df.iloc[:,4], color=\"red\")\n",
    "plt.show()\n",
    "\n",
    "# We show the relationship between R&D Spend and Profit\n",
    "plt.scatter(df.iloc[:, 0], df.iloc[:, 4])\n",
    "plt.show()"
   ]
  },
  {
   "cell_type": "markdown",
   "metadata": {},
   "source": [
    "## Step 3 - Separate Target from feature variables"
   ]
  },
  {
   "cell_type": "code",
   "execution_count": 24,
   "metadata": {},
   "outputs": [
    {
     "name": "stdout",
     "output_type": "stream",
     "text": [
      "Separating labels from features...\n",
      "...Done.\n",
      "\n",
      "   R&D Spend  Administration  Marketing Spend       State\n",
      "0  165349.20       136897.80        471784.10    New York\n",
      "1  162597.70       151377.59        443898.53  California\n",
      "2  153441.51       101145.55        407934.54     Florida\n",
      "3  144372.41       118671.85        383199.62    New York\n",
      "4  142107.34        91391.77        366168.42     Florida\n",
      "\n",
      "0    192261.83\n",
      "1    191792.06\n",
      "2    191050.39\n",
      "3    182901.99\n",
      "4    166187.94\n",
      "Name: Profit, dtype: float64\n"
     ]
    }
   ],
   "source": [
    "print(\"Separating labels from features...\")\n",
    "\n",
    "# We create two separate DataFrames, one with our features X and one for the target variable Y (that we want to predict)\n",
    "# We're using a List to enumerate the columns that we're going to use as features X\n",
    "features_list = [\"R&D Spend\", \"Administration\" , \"Marketing Spend\", \"State\"]\n",
    "\n",
    "X = df[features_list] # We add feature_list into our loc \n",
    "y = df[\"Profit\"] # We set \"Profit\" as the target variable\n",
    "\n",
    "print(\"...Done.\")\n",
    "print()\n",
    "\n",
    "print(X.head())\n",
    "print()\n",
    "print(y.head())"
   ]
  },
  {
   "cell_type": "markdown",
   "metadata": {},
   "source": [
    "## Step 4 - Train / Test split "
   ]
  },
  {
   "cell_type": "code",
   "execution_count": 25,
   "metadata": {},
   "outputs": [
    {
     "name": "stdout",
     "output_type": "stream",
     "text": [
      "Splitting dataset into train set and test set...\n",
      "...Done.\n",
      "\n",
      "    R&D Spend  Administration  Marketing Spend       State\n",
      "33   55493.95       103057.49        214634.81     Florida\n",
      "35   46014.02        85047.44        205517.64    New York\n",
      "26   75328.87       144135.98        134050.07     Florida\n",
      "34   46426.07       157693.92        210797.67  California\n",
      "18   91749.16       114175.79        294919.57     Florida\n",
      "\n",
      "33     96778.92\n",
      "35     96479.51\n",
      "26    105733.54\n",
      "34     96712.80\n",
      "18    124266.90\n",
      "Name: Profit, dtype: float64\n",
      "\n",
      "    R&D Spend  Administration  Marketing Spend       State\n",
      "28   66051.52       182645.56        118148.20     Florida\n",
      "11  100671.96        91790.61        249744.55  California\n",
      "10  101913.08       110594.11        229160.95     Florida\n",
      "41   27892.92        84710.77        164470.71     Florida\n",
      "2   153441.51       101145.55        407934.54     Florida\n",
      "\n",
      "28    103282.38\n",
      "11    144259.40\n",
      "10    146121.95\n",
      "41     77798.83\n",
      "2     191050.39\n",
      "Name: Profit, dtype: float64\n"
     ]
    }
   ],
   "source": [
    "print(\"Splitting dataset into train set and test set...\")\n",
    "\n",
    "# The method will return 4 arrays : 2 with features X and 2 with target variables y (each time : 1 for training the model, 1 for testing it)\n",
    "# X : our DataFrames of features\n",
    "# y : our DataFrames of target variables\n",
    "# test_size : the size of the training set compared with total set, using proportion => 0.20 (20%)\n",
    "# random_state : the method we use to randomly selected our data\n",
    "# stratify : allows to stratify your sample (same proportion of categories in test and train set) on a specific column\n",
    "X_train, X_test, y_train, y_test = train_test_split(X, y, test_size=0.2, random_state=0)\n",
    "\n",
    "print(\"...Done.\")  \n",
    "print()\n",
    "print(X_train.head())\n",
    "print()                    \n",
    "print(y_train.head())                    \n",
    "print()                    \n",
    "\n",
    "print(X_test.head())\n",
    "print()                    \n",
    "print(y_test.head())"
   ]
  },
  {
   "cell_type": "markdown",
   "metadata": {},
   "source": [
    "## Step 5 - Training"
   ]
  },
  {
   "cell_type": "code",
   "execution_count": 26,
   "metadata": {},
   "outputs": [
    {
     "name": "stdout",
     "output_type": "stream",
     "text": [
      "--- Training pipeline ---\n"
     ]
    }
   ],
   "source": [
    "print(\"--- Training pipeline ---\")"
   ]
  },
  {
   "cell_type": "markdown",
   "metadata": {},
   "source": [
    "### Imputing missing values"
   ]
  },
  {
   "cell_type": "code",
   "execution_count": 27,
   "metadata": {},
   "outputs": [],
   "source": [
    "# No missing values"
   ]
  },
  {
   "cell_type": "markdown",
   "metadata": {},
   "source": [
    "### Standardizing (scaling) and encoding"
   ]
  },
  {
   "cell_type": "code",
   "execution_count": 28,
   "metadata": {},
   "outputs": [
    {
     "name": "stdout",
     "output_type": "stream",
     "text": [
      "Encoding categorical features and standardizing numerical features...\n",
      "\n",
      "...Done.\n",
      "\n",
      "[[ 0.          1.          0.         -0.35006454 -0.78547109  0.1011968 ]\n",
      " [ 0.          0.          1.         -0.55530319 -1.48117426  0.02734979]\n",
      " [ 0.          1.          0.          0.07935762  0.80133381 -0.55152132]\n",
      " [ 1.          0.          0.         -0.54638238  1.32505817  0.07011684]\n",
      " [ 0.          1.          0.          0.43485371 -0.35598663  0.75148516]]\n",
      "\n"
     ]
    }
   ],
   "source": [
    "print(\"Encoding categorical features and standardizing numerical features...\")\n",
    "print()\n",
    "\n",
    "# We create a list with ids of columns containing numerical features in order to standardize them \n",
    "numeric_features = [0, 1, 2]\n",
    "numeric_transformer = StandardScaler()\n",
    "\n",
    "# We create a list with ids of columns containing categorical features in order to encode them \n",
    "categorical_features = [3]\n",
    "categorical_transformer = OneHotEncoder()\n",
    "\n",
    "# Instansiate the class ColumnTransformer with our transformers (in this case : one for scaling, one for encoding)\n",
    "feature_encoder = ColumnTransformer(\n",
    "    transformers=[   \n",
    "        ('cat', categorical_transformer, categorical_features), \n",
    "        ('num', numeric_transformer, numeric_features)\n",
    "    ]\n",
    ")\n",
    "\n",
    "X_train = feature_encoder.fit_transform(X_train)\n",
    "print(\"...Done.\")\n",
    "print()\n",
    "print(X_train[0:5,:]) # print first 5 rows (not using iloc since now X_train became a numpy array)\n",
    "print()"
   ]
  },
  {
   "cell_type": "markdown",
   "metadata": {},
   "source": [
    "### Build and train the model"
   ]
  },
  {
   "cell_type": "code",
   "execution_count": 29,
   "metadata": {},
   "outputs": [
    {
     "name": "stdout",
     "output_type": "stream",
     "text": [
      "Train model...\n",
      "...Done.\n"
     ]
    }
   ],
   "source": [
    "# Train model\n",
    "print(\"Train model...\")\n",
    "\n",
    "regressor = LinearRegression()\n",
    "\n",
    "# This steps is the actual training !\n",
    "regressor.fit(X_train, y_train)\n",
    "\n",
    "print(\"...Done.\")"
   ]
  },
  {
   "cell_type": "markdown",
   "metadata": {},
   "source": [
    "### Predict"
   ]
  },
  {
   "cell_type": "code",
   "execution_count": 30,
   "metadata": {},
   "outputs": [
    {
     "name": "stdout",
     "output_type": "stream",
     "text": [
      "Predictions on training set...\n",
      "...Done.\n",
      "[ 95764.42320496  89164.62849777 109506.72329085  91366.2188941\n",
      " 127111.48666646]\n",
      "\n"
     ]
    }
   ],
   "source": [
    "# Predictions on training set\n",
    "print(\"Predictions on training set...\")\n",
    "\n",
    "y_train_pred = regressor.predict(X_train)\n",
    "\n",
    "print(\"...Done.\")\n",
    "print(y_train_pred[:5]) # print first 5 rows (not using iloc since now y_train became a numpy array)\n",
    "print()"
   ]
  },
  {
   "cell_type": "markdown",
   "metadata": {},
   "source": [
    "## Step 6 - Testing"
   ]
  },
  {
   "cell_type": "code",
   "execution_count": 31,
   "metadata": {},
   "outputs": [
    {
     "name": "stdout",
     "output_type": "stream",
     "text": [
      "--- Test pipeline ---\n"
     ]
    }
   ],
   "source": [
    "print(\"--- Test pipeline ---\")"
   ]
  },
  {
   "cell_type": "markdown",
   "metadata": {},
   "source": [
    "### Imputing missing values"
   ]
  },
  {
   "cell_type": "code",
   "execution_count": 32,
   "metadata": {},
   "outputs": [],
   "source": [
    "# No missing values"
   ]
  },
  {
   "cell_type": "markdown",
   "metadata": {},
   "source": [
    "### Standardizing (scaling) and encoding"
   ]
  },
  {
   "cell_type": "code",
   "execution_count": 33,
   "metadata": {},
   "outputs": [
    {
     "name": "stdout",
     "output_type": "stream",
     "text": [
      "Encoding categorical features and standardizing numerical features...\n",
      "\n",
      "    R&D Spend  Administration  Marketing Spend       State\n",
      "28   66051.52       182645.56        118148.20     Florida\n",
      "11  100671.96        91790.61        249744.55  California\n",
      "10  101913.08       110594.11        229160.95     Florida\n",
      "41   27892.92        84710.77        164470.71     Florida\n",
      "2   153441.51       101145.55        407934.54     Florida\n",
      "27   72107.60       127864.55        353183.81    New York\n",
      "38   20229.59        65947.93        185265.10    New York\n",
      "31   61136.38       152701.92         88218.23    New York\n",
      "22   73994.56       122782.75        303319.26     Florida\n",
      "4   142107.34        91391.77        366168.42     Florida\n",
      "\n",
      "...Done.\n",
      "\n",
      "[[ 0.          1.          0.         -0.1214952   2.2889053  -0.68032287]\n",
      " [ 1.          0.          0.          0.6280306  -1.22069499  0.38557774]\n",
      " [ 0.          1.          0.          0.65490061 -0.49434195  0.21885524]\n",
      " [ 0.          1.          0.         -0.94762148 -1.49417936 -0.30512104]\n",
      " [ 0.          1.          0.          1.77048111 -0.85932667  1.6668808 ]\n",
      " [ 0.          0.          1.          0.00961775  0.17279112  1.22341229]\n",
      " [ 0.          0.          1.         -1.11353109 -2.21896176 -0.13669119]\n",
      " [ 0.          0.          1.         -0.22790703  1.13222416 -0.92274884]\n",
      " [ 0.          1.          0.          0.05047007 -0.02351175  0.81952074]\n",
      " [ 0.          1.          0.          1.52509853 -1.23610162  1.32858469]]\n"
     ]
    }
   ],
   "source": [
    "print(\"Encoding categorical features and standardizing numerical features...\")\n",
    "print()\n",
    "print(X_test)\n",
    "print()\n",
    "\n",
    "X_test = feature_encoder.transform(X_test)\n",
    "print(\"...Done.\")\n",
    "print()\n",
    "print(X_test)"
   ]
  },
  {
   "cell_type": "markdown",
   "metadata": {},
   "source": [
    "### Predict"
   ]
  },
  {
   "cell_type": "code",
   "execution_count": 34,
   "metadata": {},
   "outputs": [
    {
     "name": "stdout",
     "output_type": "stream",
     "text": [
      "Predictions on test set...\n",
      "...Done.\n",
      "[103015.20159796 132582.27760816 132447.73845174  71976.09851258\n",
      " 178537.48221055]\n",
      "\n"
     ]
    }
   ],
   "source": [
    "# Predictions on test set\n",
    "print(\"Predictions on test set...\")\n",
    "\n",
    "y_test_pred = regressor.predict(X_test)\n",
    "\n",
    "print(\"...Done.\")\n",
    "print(y_test_pred[:5])\n",
    "print()"
   ]
  },
  {
   "cell_type": "markdown",
   "metadata": {},
   "source": [
    "## Step 7 - Evaluate your model"
   ]
  },
  {
   "cell_type": "code",
   "execution_count": null,
   "metadata": {},
   "outputs": [
    {
     "name": "stdout",
     "output_type": "stream",
     "text": [
      "--- Assessing the performances of the model ---\n",
      "R2 score on training set :  0.9501847627493607\n",
      "R2 score on test set :  0.9347068473282426\n",
      "R2 train > R2 test => overfitting\n"
     ]
    }
   ],
   "source": [
    "# Performance assessment\n",
    "print(\"--- Assessing the performances of the model ---\")\n",
    "\n",
    "# Print R^2 scores\n",
    "print(\"R2 score on training set : \", regressor.score(X_train, y_train))\n",
    "print(\"R2 score on test set : \", regressor.score(X_test, y_test))\n",
    "\n",
    "# R2 close to 1 => good performance\n",
    "# R2 train +/- 5% R2 test => good performance\n",
    "# If more :\n",
    "# R2 train > R2 test => overfitting, impossible to generalize, need more data\n",
    "# R2 train < R2 test => underfitting, not really a problem, maybe use a complex model\n",
    "if(regressor.score(X_train, y_train) > regressor.score(X_test, y_test)) :\n",
    "    print(\"R2 train > R2 test => overfitting\")\n",
    "else :\n",
    "    print(\"R2 train < R2 test => underfitting\")"
   ]
  },
  {
   "cell_type": "markdown",
   "metadata": {},
   "source": [
    "## Step 9 - Feature importance"
   ]
  },
  {
   "cell_type": "code",
   "execution_count": 36,
   "metadata": {},
   "outputs": [
    {
     "name": "stdout",
     "output_type": "stream",
     "text": [
      "coefficients are:  [   86.63836918  -872.64579088   786.0074217  35726.28774249\n",
      "   851.30163448  4519.88277698]\n",
      "Constant is:  109354.85075245326\n"
     ]
    }
   ],
   "source": [
    "print(\"coefficients are: \", regressor.coef_) \n",
    "print(\"Constant is: \", regressor.intercept_)"
   ]
  },
  {
   "cell_type": "code",
   "execution_count": 37,
   "metadata": {},
   "outputs": [
    {
     "data": {
      "text/plain": [
       "array([[ 0.        ,  1.        ,  0.        , -0.35006454, -0.78547109,\n",
       "         0.1011968 ],\n",
       "       [ 0.        ,  0.        ,  1.        , -0.55530319, -1.48117426,\n",
       "         0.02734979],\n",
       "       [ 0.        ,  1.        ,  0.        ,  0.07935762,  0.80133381,\n",
       "        -0.55152132],\n",
       "       [ 1.        ,  0.        ,  0.        , -0.54638238,  1.32505817,\n",
       "         0.07011684],\n",
       "       [ 0.        ,  1.        ,  0.        ,  0.43485371, -0.35598663,\n",
       "         0.75148516]])"
      ]
     },
     "execution_count": 37,
     "metadata": {},
     "output_type": "execute_result"
    }
   ],
   "source": [
    "X_train[:5] # Visualize the first 5 rows of your X_train"
   ]
  },
  {
   "cell_type": "code",
   "execution_count": 38,
   "metadata": {},
   "outputs": [
    {
     "name": "stdout",
     "output_type": "stream",
     "text": [
      "All transformers are:  [('cat', OneHotEncoder(), [3]), ('num', StandardScaler(), [0, 1, 2])]\n",
      "One Hot Encoder transformer is:  OneHotEncoder()\n"
     ]
    }
   ],
   "source": [
    "# Access transformers from feature_encoder\n",
    "print(\"All transformers are: \", feature_encoder.transformers_)\n",
    "\n",
    "# Access one specific transformer\n",
    "print(\"One Hot Encoder transformer is: \", feature_encoder.transformers_[0][1])"
   ]
  },
  {
   "cell_type": "code",
   "execution_count": 39,
   "metadata": {},
   "outputs": [
    {
     "name": "stdout",
     "output_type": "stream",
     "text": [
      "Categorical columns are:  [array(['California', 'Florida', 'New York'], dtype=object)]\n"
     ]
    }
   ],
   "source": [
    "# Print categories\n",
    "categorical_column_names = feature_encoder.transformers_[0][1].categories_\n",
    "print(\"Categorical columns are: \", categorical_column_names)"
   ]
  },
  {
   "cell_type": "code",
   "execution_count": 40,
   "metadata": {},
   "outputs": [
    {
     "name": "stdout",
     "output_type": "stream",
     "text": [
      "numerical columns are:  Index(['R&D Spend', 'Administration', 'Marketing Spend'], dtype='object')\n"
     ]
    }
   ],
   "source": [
    "numerical_column_names = X.iloc[:, numeric_features].columns # using the .columns attribute gives us the name of the column \n",
    "print(\"numerical columns are: \", numerical_column_names)"
   ]
  },
  {
   "cell_type": "code",
   "execution_count": 41,
   "metadata": {},
   "outputs": [
    {
     "data": {
      "text/plain": [
       "array(['California', 'Florida', 'New York', 'R&D Spend', 'Administration',\n",
       "       'Marketing Spend'], dtype=object)"
      ]
     },
     "execution_count": 41,
     "metadata": {},
     "output_type": "execute_result"
    }
   ],
   "source": [
    "# Append all columns \n",
    "all_column_names = np.append(categorical_column_names, numerical_column_names)\n",
    "all_column_names"
   ]
  },
  {
   "cell_type": "code",
   "execution_count": 42,
   "metadata": {},
   "outputs": [
    {
     "data": {
      "text/html": [
       "<div>\n",
       "<style scoped>\n",
       "    .dataframe tbody tr th:only-of-type {\n",
       "        vertical-align: middle;\n",
       "    }\n",
       "\n",
       "    .dataframe tbody tr th {\n",
       "        vertical-align: top;\n",
       "    }\n",
       "\n",
       "    .dataframe thead th {\n",
       "        text-align: right;\n",
       "    }\n",
       "</style>\n",
       "<table border=\"1\" class=\"dataframe\">\n",
       "  <thead>\n",
       "    <tr style=\"text-align: right;\">\n",
       "      <th></th>\n",
       "      <th>feature_names</th>\n",
       "      <th>coefficients</th>\n",
       "    </tr>\n",
       "  </thead>\n",
       "  <tbody>\n",
       "    <tr>\n",
       "      <th>0</th>\n",
       "      <td>California</td>\n",
       "      <td>86.638369</td>\n",
       "    </tr>\n",
       "    <tr>\n",
       "      <th>1</th>\n",
       "      <td>Florida</td>\n",
       "      <td>-872.645791</td>\n",
       "    </tr>\n",
       "    <tr>\n",
       "      <th>2</th>\n",
       "      <td>New York</td>\n",
       "      <td>786.007422</td>\n",
       "    </tr>\n",
       "    <tr>\n",
       "      <th>3</th>\n",
       "      <td>R&amp;D Spend</td>\n",
       "      <td>35726.287742</td>\n",
       "    </tr>\n",
       "    <tr>\n",
       "      <th>4</th>\n",
       "      <td>Administration</td>\n",
       "      <td>851.301634</td>\n",
       "    </tr>\n",
       "    <tr>\n",
       "      <th>5</th>\n",
       "      <td>Marketing Spend</td>\n",
       "      <td>4519.882777</td>\n",
       "    </tr>\n",
       "  </tbody>\n",
       "</table>\n",
       "</div>"
      ],
      "text/plain": [
       "     feature_names  coefficients\n",
       "0       California     86.638369\n",
       "1          Florida   -872.645791\n",
       "2         New York    786.007422\n",
       "3        R&D Spend  35726.287742\n",
       "4   Administration    851.301634\n",
       "5  Marketing Spend   4519.882777"
      ]
     },
     "execution_count": 42,
     "metadata": {},
     "output_type": "execute_result"
    }
   ],
   "source": [
    "# Feature importance \n",
    "feature_importance = pd.DataFrame({\n",
    "    \"feature_names\": all_column_names,\n",
    "    \"coefficients\":regressor.coef_\n",
    "})\n",
    "\n",
    "feature_importance"
   ]
  },
  {
   "cell_type": "code",
   "execution_count": null,
   "metadata": {},
   "outputs": [
    {
     "data": {
      "text/plain": [
       "<seaborn.axisgrid.FacetGrid at 0x13c078b00>"
      ]
     },
     "execution_count": 43,
     "metadata": {},
     "output_type": "execute_result"
    },
    {
     "data": {
      "image/png": "[encoded data removed]",
      "text/plain": [
       "<Figure size 888.889x500 with 1 Axes>"
      ]
     },
     "metadata": {},
     "output_type": "display_data"
    }
   ],
   "source": [
    "# Set coefficient to absolute values to rank features\n",
    "feature_importance[\"coefficients\"] = feature_importance[\"coefficients\"].abs()\n",
    "\n",
    "# Visualize ranked features using seaborn\n",
    "sns.catplot(x=\"feature_names\", \n",
    "            y=\"coefficients\", \n",
    "            data=feature_importance.sort_values(by=\"coefficients\", ascending=False), \n",
    "            kind=\"bar\",\n",
    "            aspect=16/9, # Resize graph\n",
    "            hue='feature_names')\n",
    "\n",
    "# Se renseigner : https://shap.readthedocs.io/en/latest/index.html"
   ]
  }
 ],
 "metadata": {
  "kernelspec": {
   "display_name": "base",
   "language": "python",
   "name": "python3"
  },
  "language_info": {
   "codemirror_mode": {
    "name": "ipython",
    "version": 3
   },
   "file_extension": ".py",
   "mimetype": "text/x-python",
   "name": "python",
   "nbconvert_exporter": "python",
   "pygments_lexer": "ipython3",
   "version": "3.12.7"
  }
 },
 "nbformat": 4,
 "nbformat_minor": 2
}
