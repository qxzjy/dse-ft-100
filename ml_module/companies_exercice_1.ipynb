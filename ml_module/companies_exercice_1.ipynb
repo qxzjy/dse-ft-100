{
 "cells": [
  {
   "cell_type": "markdown",
   "metadata": {},
   "source": [
    "# Predict companies' performance - Part 1/2 "
   ]
  },
  {
   "cell_type": "markdown",
   "metadata": {},
   "source": [
    "## Step 1 - Import librairies"
   ]
  },
  {
   "cell_type": "code",
   "execution_count": 41,
   "metadata": {},
   "outputs": [],
   "source": [
    "# Data manipulation\n",
    "import pandas as pd\n",
    "\n",
    "# Data visualization\n",
    "import seaborn as sns\n",
    "import matplotlib.pyplot as plt\n",
    "\n",
    "# Matrice manipulation\n",
    "import numpy as np\n",
    "\n",
    "# Since the Scikit library is big, we only import what we need\n",
    "\n",
    "# train_test_split : method to split the dataset (DataFrame) into two distinct : one for training, one for testing\n",
    "from sklearn.model_selection import train_test_split\n",
    "\n",
    "# SimpleImputer : class which allow us to fill missing values (null, NaN) with specific strategy (median, mean, mode, etc.)\n",
    "from sklearn.impute import SimpleImputer\n",
    "\n",
    "# StandardScaler : class which allow us to standardize (put on the same scale) numerical features (using z-score)\n",
    "# OneHotEncoder : class which allow us to encode categorical features (create a column per category that contain only 0 and 1)\n",
    "# LabelEncoder : class which allow us to encode labels (same as categorical, but with a \"binary\" template of data) \n",
    "from sklearn.preprocessing import StandardScaler, OneHotEncoder, LabelEncoder\n",
    "\n",
    "# ColumnTransformer : : class which allow us to use scalers and encoders ojects to transform our DataFrames, returning numpy arrays\n",
    "from sklearn.compose import ColumnTransformer\n",
    "\n",
    "# LinearRegression : class which allow us to perform a linear regression model on our data\n",
    "from sklearn.linear_model import LinearRegression"
   ]
  },
  {
   "cell_type": "markdown",
   "metadata": {},
   "source": [
    "## Step 2 - Import dataset "
   ]
  },
  {
   "cell_type": "code",
   "execution_count": 42,
   "metadata": {},
   "outputs": [
    {
     "data": {
      "text/html": [
       "<div>\n",
       "<style scoped>\n",
       "    .dataframe tbody tr th:only-of-type {\n",
       "        vertical-align: middle;\n",
       "    }\n",
       "\n",
       "    .dataframe tbody tr th {\n",
       "        vertical-align: top;\n",
       "    }\n",
       "\n",
       "    .dataframe thead th {\n",
       "        text-align: right;\n",
       "    }\n",
       "</style>\n",
       "<table border=\"1\" class=\"dataframe\">\n",
       "  <thead>\n",
       "    <tr style=\"text-align: right;\">\n",
       "      <th></th>\n",
       "      <th>Marketing Spending</th>\n",
       "      <th>Profit</th>\n",
       "    </tr>\n",
       "  </thead>\n",
       "  <tbody>\n",
       "    <tr>\n",
       "      <th>0</th>\n",
       "      <td>165349.20</td>\n",
       "      <td>192261.83</td>\n",
       "    </tr>\n",
       "    <tr>\n",
       "      <th>1</th>\n",
       "      <td>162597.70</td>\n",
       "      <td>191792.06</td>\n",
       "    </tr>\n",
       "    <tr>\n",
       "      <th>2</th>\n",
       "      <td>153441.51</td>\n",
       "      <td>191050.39</td>\n",
       "    </tr>\n",
       "    <tr>\n",
       "      <th>3</th>\n",
       "      <td>144372.41</td>\n",
       "      <td>182901.99</td>\n",
       "    </tr>\n",
       "    <tr>\n",
       "      <th>4</th>\n",
       "      <td>142107.34</td>\n",
       "      <td>166187.94</td>\n",
       "    </tr>\n",
       "  </tbody>\n",
       "</table>\n",
       "</div>"
      ],
      "text/plain": [
       "   Marketing Spending     Profit\n",
       "0           165349.20  192261.83\n",
       "1           162597.70  191792.06\n",
       "2           153441.51  191050.39\n",
       "3           144372.41  182901.99\n",
       "4           142107.34  166187.94"
      ]
     },
     "execution_count": 42,
     "metadata": {},
     "output_type": "execute_result"
    }
   ],
   "source": [
    "df = pd.read_csv(\"/Users/qxzjy/vscworkspace/dse-ft-100/ml_module/data/Marketing_Spending.csv\")\n",
    "df.head()"
   ]
  },
  {
   "cell_type": "code",
   "execution_count": 43,
   "metadata": {},
   "outputs": [
    {
     "name": "stdout",
     "output_type": "stream",
     "text": [
      "Rows , Columuns : (50, 2)\n",
      "\n",
      "       Marketing Spending         Profit\n",
      "count           50.000000      50.000000\n",
      "mean         73721.615600  112012.639200\n",
      "std          45902.256482   40306.180338\n",
      "min              0.000000   14681.400000\n",
      "25%          39936.370000   90138.902500\n",
      "50%          73051.080000  107978.190000\n",
      "75%         101602.800000  139765.977500\n",
      "max         165349.200000  192261.830000\n",
      "\n",
      "Marketing Spending    False\n",
      "Profit                False\n",
      "dtype: bool\n"
     ]
    },
    {
     "data": {
      "image/png": "[encoded data removed]",
      "text/plain": [
       "<Figure size 640x480 with 1 Axes>"
      ]
     },
     "metadata": {},
     "output_type": "display_data"
    }
   ],
   "source": [
    "# Print the shape of dataset in the form of (#rows, #columns)\n",
    "print(f\"Rows , Columuns : {df.shape}\")\n",
    "print()\n",
    "\n",
    "# Describe dataset's main statistics\n",
    "# We're using the include=\"all\" attribut because we want to see/explore all values (not only numbers)\n",
    "# We need to see if there's missing values (null / NaN) and the type of data we have (numerical, categorical, labels, etc.)\n",
    "print(df.describe(include=\"all\"))\n",
    "print()\n",
    "\n",
    "# We print the sum of missing values by column\n",
    "print(df.isnull().any())\n",
    "\n",
    "# graph = sns.catplot(x=\"Marketing Spending\", y=\"Profit\", data=df)\n",
    "plt.scatter(df.iloc[:, 0], df.iloc[:, 1], color=\"#4BE8E0\")\n",
    "plt.show()"
   ]
  },
  {
   "cell_type": "markdown",
   "metadata": {},
   "source": [
    "## Step 3 - Separate Target from feature variables"
   ]
  },
  {
   "cell_type": "code",
   "execution_count": 45,
   "metadata": {},
   "outputs": [
    {
     "name": "stdout",
     "output_type": "stream",
     "text": [
      "Separating labels from features...\n",
      "...Done.\n",
      "\n",
      "   Marketing Spending\n",
      "0           165349.20\n",
      "1           162597.70\n",
      "2           153441.51\n",
      "3           144372.41\n",
      "4           142107.34\n",
      "\n",
      "0    192261.83\n",
      "1    191792.06\n",
      "2    191050.39\n",
      "3    182901.99\n",
      "4    166187.94\n",
      "Name: Profit, dtype: float64\n"
     ]
    }
   ],
   "source": [
    "print(\"Separating labels from features...\")\n",
    "\n",
    "# We create two separate DataFrames, one with our features X and one for the target variable Y (that we want to predict)\n",
    "# We're using a List to enumerate the columns that we're going to use as features X\n",
    "features_list = [\"Marketing Spending\"]\n",
    "\n",
    "X = df.loc[:,features_list]  # X = df[features_list]\n",
    "y = df.loc[:,\"Profit\"] # Y = df[\"Profit\"] \n",
    "\n",
    "print(\"...Done.\")\n",
    "print()\n",
    "\n",
    "print(X.head())\n",
    "print()\n",
    "print(y.head())"
   ]
  },
  {
   "cell_type": "markdown",
   "metadata": {},
   "source": [
    "## Step 4 - Train / Test split "
   ]
  },
  {
   "cell_type": "code",
   "execution_count": 32,
   "metadata": {},
   "outputs": [
    {
     "name": "stdout",
     "output_type": "stream",
     "text": [
      "Splitting dataset into train set and test set...\n",
      "...Done.\n",
      "\n",
      "    Marketing Spending\n",
      "33            55493.95\n",
      "35            46014.02\n",
      "26            75328.87\n",
      "34            46426.07\n",
      "18            91749.16\n",
      "\n",
      "33     96778.92\n",
      "35     96479.51\n",
      "26    105733.54\n",
      "34     96712.80\n",
      "18    124266.90\n",
      "Name: Profit, dtype: float64\n",
      "\n",
      "    Marketing Spending\n",
      "28            66051.52\n",
      "11           100671.96\n",
      "10           101913.08\n",
      "41            27892.92\n",
      "2            153441.51\n",
      "\n",
      "28    103282.38\n",
      "11    144259.40\n",
      "10    146121.95\n",
      "41     77798.83\n",
      "2     191050.39\n",
      "Name: Profit, dtype: float64\n"
     ]
    }
   ],
   "source": [
    "print(\"Splitting dataset into train set and test set...\")\n",
    "\n",
    "# The method will return 4 arrays : 2 with features X and 2 with target variables y (each time : 1 for training the model, 1 for testing it)\n",
    "# X : our DataFrames of features\n",
    "# y : our DataFrames of target variables\n",
    "# test_size : the size of the training set compared with total set, using proportion => 0.20 (20%)\n",
    "# random_state : the method we use to randomly selected our data\n",
    "# stratify : allows to stratify your sample (same proportion of categories in test and train set) on a specific column\n",
    "X_train, X_test, y_train, y_test = train_test_split(X, y, test_size=0.2, random_state=0)\n",
    "\n",
    "print(\"...Done.\")  \n",
    "print()\n",
    "print(X_train.head())\n",
    "print()                    \n",
    "print(y_train.head())                    \n",
    "print()                    \n",
    "\n",
    "print(X_test.head())\n",
    "print()                    \n",
    "print(y_test.head())"
   ]
  },
  {
   "cell_type": "markdown",
   "metadata": {},
   "source": [
    "## Step 5 - Training"
   ]
  },
  {
   "cell_type": "code",
   "execution_count": 9,
   "metadata": {},
   "outputs": [
    {
     "name": "stdout",
     "output_type": "stream",
     "text": [
      "--- Training pipeline ---\n"
     ]
    }
   ],
   "source": [
    "print(\"--- Training pipeline ---\")"
   ]
  },
  {
   "cell_type": "markdown",
   "metadata": {},
   "source": [
    "### Imputing missing values"
   ]
  },
  {
   "cell_type": "code",
   "execution_count": null,
   "metadata": {},
   "outputs": [],
   "source": [
    "# No missing values"
   ]
  },
  {
   "cell_type": "markdown",
   "metadata": {},
   "source": [
    "### Standardizing (scaling) and encoding"
   ]
  },
  {
   "cell_type": "code",
   "execution_count": null,
   "metadata": {},
   "outputs": [
    {
     "name": "stdout",
     "output_type": "stream",
     "text": [
      "Encoding categorical features and standardizing numerical features...\n",
      "\n",
      "(40, 1)\n",
      "...Done.\n",
      "\n",
      "[[-0.35006454]\n",
      " [-0.55530319]\n",
      " [ 0.07935762]\n",
      " [-0.54638238]\n",
      " [ 0.43485371]\n",
      " [ 1.26943143]\n",
      " [ 1.04525007]\n",
      " [-1.529843  ]\n",
      " [-1.53976251]\n",
      " [-0.13115188]\n",
      " [ 0.92791613]\n",
      " [-0.20932933]\n",
      " [-0.17870828]\n",
      " [ 0.1374709 ]\n",
      " [-1.03967624]\n",
      " [ 0.09938348]\n",
      " [-1.21580174]\n",
      " [ 1.05822437]\n",
      " [ 0.4401196 ]\n",
      " [-0.15151937]\n",
      " [ 1.30361149]\n",
      " [ 0.49781135]\n",
      " [-0.92897212]\n",
      " [-1.55149779]\n",
      " [ 1.96871085]\n",
      " [ 0.48063418]\n",
      " [-0.59739193]\n",
      " [ 0.11649007]\n",
      " [ 1.36290079]\n",
      " [-0.08943162]\n",
      " [-0.93093295]\n",
      " [ 0.14561902]\n",
      " [ 0.31947194]\n",
      " [ 1.11867842]\n",
      " [-0.71671353]\n",
      " [-1.52301833]\n",
      " [ 1.57413686]\n",
      " [ 2.02828029]\n",
      " [-1.55149779]\n",
      " [-1.07135402]]\n",
      "\n"
     ]
    }
   ],
   "source": [
    "print(\"Encoding categorical features and standardizing numerical features...\")\n",
    "print()\n",
    "\n",
    "# We create a list with ids of columns containing numerical features in order to standardize them \n",
    "numeric_features = [0]\n",
    "numeric_transformer = StandardScaler()\n",
    "\n",
    "# Instansiate the class ColumnTransformer with our transformers (in this case : one for scaling, one for encoding)\n",
    "feature_encoder = ColumnTransformer(\n",
    "    transformers=[   \n",
    "        ('num', numeric_transformer, numeric_features)\n",
    "    ]\n",
    ")\n",
    "\n",
    "X_train = feature_encoder.fit_transform(X_train)\n",
    "print(\"...Done.\")\n",
    "print()\n",
    "print(X_train) # print first 5 rows (not using iloc since now X_train became a numpy array)\n",
    "print()"
   ]
  },
  {
   "cell_type": "markdown",
   "metadata": {},
   "source": [
    "### Build and train the model"
   ]
  },
  {
   "cell_type": "code",
   "execution_count": 34,
   "metadata": {},
   "outputs": [
    {
     "name": "stdout",
     "output_type": "stream",
     "text": [
      "Train model...\n",
      "...Done.\n"
     ]
    }
   ],
   "source": [
    "# Train model\n",
    "print(\"Train model...\")\n",
    "\n",
    "regressor = LinearRegression()\n",
    "\n",
    "# This steps is the actual training !\n",
    "regressor.fit(X_train, y_train)\n",
    "\n",
    "print(\"...Done.\")"
   ]
  },
  {
   "cell_type": "markdown",
   "metadata": {},
   "source": [
    "### Predict"
   ]
  },
  {
   "cell_type": "code",
   "execution_count": 35,
   "metadata": {},
   "outputs": [
    {
     "name": "stdout",
     "output_type": "stream",
     "text": [
      "Predictions on training set...\n",
      "...Done.\n",
      "[ 95676.21073667  87602.88620742 112568.08084243  87953.79738211\n",
      " 126551.97418703]\n",
      "\n"
     ]
    }
   ],
   "source": [
    "# Predictions on training set\n",
    "print(\"Predictions on training set...\")\n",
    "\n",
    "y_train_pred = regressor.predict(X_train)\n",
    "\n",
    "print(\"...Done.\")\n",
    "print(y_train_pred[:5]) # print first 5 rows (not using iloc since now y_train became a numpy array)\n",
    "print()"
   ]
  },
  {
   "cell_type": "markdown",
   "metadata": {},
   "source": [
    "## Step 6 - Testing"
   ]
  },
  {
   "cell_type": "code",
   "execution_count": null,
   "metadata": {},
   "outputs": [],
   "source": [
    "print(\"--- Test pipeline ---\")"
   ]
  },
  {
   "cell_type": "markdown",
   "metadata": {},
   "source": [
    "### Imputing missing values"
   ]
  },
  {
   "cell_type": "code",
   "execution_count": 36,
   "metadata": {},
   "outputs": [],
   "source": [
    "# No missing values"
   ]
  },
  {
   "cell_type": "markdown",
   "metadata": {},
   "source": [
    "### Standardizing (scaling) and encoding"
   ]
  },
  {
   "cell_type": "code",
   "execution_count": 37,
   "metadata": {},
   "outputs": [
    {
     "name": "stdout",
     "output_type": "stream",
     "text": [
      "Encoding categorical features and standardizing numerical features...\n",
      "\n",
      "    Marketing Spending\n",
      "28            66051.52\n",
      "11           100671.96\n",
      "10           101913.08\n",
      "41            27892.92\n",
      "2            153441.51\n",
      "27            72107.60\n",
      "38            20229.59\n",
      "31            61136.38\n",
      "22            73994.56\n",
      "4            142107.34\n",
      "\n",
      "...Done.\n",
      "\n",
      "[[-0.1214952 ]\n",
      " [ 0.6280306 ]\n",
      " [ 0.65490061]\n",
      " [-0.94762148]\n",
      " [ 1.77048111]\n",
      " [ 0.00961775]\n",
      " [-1.11353109]\n",
      " [-0.22790703]\n",
      " [ 0.05047007]\n",
      " [ 1.52509853]]\n"
     ]
    }
   ],
   "source": [
    "print(\"Encoding categorical features and standardizing numerical features...\")\n",
    "print()\n",
    "print(X_test)\n",
    "print()\n",
    "\n",
    "X_test = feature_encoder.transform(X_test)\n",
    "print(\"...Done.\")\n",
    "print()\n",
    "print(X_test)"
   ]
  },
  {
   "cell_type": "markdown",
   "metadata": {},
   "source": [
    "### Predict"
   ]
  },
  {
   "cell_type": "code",
   "execution_count": 38,
   "metadata": {},
   "outputs": [
    {
     "name": "stdout",
     "output_type": "stream",
     "text": [
      "Predictions on test set...\n",
      "...Done.\n",
      "[104667.27805998 134150.83410578 135207.80019517  72170.54428856\n",
      " 179090.58602508]\n",
      "\n"
     ]
    }
   ],
   "source": [
    "# Predictions on test set\n",
    "print(\"Predictions on test set...\")\n",
    "\n",
    "y_test_pred = regressor.predict(X_test)\n",
    "\n",
    "print(\"...Done.\")\n",
    "print(y_test_pred[:5])\n",
    "print()"
   ]
  },
  {
   "cell_type": "markdown",
   "metadata": {},
   "source": [
    "## Step 7 - Evaluate your model"
   ]
  },
  {
   "cell_type": "code",
   "execution_count": null,
   "metadata": {},
   "outputs": [
    {
     "name": "stdout",
     "output_type": "stream",
     "text": [
      "--- Assessing the performances of the model ---\n",
      "R2 score on training set :  0.9449589778363044\n",
      "R2 score on test set :  0.9464587607787219\n",
      "R2 train < R2 test => underfitting\n"
     ]
    }
   ],
   "source": [
    "# Performance assessment\n",
    "print(\"--- Assessing the performances of the model ---\")\n",
    "\n",
    "# Print R^2 scores\n",
    "print(\"R2 score on training set : \", regressor.score(X_train, y_train))\n",
    "print(\"R2 score on test set : \", regressor.score(X_test, y_test))\n",
    "\n",
    "# R2 close to 1 => good performance\n",
    "# R2 train +/- 5% R2 test => good performance\n",
    "# If more :\n",
    "# R2 train > R2 test => overfitting, impossible to generalize, need more data\n",
    "# R2 train < R2 test => underfitting, not really a problem, maybe use a complex model\n",
    "if(regressor.score(X_train, y_train) > regressor.score(X_test, y_test)) :\n",
    "    print(\"R2 train > R2 test => overfitting\")\n",
    "else :\n",
    "    print(\"R2 train < R2 test => underfitting\")"
   ]
  },
  {
   "cell_type": "markdown",
   "metadata": {},
   "source": [
    "## Step 9 - Feature importance"
   ]
  },
  {
   "cell_type": "code",
   "execution_count": 30,
   "metadata": {},
   "outputs": [
    {
     "name": "stdout",
     "output_type": "stream",
     "text": [
      "coefficients are:  [  592.38156517  -549.19065753   -43.19090764 25440.39203571]\n",
      "Constant is:  78085.80951156281\n"
     ]
    }
   ],
   "source": [
    "print(\"coefficients are: \", regressor.coef_) \n",
    "print(\"Constant is: \", regressor.intercept_)"
   ]
  },
  {
   "cell_type": "code",
   "execution_count": 31,
   "metadata": {},
   "outputs": [
    {
     "data": {
      "text/plain": [
       "array([[ 0.        ,  1.        ,  0.        , -0.26257421],\n",
       "       [ 0.        ,  1.        ,  0.        , -0.88858956],\n",
       "       [ 0.        ,  1.        ,  0.        ,  1.2472275 ],\n",
       "       [ 0.        ,  0.        ,  1.        , -0.18892535],\n",
       "       [ 1.        ,  0.        ,  0.        , -0.55716967]])"
      ]
     },
     "execution_count": 31,
     "metadata": {},
     "output_type": "execute_result"
    }
   ],
   "source": [
    "X_train[:5] # Visualize the first 5 rows of your X_train"
   ]
  },
  {
   "cell_type": "code",
   "execution_count": null,
   "metadata": {},
   "outputs": [
    {
     "name": "stdout",
     "output_type": "stream",
     "text": [
      "All transformers are:  [('cat', OneHotEncoder(), [0]), ('num', StandardScaler(), [1])]\n",
      "One Hot Encoder transformer is:  OneHotEncoder()\n"
     ]
    }
   ],
   "source": [
    "# Access transformers from feature_encoder\n",
    "print(\"All transformers are: \", feature_encoder.transformers_)\n",
    "\n",
    "# Access one specific transformer\n",
    "print(\"One Hot Encoder transformer is: \", feature_encoder.transformers_[0][1])"
   ]
  },
  {
   "cell_type": "code",
   "execution_count": null,
   "metadata": {},
   "outputs": [
    {
     "name": "stdout",
     "output_type": "stream",
     "text": [
      "Categorical columns are:  [array(['France', 'Germany', 'United-Kingdom'], dtype=object)]\n"
     ]
    }
   ],
   "source": [
    "# Print categories\n",
    "categorical_column_names = feature_encoder.transformers_[0][1].categories_\n",
    "print(\"Categorical columns are: \", categorical_column_names)"
   ]
  },
  {
   "cell_type": "code",
   "execution_count": 34,
   "metadata": {},
   "outputs": [
    {
     "name": "stdout",
     "output_type": "stream",
     "text": [
      "numerical columns are:  Index(['YearsExperience'], dtype='object')\n"
     ]
    }
   ],
   "source": [
    "numerical_column_names = X.iloc[:, numeric_features].columns # using the .columns attribute gives us the name of the column \n",
    "print(\"numerical columns are: \", numerical_column_names)"
   ]
  },
  {
   "cell_type": "code",
   "execution_count": 35,
   "metadata": {},
   "outputs": [
    {
     "data": {
      "text/plain": [
       "array(['France', 'Germany', 'United-Kingdom', 'YearsExperience'],\n",
       "      dtype=object)"
      ]
     },
     "execution_count": 35,
     "metadata": {},
     "output_type": "execute_result"
    }
   ],
   "source": [
    "# Append all columns \n",
    "all_column_names = np.append(categorical_column_names, numerical_column_names)\n",
    "all_column_names"
   ]
  },
  {
   "cell_type": "code",
   "execution_count": 36,
   "metadata": {},
   "outputs": [
    {
     "data": {
      "text/html": [
       "<div>\n",
       "<style scoped>\n",
       "    .dataframe tbody tr th:only-of-type {\n",
       "        vertical-align: middle;\n",
       "    }\n",
       "\n",
       "    .dataframe tbody tr th {\n",
       "        vertical-align: top;\n",
       "    }\n",
       "\n",
       "    .dataframe thead th {\n",
       "        text-align: right;\n",
       "    }\n",
       "</style>\n",
       "<table border=\"1\" class=\"dataframe\">\n",
       "  <thead>\n",
       "    <tr style=\"text-align: right;\">\n",
       "      <th></th>\n",
       "      <th>feature_names</th>\n",
       "      <th>coefficients</th>\n",
       "    </tr>\n",
       "  </thead>\n",
       "  <tbody>\n",
       "    <tr>\n",
       "      <th>0</th>\n",
       "      <td>France</td>\n",
       "      <td>592.381565</td>\n",
       "    </tr>\n",
       "    <tr>\n",
       "      <th>1</th>\n",
       "      <td>Germany</td>\n",
       "      <td>-549.190658</td>\n",
       "    </tr>\n",
       "    <tr>\n",
       "      <th>2</th>\n",
       "      <td>United-Kingdom</td>\n",
       "      <td>-43.190908</td>\n",
       "    </tr>\n",
       "    <tr>\n",
       "      <th>3</th>\n",
       "      <td>YearsExperience</td>\n",
       "      <td>25440.392036</td>\n",
       "    </tr>\n",
       "  </tbody>\n",
       "</table>\n",
       "</div>"
      ],
      "text/plain": [
       "     feature_names  coefficients\n",
       "0           France    592.381565\n",
       "1          Germany   -549.190658\n",
       "2   United-Kingdom    -43.190908\n",
       "3  YearsExperience  25440.392036"
      ]
     },
     "execution_count": 36,
     "metadata": {},
     "output_type": "execute_result"
    }
   ],
   "source": [
    "# Feature importance \n",
    "feature_importance = pd.DataFrame({\n",
    "    \"feature_names\": all_column_names,\n",
    "    \"coefficients\":regressor.coef_\n",
    "})\n",
    "\n",
    "feature_importance"
   ]
  },
  {
   "cell_type": "code",
   "execution_count": 39,
   "metadata": {},
   "outputs": [
    {
     "data": {
      "text/plain": [
       "<seaborn.axisgrid.FacetGrid at 0x16135dfa0>"
      ]
     },
     "execution_count": 39,
     "metadata": {},
     "output_type": "execute_result"
    },
    {
     "data": {
      "image/png": "[encoded data removed]",
      "text/plain": [
       "<Figure size 888.889x500 with 1 Axes>"
      ]
     },
     "metadata": {},
     "output_type": "display_data"
    }
   ],
   "source": [
    "# Set coefficient to absolute values to rank features\n",
    "feature_importance[\"coefficients\"] = feature_importance[\"coefficients\"].abs()\n",
    "\n",
    "# Visualize ranked features using seaborn\n",
    "sns.catplot(x=\"feature_names\", \n",
    "            y=\"coefficients\", \n",
    "            data=feature_importance.sort_values(by=\"coefficients\", ascending=False), \n",
    "            kind=\"bar\",\n",
    "            aspect=16/9, # Resize graph\n",
    "            hue='feature_names')"
   ]
  }
 ],
 "metadata": {
  "kernelspec": {
   "display_name": "base",
   "language": "python",
   "name": "python3"
  },
  "language_info": {
   "codemirror_mode": {
    "name": "ipython",
    "version": 3
   },
   "file_extension": ".py",
   "mimetype": "text/x-python",
   "name": "python",
   "nbconvert_exporter": "python",
   "pygments_lexer": "ipython3",
   "version": "3.12.7"
  }
 },
 "nbformat": 4,
 "nbformat_minor": 2
}
