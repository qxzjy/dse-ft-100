{
 "cells": [
  {
   "cell_type": "markdown",
   "metadata": {},
   "source": [
    "# Titanic"
   ]
  },
  {
   "cell_type": "markdown",
   "metadata": {},
   "source": [
    "## Step 1 - Import librairies"
   ]
  },
  {
   "cell_type": "code",
   "execution_count": 2,
   "metadata": {},
   "outputs": [],
   "source": [
    "# Data manipulation\n",
    "import pandas as pd\n",
    "\n",
    "# Data visualization\n",
    "import seaborn as sns\n",
    "import matplotlib.pyplot as plt\n",
    "\n",
    "# Matrice manipulation\n",
    "import numpy as np\n",
    "\n",
    "# Since the Scikit library is big, we only import what we need\n",
    "\n",
    "# train_test_split : method to split the dataset (DataFrame) into two distinct : one for training, one for testing\n",
    "from sklearn.model_selection import train_test_split\n",
    "\n",
    "# SimpleImputer : class which allow us to fill missing values (null, NaN) with specific strategy (median, mean, mode, etc.)\n",
    "from sklearn.impute import SimpleImputer\n",
    "\n",
    "# StandardScaler : class which allow us to standardize (put on the same scale) numerical features (using z-score)\n",
    "# OneHotEncoder : class which allow us to encode categorical features (create a column per category that contain only 0 and 1)\n",
    "# LabelEncoder : class which allow us to encode labels (same as categorical, but with a \"binary\" template of data) \n",
    "from sklearn.preprocessing import StandardScaler, OneHotEncoder, LabelEncoder\n",
    "\n",
    "# ColumnTransformer : : class which allow us to use scalers and encoders ojects to transform our DataFrames, returning numpy arrays\n",
    "from sklearn.compose import ColumnTransformer\n",
    "\n",
    "# LogisticRegression : class which allow us to perform a logistic regression model on our data\n",
    "from sklearn.linear_model import LogisticRegression\n",
    "\n",
    "# confusion_matrix : method to manipulate confusion matrix (to store results of our logistic regression)\n",
    "# ConfusionMatrixDisplay : class which allow us to create graph from confusion matrix\n",
    "from sklearn.metrics import confusion_matrix, ConfusionMatrixDisplay"
   ]
  },
  {
   "cell_type": "markdown",
   "metadata": {},
   "source": [
    "## Step 2 - Import dataset & EDA"
   ]
  },
  {
   "cell_type": "code",
   "execution_count": 3,
   "metadata": {},
   "outputs": [
    {
     "data": {
      "text/html": [
       "<div>\n",
       "<style scoped>\n",
       "    .dataframe tbody tr th:only-of-type {\n",
       "        vertical-align: middle;\n",
       "    }\n",
       "\n",
       "    .dataframe tbody tr th {\n",
       "        vertical-align: top;\n",
       "    }\n",
       "\n",
       "    .dataframe thead th {\n",
       "        text-align: right;\n",
       "    }\n",
       "</style>\n",
       "<table border=\"1\" class=\"dataframe\">\n",
       "  <thead>\n",
       "    <tr style=\"text-align: right;\">\n",
       "      <th></th>\n",
       "      <th>PassengerId</th>\n",
       "      <th>Survived</th>\n",
       "      <th>Pclass</th>\n",
       "      <th>Name</th>\n",
       "      <th>Sex</th>\n",
       "      <th>Age</th>\n",
       "      <th>SibSp</th>\n",
       "      <th>Parch</th>\n",
       "      <th>Ticket</th>\n",
       "      <th>Fare</th>\n",
       "      <th>Cabin</th>\n",
       "      <th>Embarked</th>\n",
       "    </tr>\n",
       "  </thead>\n",
       "  <tbody>\n",
       "    <tr>\n",
       "      <th>0</th>\n",
       "      <td>1</td>\n",
       "      <td>0</td>\n",
       "      <td>3</td>\n",
       "      <td>Braund, Mr. Owen Harris</td>\n",
       "      <td>male</td>\n",
       "      <td>22.0</td>\n",
       "      <td>1</td>\n",
       "      <td>0</td>\n",
       "      <td>A/5 21171</td>\n",
       "      <td>7.2500</td>\n",
       "      <td>NaN</td>\n",
       "      <td>S</td>\n",
       "    </tr>\n",
       "    <tr>\n",
       "      <th>1</th>\n",
       "      <td>2</td>\n",
       "      <td>1</td>\n",
       "      <td>1</td>\n",
       "      <td>Cumings, Mrs. John Bradley (Florence Briggs Th...</td>\n",
       "      <td>female</td>\n",
       "      <td>38.0</td>\n",
       "      <td>1</td>\n",
       "      <td>0</td>\n",
       "      <td>PC 17599</td>\n",
       "      <td>71.2833</td>\n",
       "      <td>C85</td>\n",
       "      <td>C</td>\n",
       "    </tr>\n",
       "    <tr>\n",
       "      <th>2</th>\n",
       "      <td>3</td>\n",
       "      <td>1</td>\n",
       "      <td>3</td>\n",
       "      <td>Heikkinen, Miss. Laina</td>\n",
       "      <td>female</td>\n",
       "      <td>26.0</td>\n",
       "      <td>0</td>\n",
       "      <td>0</td>\n",
       "      <td>STON/O2. 3101282</td>\n",
       "      <td>7.9250</td>\n",
       "      <td>NaN</td>\n",
       "      <td>S</td>\n",
       "    </tr>\n",
       "    <tr>\n",
       "      <th>3</th>\n",
       "      <td>4</td>\n",
       "      <td>1</td>\n",
       "      <td>1</td>\n",
       "      <td>Futrelle, Mrs. Jacques Heath (Lily May Peel)</td>\n",
       "      <td>female</td>\n",
       "      <td>35.0</td>\n",
       "      <td>1</td>\n",
       "      <td>0</td>\n",
       "      <td>113803</td>\n",
       "      <td>53.1000</td>\n",
       "      <td>C123</td>\n",
       "      <td>S</td>\n",
       "    </tr>\n",
       "    <tr>\n",
       "      <th>4</th>\n",
       "      <td>5</td>\n",
       "      <td>0</td>\n",
       "      <td>3</td>\n",
       "      <td>Allen, Mr. William Henry</td>\n",
       "      <td>male</td>\n",
       "      <td>35.0</td>\n",
       "      <td>0</td>\n",
       "      <td>0</td>\n",
       "      <td>373450</td>\n",
       "      <td>8.0500</td>\n",
       "      <td>NaN</td>\n",
       "      <td>S</td>\n",
       "    </tr>\n",
       "  </tbody>\n",
       "</table>\n",
       "</div>"
      ],
      "text/plain": [
       "   PassengerId  Survived  Pclass  \\\n",
       "0            1         0       3   \n",
       "1            2         1       1   \n",
       "2            3         1       3   \n",
       "3            4         1       1   \n",
       "4            5         0       3   \n",
       "\n",
       "                                                Name     Sex   Age  SibSp  \\\n",
       "0                            Braund, Mr. Owen Harris    male  22.0      1   \n",
       "1  Cumings, Mrs. John Bradley (Florence Briggs Th...  female  38.0      1   \n",
       "2                             Heikkinen, Miss. Laina  female  26.0      0   \n",
       "3       Futrelle, Mrs. Jacques Heath (Lily May Peel)  female  35.0      1   \n",
       "4                           Allen, Mr. William Henry    male  35.0      0   \n",
       "\n",
       "   Parch            Ticket     Fare Cabin Embarked  \n",
       "0      0         A/5 21171   7.2500   NaN        S  \n",
       "1      0          PC 17599  71.2833   C85        C  \n",
       "2      0  STON/O2. 3101282   7.9250   NaN        S  \n",
       "3      0            113803  53.1000  C123        S  \n",
       "4      0            373450   8.0500   NaN        S  "
      ]
     },
     "execution_count": 3,
     "metadata": {},
     "output_type": "execute_result"
    }
   ],
   "source": [
    "df = pd.read_csv(\"/Users/qxzjy/vscworkspace/dse-ft-100/ml_module/data/titanic.csv\")\n",
    "df.head()"
   ]
  },
  {
   "cell_type": "code",
   "execution_count": 4,
   "metadata": {},
   "outputs": [],
   "source": [
    "df = df[[\"Survived\", \"Pclass\", \"Sex\", \"Age\", \"SibSp\", \"Parch\", \"Fare\", \"Embarked\"]]"
   ]
  },
  {
   "cell_type": "code",
   "execution_count": 5,
   "metadata": {},
   "outputs": [
    {
     "name": "stdout",
     "output_type": "stream",
     "text": [
      "Rows , Columuns : (891, 8)\n",
      "\n",
      "          Survived      Pclass   Sex         Age       SibSp       Parch  \\\n",
      "count   891.000000  891.000000   891  714.000000  891.000000  891.000000   \n",
      "unique         NaN         NaN     2         NaN         NaN         NaN   \n",
      "top            NaN         NaN  male         NaN         NaN         NaN   \n",
      "freq           NaN         NaN   577         NaN         NaN         NaN   \n",
      "mean      0.383838    2.308642   NaN   29.699118    0.523008    0.381594   \n",
      "std       0.486592    0.836071   NaN   14.526497    1.102743    0.806057   \n",
      "min       0.000000    1.000000   NaN    0.420000    0.000000    0.000000   \n",
      "25%       0.000000    2.000000   NaN   20.125000    0.000000    0.000000   \n",
      "50%       0.000000    3.000000   NaN   28.000000    0.000000    0.000000   \n",
      "75%       1.000000    3.000000   NaN   38.000000    1.000000    0.000000   \n",
      "max       1.000000    3.000000   NaN   80.000000    8.000000    6.000000   \n",
      "\n",
      "              Fare Embarked  \n",
      "count   891.000000      889  \n",
      "unique         NaN        3  \n",
      "top            NaN        S  \n",
      "freq           NaN      644  \n",
      "mean     32.204208      NaN  \n",
      "std      49.693429      NaN  \n",
      "min       0.000000      NaN  \n",
      "25%       7.910400      NaN  \n",
      "50%      14.454200      NaN  \n",
      "75%      31.000000      NaN  \n",
      "max     512.329200      NaN  \n",
      "\n"
     ]
    },
    {
     "data": {
      "text/plain": [
       "Survived    False\n",
       "Pclass      False\n",
       "Sex         False\n",
       "Age          True\n",
       "SibSp       False\n",
       "Parch       False\n",
       "Fare        False\n",
       "Embarked     True\n",
       "dtype: bool"
      ]
     },
     "metadata": {},
     "output_type": "display_data"
    }
   ],
   "source": [
    "# Print the shape of dataset in the form of (#rows, #columns)\n",
    "print(f\"Rows , Columuns : {df.shape}\")\n",
    "print()\n",
    "\n",
    "# Describe dataset's main statistics\n",
    "# We're using the include=\"all\" attribut because we want to see/explore all values (not only numbers)\n",
    "# We need to see if there's missing values (null / NaN) and the type of data we have (numerical, categorical, labels, etc.)\n",
    "print(df.describe(include=\"all\"))\n",
    "print()\n",
    "\n",
    "# We're looking for missing values (display True or False for each column depending if values are missing or not)\n",
    "display(df.isnull().any())"
   ]
  },
  {
   "cell_type": "code",
   "execution_count": 6,
   "metadata": {},
   "outputs": [
    {
     "data": {
      "image/png": "[encoded data removed]",
      "text/plain": [
       "<Figure size 500x500 with 1 Axes>"
      ]
     },
     "metadata": {},
     "output_type": "display_data"
    },
    {
     "data": {
      "image/png": "[encoded data removed]",
      "text/plain": [
       "<Figure size 558.875x500 with 1 Axes>"
      ]
     },
     "metadata": {},
     "output_type": "display_data"
    },
    {
     "data": {
      "image/png": "[encoded data removed]",
      "text/plain": [
       "<Figure size 558.875x500 with 1 Axes>"
      ]
     },
     "metadata": {},
     "output_type": "display_data"
    },
    {
     "data": {
      "image/png": "[encoded data removed]",
      "text/plain": [
       "<Figure size 581.611x500 with 1 Axes>"
      ]
     },
     "metadata": {},
     "output_type": "display_data"
    },
    {
     "data": {
      "image/png": "[encoded data removed]",
      "text/plain": [
       "<Figure size 558.875x500 with 1 Axes>"
      ]
     },
     "metadata": {},
     "output_type": "display_data"
    },
    {
     "data": {
      "image/png": "[encoded data removed]",
      "text/plain": [
       "<Figure size 500x500 with 1 Axes>"
      ]
     },
     "metadata": {},
     "output_type": "display_data"
    }
   ],
   "source": [
    "sns.catplot(x=\"Sex\", y=\"Survived\", data=df, kind=\"bar\", hue=\"Sex\")\n",
    "plt.show()\n",
    "\n",
    "sns.catplot(x=\"SibSp\", y=\"Survived\", data=df, kind=\"bar\", hue=\"SibSp\")\n",
    "plt.show()\n",
    "\n",
    "sns.catplot(x=\"Pclass\", y=\"Survived\", data=df, kind=\"bar\", hue=\"Pclass\")\n",
    "plt.show()\n",
    "\n",
    "sns.catplot(x=\"Embarked\", y=\"Survived\", data=df, kind=\"bar\", hue=\"Embarked\")\n",
    "plt.show()\n",
    "\n",
    "sns.catplot(x=\"Parch\", y=\"Survived\", data=df, kind=\"bar\", hue=\"Parch\")\n",
    "plt.show()\n",
    "\n",
    "sns.lmplot(x=\"Fare\", y=\"Survived\",data=df, logistic=True)\n",
    "plt.show()"
   ]
  },
  {
   "cell_type": "markdown",
   "metadata": {},
   "source": [
    "## Step 3 - Separate Target from feature variables"
   ]
  },
  {
   "cell_type": "code",
   "execution_count": 7,
   "metadata": {},
   "outputs": [
    {
     "name": "stdout",
     "output_type": "stream",
     "text": [
      "Separating labels from features...\n",
      "...Done.\n",
      "\n",
      "   Pclass     Sex   Age  SibSp  Parch     Fare Embarked\n",
      "0       3    male  22.0      1      0   7.2500        S\n",
      "1       1  female  38.0      1      0  71.2833        C\n",
      "2       3  female  26.0      0      0   7.9250        S\n",
      "3       1  female  35.0      1      0  53.1000        S\n",
      "4       3    male  35.0      0      0   8.0500        S\n",
      "\n",
      "0    0\n",
      "1    1\n",
      "2    1\n",
      "3    1\n",
      "4    0\n",
      "Name: Survived, dtype: int64\n"
     ]
    }
   ],
   "source": [
    "print(\"Separating labels from features...\")\n",
    "\n",
    "# We create two separate DataFrames, one with our features X and one for the target variable Y (that we want to predict)\n",
    "# We're using a List to enumerate the columns that we're going to use as features X\n",
    "features_list = [\"Pclass\", \"Sex\", \"Age\", \"SibSp\", \"Parch\", \"Fare\", \"Embarked\"]  # = df.columns[1:]\n",
    "X = df.loc[:,features_list] # X = df[features_list]\n",
    "y = df.loc[:,\"Survived\"] # Y = df[\"Survived\"]\n",
    "\n",
    "\n",
    "print(\"...Done.\")\n",
    "print()\n",
    "\n",
    "print(X.head())\n",
    "print()\n",
    "print(y.head())"
   ]
  },
  {
   "cell_type": "markdown",
   "metadata": {},
   "source": [
    "## Step 4 - Train / Test split "
   ]
  },
  {
   "cell_type": "code",
   "execution_count": 8,
   "metadata": {},
   "outputs": [
    {
     "name": "stdout",
     "output_type": "stream",
     "text": [
      "Splitting dataset into train set and test set...\n",
      "...Done.\n",
      "\n",
      "     Pclass     Sex   Age  SibSp  Parch     Fare Embarked\n",
      "502       3  female   NaN      0      0   7.6292        Q\n",
      "464       3    male   NaN      0      0   8.0500        S\n",
      "198       3  female   NaN      0      0   7.7500        Q\n",
      "765       1  female  51.0      1      0  77.9583        S\n",
      "421       3    male  21.0      0      0   7.7333        Q\n",
      "\n",
      "502    0\n",
      "464    0\n",
      "198    1\n",
      "765    1\n",
      "421    0\n",
      "Name: Survived, dtype: int64\n",
      "\n",
      "     Pclass     Sex   Age  SibSp  Parch     Fare Embarked\n",
      "153       3    male  40.5      0      2  14.5000        S\n",
      "752       3    male  33.0      0      0   9.5000        S\n",
      "610       3  female  39.0      1      5  31.2750        S\n",
      "200       3    male  28.0      0      0   9.5000        S\n",
      "310       1  female  24.0      0      0  83.1583        C\n",
      "\n",
      "153    0\n",
      "752    0\n",
      "610    0\n",
      "200    0\n",
      "310    1\n",
      "Name: Survived, dtype: int64\n"
     ]
    }
   ],
   "source": [
    "print(\"Splitting dataset into train set and test set...\")\n",
    "\n",
    "# The method will return 4 arrays : 2 with features X and 2 with target variables y (each time : 1 for training the model, 1 for testing it)\n",
    "# X : our DataFrames of features\n",
    "# y : our DataFrames of target variables\n",
    "# test_size : the size of the training set compared with total set, using proportion => 0.20 (20%)\n",
    "# random_state : the method we use to randomly selected our data\n",
    "# stratify : allows to stratify your sample (same proportion of categories in test and train set) on a specific column\n",
    "X_train, X_test, y_train, y_test = train_test_split(X, y, test_size=0.2, random_state=0, stratify=y)\n",
    "\n",
    "print(\"...Done.\")  \n",
    "print()\n",
    "print(X_train.head())\n",
    "print()                    \n",
    "print(y_train.head())                    \n",
    "print()                    \n",
    "\n",
    "print(X_test.head())\n",
    "print()                    \n",
    "print(y_test.head())"
   ]
  },
  {
   "cell_type": "markdown",
   "metadata": {},
   "source": [
    "## Step 5 - Training"
   ]
  },
  {
   "cell_type": "code",
   "execution_count": 9,
   "metadata": {},
   "outputs": [
    {
     "name": "stdout",
     "output_type": "stream",
     "text": [
      "--- Training pipeline ---\n"
     ]
    }
   ],
   "source": [
    "print(\"--- Training pipeline ---\")"
   ]
  },
  {
   "cell_type": "markdown",
   "metadata": {},
   "source": [
    "### Imputing missing values"
   ]
  },
  {
   "cell_type": "code",
   "execution_count": null,
   "metadata": {},
   "outputs": [
    {
     "name": "stdout",
     "output_type": "stream",
     "text": [
      "Imputing missing values...\n",
      "\n",
      "     Pclass     Sex   Age  SibSp  Parch     Fare Embarked\n",
      "502       3  female   NaN      0      0   7.6292        Q\n",
      "464       3    male   NaN      0      0   8.0500        S\n",
      "198       3  female   NaN      0      0   7.7500        Q\n",
      "765       1  female  51.0      1      0  77.9583        S\n",
      "421       3    male  21.0      0      0   7.7333        Q\n",
      "368       3  female   NaN      0      0   7.7500        Q\n",
      "643       3    male   NaN      0      0  56.4958        S\n",
      "46        3    male   NaN      1      0  15.5000        Q\n",
      "671       1    male  31.0      1      0  52.0000        S\n",
      "530       2  female   2.0      1      1  26.0000        S\n",
      "\n",
      "...Done!\n",
      "\n",
      "     Pclass     Sex   Age  SibSp  Parch     Fare Embarked\n",
      "502       3  female  28.0      0      0   7.6292        Q\n",
      "464       3    male  28.0      0      0   8.0500        S\n",
      "198       3  female  28.0      0      0   7.7500        Q\n",
      "765       1  female  51.0      1      0  77.9583        S\n",
      "421       3    male  21.0      0      0   7.7333        Q\n",
      "368       3  female  28.0      0      0   7.7500        Q\n",
      "643       3    male  28.0      0      0  56.4958        S\n",
      "46        3    male  28.0      1      0  15.5000        Q\n",
      "671       1    male  31.0      1      0  52.0000        S\n",
      "530       2  female   2.0      1      1  26.0000        S\n"
     ]
    }
   ],
   "source": [
    "print(\"Imputing missing values...\")\n",
    "print()\n",
    "\n",
    "# Instanciate class of SimpleImputer with strategy of median, for missing numerical values\n",
    "numerical_imputer = SimpleImputer(strategy=\"median\")\n",
    "\n",
    "# Instanciate class of SimpleImputer with strategy of constant, for missing categorical values\n",
    "categorical_imputer = SimpleImputer(strategy=\"constant\", fill_value=\"Unknown\")\n",
    "\n",
    "\n",
    "# Copy dataset to avoid caveats of assign a copy of a slice of a DataFrame\n",
    "X_train = X_train.copy()\n",
    "print(X_train.head(10))\n",
    "print()\n",
    "\n",
    "# Fit and transform columns where there are missing values\n",
    "X_train.loc[:,[\"Age\"]] = numerical_imputer.fit_transform(X_train.loc[:,[\"Age\"]])\n",
    "\n",
    "X_train.loc[:,[\"Embarked\"]] = categorical_imputer.fit_transform(X_train.loc[:,[\"Embarked\"]])\n",
    "\n",
    "\n",
    "print(\"...Done!\")\n",
    "print()\n",
    "\n",
    "print(X_train.head(10))"
   ]
  },
  {
   "cell_type": "markdown",
   "metadata": {},
   "source": [
    "### Standardizing (scaling) and encoding"
   ]
  },
  {
   "cell_type": "code",
   "execution_count": 11,
   "metadata": {},
   "outputs": [
    {
     "name": "stdout",
     "output_type": "stream",
     "text": [
      "Encoding categorical features and standardizing numerical features...\n",
      "\n",
      "...Done.\n",
      "\n",
      "[[ 0.          0.          1.          1.          0.          0.\n",
      "   1.          0.          0.         -0.09099558 -0.48693486 -0.46765914\n",
      "  -0.48206053]\n",
      " [ 0.          0.          1.          0.          1.          0.\n",
      "   0.          1.          0.         -0.09099558 -0.48693486 -0.46765914\n",
      "  -0.47408512]\n",
      " [ 0.          0.          1.          1.          0.          0.\n",
      "   1.          0.          0.         -0.09099558 -0.48693486 -0.46765914\n",
      "  -0.47977101]\n",
      " [ 1.          0.          0.          1.          0.          0.\n",
      "   0.          1.          0.          1.70021457  0.45774531 -0.46765914\n",
      "   0.85088482]\n",
      " [ 0.          0.          1.          0.          1.          0.\n",
      "   1.          0.          0.         -0.63614649 -0.48693486 -0.46765914\n",
      "  -0.48008752]\n",
      " [ 0.          0.          1.          1.          0.          0.\n",
      "   1.          0.          0.         -0.09099558 -0.48693486 -0.46765914\n",
      "  -0.47977101]\n",
      " [ 0.          0.          1.          0.          1.          0.\n",
      "   0.          1.          0.         -0.09099558 -0.48693486 -0.46765914\n",
      "   0.4441067 ]\n",
      " [ 0.          0.          1.          0.          1.          0.\n",
      "   1.          0.          0.         -0.09099558  0.45774531 -0.46765914\n",
      "  -0.33288549]\n",
      " [ 1.          0.          0.          0.          1.          0.\n",
      "   0.          1.          0.          0.14264053  0.45774531 -0.46765914\n",
      "   0.35889793]\n",
      " [ 0.          1.          0.          1.          0.          0.\n",
      "   0.          1.          0.         -2.11584182  0.45774531  0.81795208\n",
      "  -0.1338793 ]]\n",
      "\n"
     ]
    }
   ],
   "source": [
    "print(\"Encoding categorical features and standardizing numerical features...\")\n",
    "print()\n",
    "\n",
    "# We create a list with ids of columns containing numerical features in order to standardize them \n",
    "numeric_features = [2, 3 ,4 ,5]\n",
    "numeric_transformer = StandardScaler()\n",
    "\n",
    "# We create a list with ids of columns containing categorical features in order to encode them \n",
    "# We can add a drop='first' attribute to the class, in order to avoid colinearity\n",
    "# If using drop='first', we have to aggregate coefficient from the categorical features\n",
    "categorical_features = [0, 1, 6]\n",
    "categorical_transformer = OneHotEncoder()\n",
    "\n",
    "# Instansiate the class ColumnTransformer with our transformers (in this case : one for scaling, one for encoding)\n",
    "featureencoder = ColumnTransformer(\n",
    "    transformers=[\n",
    "        ('cat', categorical_transformer, categorical_features),    \n",
    "        ('num', numeric_transformer, numeric_features)\n",
    "    ]\n",
    ")\n",
    "\n",
    "X_train = featureencoder.fit_transform(X_train)\n",
    "print(\"...Done.\")\n",
    "print()\n",
    "print(X_train[:10]) # print first 5 rows (not using iloc since now X_train became a numpy array)\n",
    "print()"
   ]
  },
  {
   "cell_type": "markdown",
   "metadata": {},
   "source": [
    "### Build and train the model"
   ]
  },
  {
   "cell_type": "code",
   "execution_count": 12,
   "metadata": {},
   "outputs": [
    {
     "name": "stdout",
     "output_type": "stream",
     "text": [
      "Train model...\n",
      "...Done.\n"
     ]
    }
   ],
   "source": [
    "# Train model\n",
    "print(\"Train model...\")\n",
    "\n",
    "classifier = LogisticRegression()\n",
    "\n",
    "# This steps is the actual training !\n",
    "classifier.fit(X_train, y_train)\n",
    "\n",
    "print(\"...Done.\")"
   ]
  },
  {
   "cell_type": "markdown",
   "metadata": {},
   "source": [
    "### Predict"
   ]
  },
  {
   "cell_type": "code",
   "execution_count": 13,
   "metadata": {},
   "outputs": [
    {
     "name": "stdout",
     "output_type": "stream",
     "text": [
      "Predictions on training set...\n",
      "...Done.\n",
      "[1 0 1 1 0 1 0 0 0 1]\n",
      "\n"
     ]
    }
   ],
   "source": [
    "# Predictions on training set\n",
    "print(\"Predictions on training set...\")\n",
    "\n",
    "y_train_pred = classifier.predict(X_train)\n",
    "\n",
    "print(\"...Done.\")\n",
    "print(y_train_pred[:10]) # print first 5 rows (not using iloc since now y_train became a numpy array)\n",
    "print()"
   ]
  },
  {
   "cell_type": "markdown",
   "metadata": {},
   "source": [
    "## Step 6 - Testing"
   ]
  },
  {
   "cell_type": "code",
   "execution_count": 14,
   "metadata": {},
   "outputs": [
    {
     "name": "stdout",
     "output_type": "stream",
     "text": [
      "--- Test pipeline ---\n"
     ]
    }
   ],
   "source": [
    "print(\"--- Test pipeline ---\")"
   ]
  },
  {
   "cell_type": "markdown",
   "metadata": {},
   "source": [
    "### Imputing missing values"
   ]
  },
  {
   "cell_type": "code",
   "execution_count": 15,
   "metadata": {},
   "outputs": [
    {
     "name": "stdout",
     "output_type": "stream",
     "text": [
      "Imputing missing values...\n",
      "     Pclass     Sex   Age  SibSp  Parch     Fare Embarked\n",
      "153       3    male  40.5      0      2  14.5000        S\n",
      "752       3    male  33.0      0      0   9.5000        S\n",
      "610       3  female  39.0      1      5  31.2750        S\n",
      "200       3    male  28.0      0      0   9.5000        S\n",
      "310       1  female  24.0      0      0  83.1583        C\n",
      "..      ...     ...   ...    ...    ...      ...      ...\n",
      "96        1    male  71.0      0      0  34.6542        C\n",
      "440       2  female  45.0      1      1  26.2500        S\n",
      "75        3    male  25.0      0      0   7.6500        S\n",
      "575       3    male  19.0      0      0  14.5000        S\n",
      "143       3    male  19.0      0      0   6.7500        Q\n",
      "\n",
      "[179 rows x 7 columns]\n",
      "\n",
      "...Done!\n",
      "\n",
      "     Pclass     Sex   Age  SibSp  Parch     Fare Embarked\n",
      "153       3    male  40.5      0      2  14.5000        S\n",
      "752       3    male  33.0      0      0   9.5000        S\n",
      "610       3  female  39.0      1      5  31.2750        S\n",
      "200       3    male  28.0      0      0   9.5000        S\n",
      "310       1  female  24.0      0      0  83.1583        C\n",
      "..      ...     ...   ...    ...    ...      ...      ...\n",
      "96        1    male  71.0      0      0  34.6542        C\n",
      "440       2  female  45.0      1      1  26.2500        S\n",
      "75        3    male  25.0      0      0   7.6500        S\n",
      "575       3    male  19.0      0      0  14.5000        S\n",
      "143       3    male  19.0      0      0   6.7500        Q\n",
      "\n",
      "[179 rows x 7 columns]\n"
     ]
    }
   ],
   "source": [
    "print(\"Imputing missing values...\")\n",
    "print(X_test)\n",
    "print()\n",
    "\n",
    "# Fit and transform columns where there are missing values\n",
    "X_test.loc[:,[\"Age\"]] = numerical_imputer.fit_transform(X_test.loc[:,[\"Age\"]])\n",
    "\n",
    "X_test.loc[:,[\"Embarked\"]] = categorical_imputer.fit_transform(X_test.loc[:,[\"Embarked\"]])\n",
    "\n",
    "print(\"...Done!\")\n",
    "print()\n",
    "print(X_test)"
   ]
  },
  {
   "cell_type": "markdown",
   "metadata": {},
   "source": [
    "### Standardizing (scaling) and encoding"
   ]
  },
  {
   "cell_type": "code",
   "execution_count": 16,
   "metadata": {},
   "outputs": [
    {
     "name": "stdout",
     "output_type": "stream",
     "text": [
      "Encoding categorical features and standardizing numerical features...\n",
      "\n",
      "     Pclass     Sex   Age  SibSp  Parch     Fare Embarked\n",
      "153       3    male  40.5      0      2  14.5000        S\n",
      "752       3    male  33.0      0      0   9.5000        S\n",
      "610       3  female  39.0      1      5  31.2750        S\n",
      "200       3    male  28.0      0      0   9.5000        S\n",
      "310       1  female  24.0      0      0  83.1583        C\n",
      "..      ...     ...   ...    ...    ...      ...      ...\n",
      "96        1    male  71.0      0      0  34.6542        C\n",
      "440       2  female  45.0      1      1  26.2500        S\n",
      "75        3    male  25.0      0      0   7.6500        S\n",
      "575       3    male  19.0      0      0  14.5000        S\n",
      "143       3    male  19.0      0      0   6.7500        Q\n",
      "\n",
      "[179 rows x 7 columns]\n",
      "\n",
      "...Done.\n",
      "\n",
      "[[ 0.          0.          1.         ... -0.48693486  2.1035633\n",
      "  -0.35183846]\n",
      " [ 0.          0.          1.         ... -0.48693486 -0.46765914\n",
      "  -0.44660331]\n",
      " [ 0.          0.          1.         ...  0.45774531  5.96039696\n",
      "  -0.03390238]\n",
      " ...\n",
      " [ 0.          0.          1.         ... -0.48693486 -0.46765914\n",
      "  -0.4816663 ]\n",
      " [ 0.          0.          1.         ... -0.48693486 -0.46765914\n",
      "  -0.35183846]\n",
      " [ 0.          0.          1.         ... -0.48693486 -0.46765914\n",
      "  -0.49872398]]\n"
     ]
    }
   ],
   "source": [
    "print(\"Encoding categorical features and standardizing numerical features...\")\n",
    "print()\n",
    "print(X_test)\n",
    "print()\n",
    "\n",
    "X_test = featureencoder.transform(X_test)\n",
    "print(\"...Done.\")\n",
    "print()\n",
    "print(X_test)"
   ]
  },
  {
   "cell_type": "markdown",
   "metadata": {},
   "source": [
    "### Predict"
   ]
  },
  {
   "cell_type": "code",
   "execution_count": 17,
   "metadata": {},
   "outputs": [
    {
     "name": "stdout",
     "output_type": "stream",
     "text": [
      "Predictions on test set...\n",
      "...Done.\n",
      "[0 0 0 0 1 0 0 0 1 0]\n"
     ]
    }
   ],
   "source": [
    "# Predictions on test set\n",
    "print(\"Predictions on test set...\")\n",
    "\n",
    "y_test_pred = classifier.predict(X_test)\n",
    "\n",
    "print(\"...Done.\")\n",
    "print(y_test_pred[:10])"
   ]
  },
  {
   "cell_type": "markdown",
   "metadata": {},
   "source": [
    "## Step 7 - Evaluate your model"
   ]
  },
  {
   "cell_type": "code",
   "execution_count": 18,
   "metadata": {},
   "outputs": [
    {
     "name": "stdout",
     "output_type": "stream",
     "text": [
      "--- Assessing the performances of the model ---\n"
     ]
    },
    {
     "data": {
      "image/png": "[encoded data removed]",
      "text/plain": [
       "<Figure size 640x480 with 2 Axes>"
      ]
     },
     "metadata": {},
     "output_type": "display_data"
    },
    {
     "name": "stdout",
     "output_type": "stream",
     "text": [
      "Final accuracy score on Train set :  0.8132022471910112\n"
     ]
    },
    {
     "data": {
      "image/png": "[encoded data removed]",
      "text/plain": [
       "<Figure size 640x480 with 2 Axes>"
      ]
     },
     "metadata": {},
     "output_type": "display_data"
    },
    {
     "name": "stdout",
     "output_type": "stream",
     "text": [
      "Final accuracy score on Test set :  0.7932960893854749\n"
     ]
    }
   ],
   "source": [
    "# Performance assessment\n",
    "print(\"--- Assessing the performances of the model ---\")\n",
    "\n",
    "#tr_mc = confusion_matrix(y_train, y_train_pred, labels=classifier.classes_)\n",
    "cm_display = ConfusionMatrixDisplay.from_predictions(y_train, y_train_pred)\n",
    "cm_display.ax_.set_title(\"Confusion matrix on train set \") # Simply to set a title\n",
    "plt.show() # Show graph\n",
    "print(\"Final accuracy score on Train set : \", classifier.score(X_train, y_train))\n",
    "\n",
    "#te_mc = confusion_matrix(y_test, y_test_pred, labels=classifier.classes_)\n",
    "cm_display = ConfusionMatrixDisplay.from_predictions(y_test, y_test_pred)\n",
    "cm_display.ax_.set_title(\"Confusion matrix on test set \") # Simply to set a title\n",
    "plt.show() # Show graph\n",
    "print(\"Final accuracy score on Test set : \", classifier.score(X_test, y_test))\n",
    "\n",
    "# No overfitting ! "
   ]
  },
  {
   "cell_type": "markdown",
   "metadata": {},
   "source": [
    "## Step 9 - Feature importance"
   ]
  },
  {
   "cell_type": "code",
   "execution_count": 19,
   "metadata": {},
   "outputs": [
    {
     "name": "stdout",
     "output_type": "stream",
     "text": [
      "coefficients are:  [[ 1.01124211  0.15235759 -1.09575594  1.37669402 -1.30885026  0.03076214\n",
      "   0.04566975 -0.22662418  0.21803606 -0.4998948  -0.36961133 -0.05088967\n",
      "   0.1789507 ]]\n",
      "Constant is:  [0.18472472]\n"
     ]
    }
   ],
   "source": [
    "print(\"coefficients are: \", classifier.coef_) \n",
    "print(\"Constant is: \", classifier.intercept_)"
   ]
  },
  {
   "cell_type": "code",
   "execution_count": 20,
   "metadata": {},
   "outputs": [
    {
     "name": "stdout",
     "output_type": "stream",
     "text": [
      "All transformers are:  [('cat', OneHotEncoder(), [0, 1, 6]), ('num', StandardScaler(), [2, 3, 4, 5])]\n",
      "One Hot Encoder transformer is:  OneHotEncoder()\n"
     ]
    }
   ],
   "source": [
    "# Access transformers from feature_encoder\n",
    "print(\"All transformers are: \", featureencoder.transformers_)\n",
    "\n",
    "# Access one specific transformer\n",
    "print(\"One Hot Encoder transformer is: \", featureencoder.transformers_[0][1])"
   ]
  },
  {
   "cell_type": "code",
   "execution_count": 31,
   "metadata": {},
   "outputs": [
    {
     "name": "stdout",
     "output_type": "stream",
     "text": [
      "Categorical columns are:  [1.0 2.0 3.0 'female' 'male' 'C' 'Q' 'S' 'Unknown']\n"
     ]
    }
   ],
   "source": [
    "# Print categories\n",
    "categorical_column_names = featureencoder.transformers_[0][1].categories_\n",
    "\n",
    "flat_cat_features = []\n",
    "for i in range (len(categorical_column_names)):\n",
    "    flat_cat_features = np.append(flat_cat_features, categorical_column_names[i])\n",
    "print(\"Categorical columns are: \", flat_cat_features)"
   ]
  },
  {
   "cell_type": "code",
   "execution_count": 32,
   "metadata": {},
   "outputs": [
    {
     "name": "stdout",
     "output_type": "stream",
     "text": [
      "numerical columns are:  Index(['Age', 'SibSp', 'Parch', 'Fare'], dtype='object')\n"
     ]
    }
   ],
   "source": [
    "numerical_column_names = X.iloc[:, numeric_features].columns # using the .columns attribute gives us the name of the column \n",
    "print(\"numerical columns are: \", numerical_column_names)"
   ]
  },
  {
   "cell_type": "code",
   "execution_count": null,
   "metadata": {},
   "outputs": [
    {
     "data": {
      "text/plain": [
       "array([1.0, 2.0, 3.0, 'female', 'male', 'C', 'Q', 'S', 'Unknown', 'Age',\n",
       "       'SibSp', 'Parch', 'Fare'], dtype=object)"
      ]
     },
     "execution_count": 33,
     "metadata": {},
     "output_type": "execute_result"
    }
   ],
   "source": [
    "# Append all columns \n",
    "all_column_names = np.append(flat_cat_features, numerical_column_names)\n",
    "all_column_names"
   ]
  },
  {
   "cell_type": "code",
   "execution_count": 34,
   "metadata": {},
   "outputs": [
    {
     "data": {
      "text/html": [
       "<div>\n",
       "<style scoped>\n",
       "    .dataframe tbody tr th:only-of-type {\n",
       "        vertical-align: middle;\n",
       "    }\n",
       "\n",
       "    .dataframe tbody tr th {\n",
       "        vertical-align: top;\n",
       "    }\n",
       "\n",
       "    .dataframe thead th {\n",
       "        text-align: right;\n",
       "    }\n",
       "</style>\n",
       "<table border=\"1\" class=\"dataframe\">\n",
       "  <thead>\n",
       "    <tr style=\"text-align: right;\">\n",
       "      <th></th>\n",
       "      <th>feature_names</th>\n",
       "      <th>coefficients</th>\n",
       "    </tr>\n",
       "  </thead>\n",
       "  <tbody>\n",
       "    <tr>\n",
       "      <th>0</th>\n",
       "      <td>1.0</td>\n",
       "      <td>1.011242</td>\n",
       "    </tr>\n",
       "    <tr>\n",
       "      <th>1</th>\n",
       "      <td>2.0</td>\n",
       "      <td>0.152358</td>\n",
       "    </tr>\n",
       "    <tr>\n",
       "      <th>2</th>\n",
       "      <td>3.0</td>\n",
       "      <td>-1.095756</td>\n",
       "    </tr>\n",
       "    <tr>\n",
       "      <th>3</th>\n",
       "      <td>female</td>\n",
       "      <td>1.376694</td>\n",
       "    </tr>\n",
       "    <tr>\n",
       "      <th>4</th>\n",
       "      <td>male</td>\n",
       "      <td>-1.308850</td>\n",
       "    </tr>\n",
       "    <tr>\n",
       "      <th>5</th>\n",
       "      <td>C</td>\n",
       "      <td>0.030762</td>\n",
       "    </tr>\n",
       "    <tr>\n",
       "      <th>6</th>\n",
       "      <td>Q</td>\n",
       "      <td>0.045670</td>\n",
       "    </tr>\n",
       "    <tr>\n",
       "      <th>7</th>\n",
       "      <td>S</td>\n",
       "      <td>-0.226624</td>\n",
       "    </tr>\n",
       "    <tr>\n",
       "      <th>8</th>\n",
       "      <td>Unknown</td>\n",
       "      <td>0.218036</td>\n",
       "    </tr>\n",
       "    <tr>\n",
       "      <th>9</th>\n",
       "      <td>Age</td>\n",
       "      <td>-0.499895</td>\n",
       "    </tr>\n",
       "    <tr>\n",
       "      <th>10</th>\n",
       "      <td>SibSp</td>\n",
       "      <td>-0.369611</td>\n",
       "    </tr>\n",
       "    <tr>\n",
       "      <th>11</th>\n",
       "      <td>Parch</td>\n",
       "      <td>-0.050890</td>\n",
       "    </tr>\n",
       "    <tr>\n",
       "      <th>12</th>\n",
       "      <td>Fare</td>\n",
       "      <td>0.178951</td>\n",
       "    </tr>\n",
       "  </tbody>\n",
       "</table>\n",
       "</div>"
      ],
      "text/plain": [
       "   feature_names  coefficients\n",
       "0            1.0      1.011242\n",
       "1            2.0      0.152358\n",
       "2            3.0     -1.095756\n",
       "3         female      1.376694\n",
       "4           male     -1.308850\n",
       "5              C      0.030762\n",
       "6              Q      0.045670\n",
       "7              S     -0.226624\n",
       "8        Unknown      0.218036\n",
       "9            Age     -0.499895\n",
       "10         SibSp     -0.369611\n",
       "11         Parch     -0.050890\n",
       "12          Fare      0.178951"
      ]
     },
     "execution_count": 34,
     "metadata": {},
     "output_type": "execute_result"
    }
   ],
   "source": [
    "# Feature importance \n",
    "feature_importance = pd.DataFrame({\n",
    "    \"feature_names\": all_column_names,\n",
    "    \"coefficients\":classifier.coef_.squeeze()\n",
    "})\n",
    "\n",
    "feature_importance"
   ]
  },
  {
   "cell_type": "code",
   "execution_count": 35,
   "metadata": {},
   "outputs": [
    {
     "data": {
      "text/plain": [
       "<seaborn.axisgrid.FacetGrid at 0x1658d9520>"
      ]
     },
     "execution_count": 35,
     "metadata": {},
     "output_type": "execute_result"
    },
    {
     "data": {
      "image/png": "[encoded data removed]",
      "text/plain": [
       "<Figure size 1003.88x500 with 1 Axes>"
      ]
     },
     "metadata": {},
     "output_type": "display_data"
    }
   ],
   "source": [
    "# Set coefficient to absolute values to rank features\n",
    "feature_importance[\"coefficients\"] = feature_importance[\"coefficients\"].abs()\n",
    "\n",
    "# Visualize ranked features using seaborn\n",
    "sns.catplot(x=\"feature_names\", \n",
    "            y=\"coefficients\", \n",
    "            data=feature_importance.sort_values(by=\"coefficients\", ascending=False), \n",
    "            kind=\"bar\",\n",
    "            aspect=16/9, # Resize graph\n",
    "            hue='feature_names')"
   ]
  },
  {
   "cell_type": "code",
   "execution_count": null,
   "metadata": {},
   "outputs": [],
   "source": []
  }
 ],
 "metadata": {
  "kernelspec": {
   "display_name": "base",
   "language": "python",
   "name": "python3"
  },
  "language_info": {
   "codemirror_mode": {
    "name": "ipython",
    "version": 3
   },
   "file_extension": ".py",
   "mimetype": "text/x-python",
   "name": "python",
   "nbconvert_exporter": "python",
   "pygments_lexer": "ipython3",
   "version": "3.12.7"
  }
 },
 "nbformat": 4,
 "nbformat_minor": 2
}
