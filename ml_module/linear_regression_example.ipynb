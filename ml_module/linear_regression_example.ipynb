{
 "cells": [
  {
   "cell_type": "markdown",
   "metadata": {},
   "source": [
    "# Linear regression template"
   ]
  },
  {
   "cell_type": "markdown",
   "metadata": {},
   "source": [
    "## Step 1 - Import librairies"
   ]
  },
  {
   "cell_type": "code",
   "execution_count": 24,
   "metadata": {},
   "outputs": [],
   "source": [
    "# Data manipulation\n",
    "import pandas as pd\n",
    "\n",
    "# Data visualization\n",
    "import seaborn as sns\n",
    "import matplotlib.pyplot as plt\n",
    "\n",
    "# Matrice manipulation\n",
    "import numpy as np\n",
    "\n",
    "# Since the Scikit library is big, we only import what we need\n",
    "\n",
    "# train_test_split : method to split the dataset (DataFrame) into two distinct : one for training, one for testing\n",
    "from sklearn.model_selection import train_test_split\n",
    "\n",
    "# SimpleImputer : class which allow us to fill missing values (null, NaN) with specific strategy (median, mean, mode, etc.)\n",
    "from sklearn.impute import SimpleImputer\n",
    "\n",
    "# StandardScaler : class which allow us to standardize (put on the same scale) numerical features (using z-score)\n",
    "# OneHotEncoder : class which allow us to encode categorical features (create a column per category that contain only 0 and 1)\n",
    "# LabelEncoder : class which allow us to encode labels (same as categorical, but with a \"binary\" template of data) \n",
    "from sklearn.preprocessing import StandardScaler, OneHotEncoder, LabelEncoder\n",
    "\n",
    "# ColumnTransformer : : class which allow us to use scalers and encoders ojects to transform our DataFrames, returning numpy arrays\n",
    "from sklearn.compose import ColumnTransformer\n",
    "\n",
    "# LinearRegression : class which allow us to perform a linear regression model on our data\n",
    "from sklearn.linear_model import LinearRegression"
   ]
  },
  {
   "cell_type": "markdown",
   "metadata": {},
   "source": [
    "## Step 2 - Import dataset "
   ]
  },
  {
   "cell_type": "code",
   "execution_count": 25,
   "metadata": {},
   "outputs": [
    {
     "data": {
      "text/html": [
       "<div>\n",
       "<style scoped>\n",
       "    .dataframe tbody tr th:only-of-type {\n",
       "        vertical-align: middle;\n",
       "    }\n",
       "\n",
       "    .dataframe tbody tr th {\n",
       "        vertical-align: top;\n",
       "    }\n",
       "\n",
       "    .dataframe thead th {\n",
       "        text-align: right;\n",
       "    }\n",
       "</style>\n",
       "<table border=\"1\" class=\"dataframe\">\n",
       "  <thead>\n",
       "    <tr style=\"text-align: right;\">\n",
       "      <th></th>\n",
       "      <th>Country</th>\n",
       "      <th>YearsExperience</th>\n",
       "      <th>Salary</th>\n",
       "    </tr>\n",
       "  </thead>\n",
       "  <tbody>\n",
       "    <tr>\n",
       "      <th>0</th>\n",
       "      <td>France</td>\n",
       "      <td>1.1</td>\n",
       "      <td>39343.0</td>\n",
       "    </tr>\n",
       "    <tr>\n",
       "      <th>1</th>\n",
       "      <td>United-Kingdom</td>\n",
       "      <td>1.3</td>\n",
       "      <td>46205.0</td>\n",
       "    </tr>\n",
       "    <tr>\n",
       "      <th>2</th>\n",
       "      <td>France</td>\n",
       "      <td>1.5</td>\n",
       "      <td>37731.0</td>\n",
       "    </tr>\n",
       "    <tr>\n",
       "      <th>3</th>\n",
       "      <td>France</td>\n",
       "      <td>2.0</td>\n",
       "      <td>43525.0</td>\n",
       "    </tr>\n",
       "    <tr>\n",
       "      <th>4</th>\n",
       "      <td>Germany</td>\n",
       "      <td>2.2</td>\n",
       "      <td>39891.0</td>\n",
       "    </tr>\n",
       "  </tbody>\n",
       "</table>\n",
       "</div>"
      ],
      "text/plain": [
       "          Country  YearsExperience   Salary\n",
       "0          France              1.1  39343.0\n",
       "1  United-Kingdom              1.3  46205.0\n",
       "2          France              1.5  37731.0\n",
       "3          France              2.0  43525.0\n",
       "4         Germany              2.2  39891.0"
      ]
     },
     "execution_count": 25,
     "metadata": {},
     "output_type": "execute_result"
    }
   ],
   "source": [
    "df = pd.read_csv(\"/Users/qxzjy/vscworkspace/dse-ft-100/ml_module/data/Salary_Data.csv\")\n",
    "df.head()"
   ]
  },
  {
   "cell_type": "code",
   "execution_count": 26,
   "metadata": {},
   "outputs": [
    {
     "name": "stdout",
     "output_type": "stream",
     "text": [
      "Rows , Columuns : (30, 3)\n",
      "\n",
      "       Country  YearsExperience         Salary\n",
      "count       30        28.000000      30.000000\n",
      "unique       3              NaN            NaN\n",
      "top     France              NaN            NaN\n",
      "freq        12              NaN            NaN\n",
      "mean       NaN         5.428571   76003.000000\n",
      "std        NaN         2.897618   27414.429785\n",
      "min        NaN         1.100000   37731.000000\n",
      "25%        NaN         3.200000   56720.750000\n",
      "50%        NaN         5.000000   65237.000000\n",
      "75%        NaN         7.975000  100544.750000\n",
      "max        NaN        10.500000  122391.000000\n",
      "\n",
      "Country            0\n",
      "YearsExperience    2\n",
      "Salary             0\n",
      "dtype: int64\n"
     ]
    },
    {
     "data": {
      "image/png": "[encoded data removed]",
      "text/plain": [
       "<Figure size 640x480 with 1 Axes>"
      ]
     },
     "metadata": {},
     "output_type": "display_data"
    }
   ],
   "source": [
    "# Print the shape of dataset in the form of (#rows, #columns)\n",
    "print(f\"Rows , Columuns : {df.shape}\")\n",
    "print()\n",
    "\n",
    "# Describe dataset's main statistics\n",
    "# We're using the include=\"all\" attribut because we want to see/explore all values (not only numbers)\n",
    "# We need to see if there's missing values (null / NaN) and the type of data we have (numerical, categorical, labels, etc.)\n",
    "print(df.describe(include=\"all\"))\n",
    "print()\n",
    "\n",
    "# We print the sum of missing values by column\n",
    "print(df.isnull().sum())\n",
    "\n",
    "\n",
    "# sns.catplot(x=\"YearsExperience\", y=\"Salary\", data=df)\n",
    "plt.scatter(df.iloc[:, 1], df.iloc[:, 2], color=\"#4BE8E0\")\n",
    "plt.show()"
   ]
  },
  {
   "cell_type": "markdown",
   "metadata": {},
   "source": [
    "## Step 3 - Separate Target from feature variables"
   ]
  },
  {
   "cell_type": "code",
   "execution_count": null,
   "metadata": {},
   "outputs": [
    {
     "name": "stdout",
     "output_type": "stream",
     "text": [
      "Separating labels from features...\n",
      "...Done.\n",
      "\n",
      "          Country  YearsExperience\n",
      "0          France              1.1\n",
      "1  United-Kingdom              1.3\n",
      "2          France              1.5\n",
      "3          France              2.0\n",
      "4         Germany              2.2\n",
      "\n",
      "0    39343.0\n",
      "1    46205.0\n",
      "2    37731.0\n",
      "3    43525.0\n",
      "4    39891.0\n",
      "Name: Salary, dtype: float64\n"
     ]
    }
   ],
   "source": [
    "print(\"Separating labels from features...\")\n",
    "\n",
    "# We create two separate DataFrames, one with our features X and one for the target variable Y (that we want to predict)\n",
    "# We're using a List to enumerate the columns that we're going to use as features X\n",
    "features_list = [\"Country\", \"YearsExperience\"]\n",
    "X = df.loc[:,features_list] # X = df[features_list]\n",
    "y = df.loc[:,\"Salary\"] # Y = df[\"Salary\"]\n",
    "\n",
    "print(\"...Done.\")\n",
    "print()\n",
    "\n",
    "print(X.head())\n",
    "print()\n",
    "print(y.head())"
   ]
  },
  {
   "cell_type": "markdown",
   "metadata": {},
   "source": [
    "## Step 4 - Train / Test split "
   ]
  },
  {
   "cell_type": "code",
   "execution_count": null,
   "metadata": {},
   "outputs": [
    {
     "name": "stdout",
     "output_type": "stream",
     "text": [
      "Splitting dataset into train set and test set...\n",
      "...Done.\n",
      "\n",
      "           Country  YearsExperience\n",
      "27  United-Kingdom              9.6\n",
      "11  United-Kingdom              4.0\n",
      "17  United-Kingdom              5.3\n",
      "22          France              7.9\n",
      "5   United-Kingdom              NaN\n",
      "\n",
      "27    112635.0\n",
      "11     55794.0\n",
      "17     83088.0\n",
      "22    101302.0\n",
      "5      56642.0\n",
      "Name: Salary, dtype: float64\n",
      "\n",
      "           Country  YearsExperience\n",
      "2           France              1.5\n",
      "28          France             10.3\n",
      "13          France              4.1\n",
      "10  United-Kingdom              3.9\n",
      "26  United-Kingdom              9.5\n",
      "\n",
      "2      37731.0\n",
      "28    122391.0\n",
      "13     57081.0\n",
      "10     63218.0\n",
      "26    116969.0\n",
      "Name: Salary, dtype: float64\n"
     ]
    }
   ],
   "source": [
    "print(\"Splitting dataset into train set and test set...\")\n",
    "\n",
    "# The method will return 4 arrays : 2 with features X and 2 with target variables y (each time : 1 for training the model, 1 for testing it)\n",
    "# X : our DataFrames of features\n",
    "# y : our DataFrames of target variables\n",
    "# test_size : the size of the training set compared with total set, using proportion => 0.20 (20%)\n",
    "# random_state : the method we use to randomly selected our data\n",
    "# stratify : allows to stratify your sample (same proportion of categories in test and train set) on a specific column (ex: stratify=X[\"Country\"])\n",
    "X_train, X_test, y_train, y_test = train_test_split(X, y, test_size=0.2, random_state=0)\n",
    "\n",
    "print(\"...Done.\")  \n",
    "print()\n",
    "print(X_train.head())\n",
    "print()                    \n",
    "print(y_train.head())                    \n",
    "print()                    \n",
    "\n",
    "print(X_test.head())\n",
    "print()                    \n",
    "print(y_test.head())"
   ]
  },
  {
   "cell_type": "markdown",
   "metadata": {},
   "source": [
    "## Step 5 - Training"
   ]
  },
  {
   "cell_type": "code",
   "execution_count": 29,
   "metadata": {},
   "outputs": [
    {
     "name": "stdout",
     "output_type": "stream",
     "text": [
      "--- Training pipeline ---\n"
     ]
    }
   ],
   "source": [
    "print(\"--- Training pipeline ---\")"
   ]
  },
  {
   "cell_type": "markdown",
   "metadata": {},
   "source": [
    "### Imputing missing values"
   ]
  },
  {
   "cell_type": "code",
   "execution_count": 30,
   "metadata": {},
   "outputs": [
    {
     "name": "stdout",
     "output_type": "stream",
     "text": [
      "Imputing missing values...\n",
      "\n",
      "           Country  YearsExperience\n",
      "27  United-Kingdom              9.6\n",
      "11  United-Kingdom              4.0\n",
      "17  United-Kingdom              5.3\n",
      "22          France              7.9\n",
      "5   United-Kingdom              NaN\n",
      "16  United-Kingdom              5.1\n",
      "8          Germany              3.2\n",
      "14          France              NaN\n",
      "23          France              8.2\n",
      "20  United-Kingdom              6.8\n",
      "\n",
      "...Done!\n",
      "\n",
      "           Country  YearsExperience\n",
      "27  United-Kingdom              9.6\n",
      "11  United-Kingdom              4.0\n",
      "17  United-Kingdom              5.3\n",
      "22          France              7.9\n",
      "5   United-Kingdom              5.0\n",
      "16  United-Kingdom              5.1\n",
      "8          Germany              3.2\n",
      "14          France              5.0\n",
      "23          France              8.2\n",
      "20  United-Kingdom              6.8\n"
     ]
    }
   ],
   "source": [
    "print(\"Imputing missing values...\")\n",
    "print()\n",
    "\n",
    "# Instanciate class of SimpleImputer with strategy of median\n",
    "imputer = SimpleImputer(strategy=\"median\")\n",
    "\n",
    "# Copy dataset to avoid caveats of assign a copy of a slice of a DataFrame\n",
    "X_train = X_train.copy()\n",
    "print(X_train.head(10))\n",
    "print()\n",
    "\n",
    "# Fit and transform columns where there are missing values\n",
    "# Alternative : X_train.loc[:,[\"YearsExperience\"]] = imputer.fit_transform(X_train.loc[:,[\"YearsExperience\"]])\n",
    "X_train.iloc[:,[1]] = imputer.fit_transform(X_train.iloc[:,[1]])\n",
    "\n",
    "print(\"...Done!\")\n",
    "print()\n",
    "\n",
    "print(X_train.head(10))"
   ]
  },
  {
   "cell_type": "markdown",
   "metadata": {},
   "source": [
    "### Standardizing (scaling) and encoding"
   ]
  },
  {
   "cell_type": "code",
   "execution_count": null,
   "metadata": {},
   "outputs": [
    {
     "name": "stdout",
     "output_type": "stream",
     "text": [
      "Encoding categorical features and standardizing numerical features...\n",
      "\n",
      "...Done.\n",
      "\n",
      "[[ 0.          1.          1.74520997]\n",
      " [ 0.          1.         -0.45926578]\n",
      " [ 0.          1.          0.05248752]\n",
      " [ 0.          0.          1.07599411]\n",
      " [ 0.          1.         -0.0656094 ]\n",
      " [ 0.          1.         -0.02624376]\n",
      " [ 1.          0.         -0.77419089]\n",
      " [ 0.          0.         -0.0656094 ]\n",
      " [ 0.          0.          1.19409103]\n",
      " [ 0.          1.          0.64297209]\n",
      " [ 0.          1.         -1.52213802]\n",
      " [ 0.          0.          2.09950071]\n",
      " [ 0.          1.         -0.85292216]\n",
      " [ 1.          0.         -1.16784727]\n",
      " [ 0.          0.          0.28868135]\n",
      " [ 0.          1.          0.32804699]\n",
      " [ 1.          0.         -0.5773627 ]\n",
      " [ 1.          0.         -0.77419089]\n",
      " [ 1.          0.          1.50901614]\n",
      " [ 0.          0.         -1.24657855]\n",
      " [ 0.          0.         -1.60086929]\n",
      " [ 0.          1.          0.76106901]\n",
      " [ 1.          0.         -0.10497504]\n",
      " [ 0.          0.         -0.45926578]]\n",
      "\n"
     ]
    }
   ],
   "source": [
    "print(\"Encoding categorical features and standardizing numerical features...\")\n",
    "print()\n",
    "\n",
    "# We create a list with ids of columns containing numerical features in order to standardize them \n",
    "numeric_features = [1]\n",
    "numeric_transformer = StandardScaler()\n",
    "\n",
    "# We create a list with ids of columns containing categorical features in order to encode them \n",
    "# We can add a drop='first' attribute to the class, in order to avoid colinearity\n",
    "# If using drop='first', we have to aggregate coefficient from the categorical features\n",
    "categorical_features = [0]\n",
    "categorical_transformer = OneHotEncoder()\n",
    "\n",
    "# Instansiate the class ColumnTransformer with our transformers (in this case : one for scaling, one for encoding)\n",
    "featureencoder = ColumnTransformer(\n",
    "    transformers=[\n",
    "        ('cat', categorical_transformer, categorical_features),    \n",
    "        ('num', numeric_transformer, numeric_features)\n",
    "    ]\n",
    ")\n",
    "\n",
    "X_train = featureencoder.fit_transform(X_train)\n",
    "print(\"...Done.\")\n",
    "print()\n",
    "print(X_train) # print first 5 rows (not using iloc since now X_train became a numpy array)\n",
    "print()"
   ]
  },
  {
   "cell_type": "markdown",
   "metadata": {},
   "source": [
    "### Build and train the model"
   ]
  },
  {
   "cell_type": "code",
   "execution_count": 32,
   "metadata": {},
   "outputs": [
    {
     "name": "stdout",
     "output_type": "stream",
     "text": [
      "Train model...\n",
      "...Done.\n"
     ]
    }
   ],
   "source": [
    "# Train model\n",
    "print(\"Train model...\")\n",
    "\n",
    "regressor = LinearRegression()\n",
    "\n",
    "# This steps is the actual training !\n",
    "regressor.fit(X_train, y_train)\n",
    "\n",
    "print(\"...Done.\")"
   ]
  },
  {
   "cell_type": "markdown",
   "metadata": {},
   "source": [
    "### Predict"
   ]
  },
  {
   "cell_type": "code",
   "execution_count": 33,
   "metadata": {},
   "outputs": [
    {
     "name": "stdout",
     "output_type": "stream",
     "text": [
      "Predictions on training set...\n",
      "...Done.\n",
      "[116253.11779622  64173.48703481  76263.40131871  99032.97170005\n",
      "  73473.42109935]\n",
      "\n"
     ]
    }
   ],
   "source": [
    "# Predictions on training set\n",
    "print(\"Predictions on training set...\")\n",
    "\n",
    "y_train_pred = regressor.predict(X_train)\n",
    "\n",
    "print(\"...Done.\")\n",
    "print(y_train_pred[:5]) # print first 5 rows (not using iloc since now y_train became a numpy array)\n",
    "print()"
   ]
  },
  {
   "cell_type": "markdown",
   "metadata": {},
   "source": [
    "## Step 6 - Testing"
   ]
  },
  {
   "cell_type": "code",
   "execution_count": 34,
   "metadata": {},
   "outputs": [
    {
     "name": "stdout",
     "output_type": "stream",
     "text": [
      "--- Test pipeline ---\n"
     ]
    }
   ],
   "source": [
    "print(\"--- Test pipeline ---\")"
   ]
  },
  {
   "cell_type": "markdown",
   "metadata": {},
   "source": [
    "### Imputing missing values"
   ]
  },
  {
   "cell_type": "code",
   "execution_count": 35,
   "metadata": {},
   "outputs": [
    {
     "name": "stdout",
     "output_type": "stream",
     "text": [
      "Imputing missing values...\n",
      "           Country  YearsExperience\n",
      "2           France              1.5\n",
      "28          France             10.3\n",
      "13          France              4.1\n",
      "10  United-Kingdom              3.9\n",
      "26  United-Kingdom              9.5\n",
      "24          France              8.7\n",
      "\n",
      "...Done!\n",
      "\n",
      "           Country  YearsExperience\n",
      "2           France              1.5\n",
      "28          France             10.3\n",
      "13          France              4.1\n",
      "10  United-Kingdom              3.9\n",
      "26  United-Kingdom              9.5\n",
      "24          France              8.7\n"
     ]
    }
   ],
   "source": [
    "print(\"Imputing missing values...\")\n",
    "print(X_test)\n",
    "print()\n",
    "\n",
    "# Fit and transform columns where there are missing values\n",
    "# Alternative : X_train.loc[:,[\"YearsExperience\"]] = imputer.fit_transform(X_train.loc[:,[\"YearsExperience\"]])\n",
    "X_test.iloc[:,[1]] = imputer.transform(X_test.iloc[:,[1]])\n",
    "\n",
    "print(\"...Done!\")\n",
    "print()\n",
    "print(X_test)"
   ]
  },
  {
   "cell_type": "markdown",
   "metadata": {},
   "source": [
    "### Standardizing (scaling) and encoding"
   ]
  },
  {
   "cell_type": "code",
   "execution_count": 36,
   "metadata": {},
   "outputs": [
    {
     "name": "stdout",
     "output_type": "stream",
     "text": [
      "Encoding categorical features and standardizing numerical features...\n",
      "\n",
      "           Country  YearsExperience\n",
      "2           France              1.5\n",
      "28          France             10.3\n",
      "13          France              4.1\n",
      "10  United-Kingdom              3.9\n",
      "26  United-Kingdom              9.5\n",
      "24          France              8.7\n",
      "\n",
      "...Done.\n",
      "\n",
      "[[ 0.          0.         -1.44340674]\n",
      " [ 0.          0.          2.02076943]\n",
      " [ 0.          0.         -0.41990014]\n",
      " [ 0.          1.         -0.49863142]\n",
      " [ 0.          1.          1.70584433]\n",
      " [ 0.          0.          1.39091922]]\n"
     ]
    }
   ],
   "source": [
    "print(\"Encoding categorical features and standardizing numerical features...\")\n",
    "print()\n",
    "print(X_test)\n",
    "print()\n",
    "\n",
    "X_test = featureencoder.transform(X_test)\n",
    "print(\"...Done.\")\n",
    "print()\n",
    "print(X_test)"
   ]
  },
  {
   "cell_type": "markdown",
   "metadata": {},
   "source": [
    "### Predict"
   ]
  },
  {
   "cell_type": "code",
   "execution_count": 37,
   "metadata": {},
   "outputs": [
    {
     "name": "stdout",
     "output_type": "stream",
     "text": [
      "Predictions on test set...\n",
      "...Done.\n",
      "[ 39513.39368701 121352.81345494  63693.22225481  63243.49362836\n",
      " 115323.12438977]\n",
      "\n"
     ]
    }
   ],
   "source": [
    "# Predictions on test set\n",
    "print(\"Predictions on test set...\")\n",
    "\n",
    "y_test_pred = regressor.predict(X_test)\n",
    "\n",
    "print(\"...Done.\")\n",
    "print(y_test_pred[:5])\n",
    "print()"
   ]
  },
  {
   "cell_type": "markdown",
   "metadata": {},
   "source": [
    "## Step 7 - Evaluate your model"
   ]
  },
  {
   "cell_type": "code",
   "execution_count": null,
   "metadata": {},
   "outputs": [
    {
     "name": "stdout",
     "output_type": "stream",
     "text": [
      "--- Assessing the performances of the model ---\n",
      "R2 score on training set :  0.9201048506926818\n",
      "R2 score on test set :  0.9908610238389275\n",
      "R2 train < R2 test => underfitting\n"
     ]
    }
   ],
   "source": [
    "# Performance assessment\n",
    "print(\"--- Assessing the performances of the model ---\")\n",
    "\n",
    "# Print R^2 scores\n",
    "print(\"R2 score on training set : \", regressor.score(X_train, y_train))\n",
    "print(\"R2 score on test set : \", regressor.score(X_test, y_test))\n",
    "\n",
    "# R2 close to 1 => good performance\n",
    "# R2 train +/- 5% R2 test => good performance\n",
    "# If more :\n",
    "# R2 train > R2 test => overfitting, impossible to generalize, need more data\n",
    "# R2 train < R2 test => underfitting, not really a problem, maybe use a complex model\n",
    "if(regressor.score(X_train, y_train) > regressor.score(X_test, y_test)) :\n",
    "    print(\"R2 train > R2 test => overfitting\")\n",
    "else :\n",
    "    print(\"R2 train < R2 test => underfitting\")"
   ]
  },
  {
   "cell_type": "markdown",
   "metadata": {},
   "source": [
    "## Step 9 - Feature importance"
   ]
  },
  {
   "cell_type": "code",
   "execution_count": 39,
   "metadata": {},
   "outputs": [
    {
     "name": "stdout",
     "output_type": "stream",
     "text": [
      "coefficients are:  [-1258.20467202  1410.25818646 23624.49705292]\n",
      "Constant is:  73613.15192364734\n"
     ]
    }
   ],
   "source": [
    "print(\"coefficients are: \", regressor.coef_) \n",
    "print(\"Constant is: \", regressor.intercept_)"
   ]
  },
  {
   "cell_type": "code",
   "execution_count": 40,
   "metadata": {},
   "outputs": [
    {
     "data": {
      "text/plain": [
       "array([[ 0.        ,  1.        ,  1.74520997],\n",
       "       [ 0.        ,  1.        , -0.45926578],\n",
       "       [ 0.        ,  1.        ,  0.05248752],\n",
       "       [ 0.        ,  0.        ,  1.07599411],\n",
       "       [ 0.        ,  1.        , -0.0656094 ]])"
      ]
     },
     "execution_count": 40,
     "metadata": {},
     "output_type": "execute_result"
    }
   ],
   "source": [
    "X_train[:5] # Visualize the first 5 rows of your X_train"
   ]
  },
  {
   "cell_type": "code",
   "execution_count": 41,
   "metadata": {},
   "outputs": [
    {
     "name": "stdout",
     "output_type": "stream",
     "text": [
      "All transformers are:  [('cat', OneHotEncoder(drop='first'), [0]), ('num', StandardScaler(), [1])]\n",
      "One Hot Encoder transformer is:  OneHotEncoder(drop='first')\n"
     ]
    }
   ],
   "source": [
    "# Access transformers from feature_encoder\n",
    "print(\"All transformers are: \", featureencoder.transformers_)\n",
    "\n",
    "# Access one specific transformer\n",
    "print(\"One Hot Encoder transformer is: \", featureencoder.transformers_[0][1])"
   ]
  },
  {
   "cell_type": "code",
   "execution_count": 42,
   "metadata": {},
   "outputs": [
    {
     "name": "stdout",
     "output_type": "stream",
     "text": [
      "Categorical columns are:  [array(['France', 'Germany', 'United-Kingdom'], dtype=object)]\n"
     ]
    }
   ],
   "source": [
    "# Print categories\n",
    "categorical_column_names = featureencoder.transformers_[0][1].categories_\n",
    "print(\"Categorical columns are: \", categorical_column_names)"
   ]
  },
  {
   "cell_type": "code",
   "execution_count": 43,
   "metadata": {},
   "outputs": [
    {
     "name": "stdout",
     "output_type": "stream",
     "text": [
      "numerical columns are:  Index(['YearsExperience'], dtype='object')\n"
     ]
    }
   ],
   "source": [
    "numerical_column_names = X.iloc[:, numeric_features].columns # using the .columns attribute gives us the name of the column \n",
    "print(\"numerical columns are: \", numerical_column_names)"
   ]
  },
  {
   "cell_type": "code",
   "execution_count": 44,
   "metadata": {},
   "outputs": [
    {
     "data": {
      "text/plain": [
       "array(['France', 'Germany', 'United-Kingdom', 'YearsExperience'],\n",
       "      dtype=object)"
      ]
     },
     "execution_count": 44,
     "metadata": {},
     "output_type": "execute_result"
    }
   ],
   "source": [
    "# Append all columns \n",
    "all_column_names = np.append(categorical_column_names, numerical_column_names)\n",
    "all_column_names"
   ]
  },
  {
   "cell_type": "code",
   "execution_count": 45,
   "metadata": {},
   "outputs": [
    {
     "ename": "ValueError",
     "evalue": "All arrays must be of the same length",
     "output_type": "error",
     "traceback": [
      "\u001b[0;31m---------------------------------------------------------------------------\u001b[0m",
      "\u001b[0;31mValueError\u001b[0m                                Traceback (most recent call last)",
      "Cell \u001b[0;32mIn[45], line 2\u001b[0m\n\u001b[1;32m      1\u001b[0m \u001b[38;5;66;03m# Feature importance \u001b[39;00m\n\u001b[0;32m----> 2\u001b[0m feature_importance \u001b[38;5;241m=\u001b[39m pd\u001b[38;5;241m.\u001b[39mDataFrame({\n\u001b[1;32m      3\u001b[0m     \u001b[38;5;124m\"\u001b[39m\u001b[38;5;124mfeature_names\u001b[39m\u001b[38;5;124m\"\u001b[39m: all_column_names,\n\u001b[1;32m      4\u001b[0m     \u001b[38;5;124m\"\u001b[39m\u001b[38;5;124mcoefficients\u001b[39m\u001b[38;5;124m\"\u001b[39m:regressor\u001b[38;5;241m.\u001b[39mcoef_\n\u001b[1;32m      5\u001b[0m })\n\u001b[1;32m      7\u001b[0m feature_importance\n",
      "File \u001b[0;32m/opt/anaconda3/lib/python3.12/site-packages/pandas/core/frame.py:778\u001b[0m, in \u001b[0;36mDataFrame.__init__\u001b[0;34m(self, data, index, columns, dtype, copy)\u001b[0m\n\u001b[1;32m    772\u001b[0m     mgr \u001b[38;5;241m=\u001b[39m \u001b[38;5;28mself\u001b[39m\u001b[38;5;241m.\u001b[39m_init_mgr(\n\u001b[1;32m    773\u001b[0m         data, axes\u001b[38;5;241m=\u001b[39m{\u001b[38;5;124m\"\u001b[39m\u001b[38;5;124mindex\u001b[39m\u001b[38;5;124m\"\u001b[39m: index, \u001b[38;5;124m\"\u001b[39m\u001b[38;5;124mcolumns\u001b[39m\u001b[38;5;124m\"\u001b[39m: columns}, dtype\u001b[38;5;241m=\u001b[39mdtype, copy\u001b[38;5;241m=\u001b[39mcopy\n\u001b[1;32m    774\u001b[0m     )\n\u001b[1;32m    776\u001b[0m \u001b[38;5;28;01melif\u001b[39;00m \u001b[38;5;28misinstance\u001b[39m(data, \u001b[38;5;28mdict\u001b[39m):\n\u001b[1;32m    777\u001b[0m     \u001b[38;5;66;03m# GH#38939 de facto copy defaults to False only in non-dict cases\u001b[39;00m\n\u001b[0;32m--> 778\u001b[0m     mgr \u001b[38;5;241m=\u001b[39m dict_to_mgr(data, index, columns, dtype\u001b[38;5;241m=\u001b[39mdtype, copy\u001b[38;5;241m=\u001b[39mcopy, typ\u001b[38;5;241m=\u001b[39mmanager)\n\u001b[1;32m    779\u001b[0m \u001b[38;5;28;01melif\u001b[39;00m \u001b[38;5;28misinstance\u001b[39m(data, ma\u001b[38;5;241m.\u001b[39mMaskedArray):\n\u001b[1;32m    780\u001b[0m     \u001b[38;5;28;01mfrom\u001b[39;00m \u001b[38;5;21;01mnumpy\u001b[39;00m\u001b[38;5;21;01m.\u001b[39;00m\u001b[38;5;21;01mma\u001b[39;00m \u001b[38;5;28;01mimport\u001b[39;00m mrecords\n",
      "File \u001b[0;32m/opt/anaconda3/lib/python3.12/site-packages/pandas/core/internals/construction.py:503\u001b[0m, in \u001b[0;36mdict_to_mgr\u001b[0;34m(data, index, columns, dtype, typ, copy)\u001b[0m\n\u001b[1;32m    499\u001b[0m     \u001b[38;5;28;01melse\u001b[39;00m:\n\u001b[1;32m    500\u001b[0m         \u001b[38;5;66;03m# dtype check to exclude e.g. range objects, scalars\u001b[39;00m\n\u001b[1;32m    501\u001b[0m         arrays \u001b[38;5;241m=\u001b[39m [x\u001b[38;5;241m.\u001b[39mcopy() \u001b[38;5;28;01mif\u001b[39;00m \u001b[38;5;28mhasattr\u001b[39m(x, \u001b[38;5;124m\"\u001b[39m\u001b[38;5;124mdtype\u001b[39m\u001b[38;5;124m\"\u001b[39m) \u001b[38;5;28;01melse\u001b[39;00m x \u001b[38;5;28;01mfor\u001b[39;00m x \u001b[38;5;129;01min\u001b[39;00m arrays]\n\u001b[0;32m--> 503\u001b[0m \u001b[38;5;28;01mreturn\u001b[39;00m arrays_to_mgr(arrays, columns, index, dtype\u001b[38;5;241m=\u001b[39mdtype, typ\u001b[38;5;241m=\u001b[39mtyp, consolidate\u001b[38;5;241m=\u001b[39mcopy)\n",
      "File \u001b[0;32m/opt/anaconda3/lib/python3.12/site-packages/pandas/core/internals/construction.py:114\u001b[0m, in \u001b[0;36marrays_to_mgr\u001b[0;34m(arrays, columns, index, dtype, verify_integrity, typ, consolidate)\u001b[0m\n\u001b[1;32m    111\u001b[0m \u001b[38;5;28;01mif\u001b[39;00m verify_integrity:\n\u001b[1;32m    112\u001b[0m     \u001b[38;5;66;03m# figure out the index, if necessary\u001b[39;00m\n\u001b[1;32m    113\u001b[0m     \u001b[38;5;28;01mif\u001b[39;00m index \u001b[38;5;129;01mis\u001b[39;00m \u001b[38;5;28;01mNone\u001b[39;00m:\n\u001b[0;32m--> 114\u001b[0m         index \u001b[38;5;241m=\u001b[39m _extract_index(arrays)\n\u001b[1;32m    115\u001b[0m     \u001b[38;5;28;01melse\u001b[39;00m:\n\u001b[1;32m    116\u001b[0m         index \u001b[38;5;241m=\u001b[39m ensure_index(index)\n",
      "File \u001b[0;32m/opt/anaconda3/lib/python3.12/site-packages/pandas/core/internals/construction.py:677\u001b[0m, in \u001b[0;36m_extract_index\u001b[0;34m(data)\u001b[0m\n\u001b[1;32m    675\u001b[0m lengths \u001b[38;5;241m=\u001b[39m \u001b[38;5;28mlist\u001b[39m(\u001b[38;5;28mset\u001b[39m(raw_lengths))\n\u001b[1;32m    676\u001b[0m \u001b[38;5;28;01mif\u001b[39;00m \u001b[38;5;28mlen\u001b[39m(lengths) \u001b[38;5;241m>\u001b[39m \u001b[38;5;241m1\u001b[39m:\n\u001b[0;32m--> 677\u001b[0m     \u001b[38;5;28;01mraise\u001b[39;00m \u001b[38;5;167;01mValueError\u001b[39;00m(\u001b[38;5;124m\"\u001b[39m\u001b[38;5;124mAll arrays must be of the same length\u001b[39m\u001b[38;5;124m\"\u001b[39m)\n\u001b[1;32m    679\u001b[0m \u001b[38;5;28;01mif\u001b[39;00m have_dicts:\n\u001b[1;32m    680\u001b[0m     \u001b[38;5;28;01mraise\u001b[39;00m \u001b[38;5;167;01mValueError\u001b[39;00m(\n\u001b[1;32m    681\u001b[0m         \u001b[38;5;124m\"\u001b[39m\u001b[38;5;124mMixing dicts with non-Series may lead to ambiguous ordering.\u001b[39m\u001b[38;5;124m\"\u001b[39m\n\u001b[1;32m    682\u001b[0m     )\n",
      "\u001b[0;31mValueError\u001b[0m: All arrays must be of the same length"
     ]
    }
   ],
   "source": [
    "# Feature importance \n",
    "feature_importance = pd.DataFrame({\n",
    "    \"feature_names\": all_column_names,\n",
    "    \"coefficients\":regressor.coef_\n",
    "})\n",
    "\n",
    "feature_importance"
   ]
  },
  {
   "cell_type": "code",
   "execution_count": null,
   "metadata": {},
   "outputs": [
    {
     "data": {
      "text/plain": [
       "<seaborn.axisgrid.FacetGrid at 0x16135dfa0>"
      ]
     },
     "execution_count": 39,
     "metadata": {},
     "output_type": "execute_result"
    },
    {
     "data": {
      "image/png": "[encoded data removed]",
      "text/plain": [
       "<Figure size 888.889x500 with 1 Axes>"
      ]
     },
     "metadata": {},
     "output_type": "display_data"
    }
   ],
   "source": [
    "# Set coefficient to absolute values to rank features\n",
    "feature_importance[\"coefficients\"] = feature_importance[\"coefficients\"].abs()\n",
    "\n",
    "# Visualize ranked features using seaborn\n",
    "sns.catplot(x=\"feature_names\", \n",
    "            y=\"coefficients\", \n",
    "            data=feature_importance.sort_values(by=\"coefficients\", ascending=False), \n",
    "            kind=\"bar\",\n",
    "            aspect=16/9, # Resize graph\n",
    "            hue='feature_names')"
   ]
  },
  {
   "cell_type": "code",
   "execution_count": null,
   "metadata": {},
   "outputs": [],
   "source": []
  }
 ],
 "metadata": {
  "kernelspec": {
   "display_name": "base",
   "language": "python",
   "name": "python3"
  },
  "language_info": {
   "codemirror_mode": {
    "name": "ipython",
    "version": 3
   },
   "file_extension": ".py",
   "mimetype": "text/x-python",
   "name": "python",
   "nbconvert_exporter": "python",
   "pygments_lexer": "ipython3",
   "version": "3.12.7"
  }
 },
 "nbformat": 4,
 "nbformat_minor": 2
}
