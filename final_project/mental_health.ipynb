{
 "cells": [
  {
   "cell_type": "markdown",
   "metadata": {},
   "source": [
    "- Valider le sujet à prédire (prédire treatment) => OK\n",
    "- S'accorder sur l'hypothese : étude sur les USA ? ou tous les pays ? => le monde\n",
    "\n",
    "- Sous Tableau, explorer les données et créer des graphes pour essayer de déterminer des liens entre la variable dépendante (treatment)\n",
    "    et les variables indépendantes\n",
    "\n",
    "- S'accorder sur le préprocessing des données\n",
    "    - Supprimer Comment, Timestamp et State (si étude sur tous les pays)\n",
    "    - Quid des genres ? (regrouper en 3 ? Male, Female, Other ?)\n",
    "    - Quid des NA ? (voir la proportion que cela représente sur une colonne et sur l'échantillon, peut être remplacer par une valeur définie)\n",
    "    - Quel encodage par colonne ? (il y a de l'ordinale, du scaler, du onehot, labelEncoder pour y)\n",
    "\n",
    "- Développement\n",
    "    - Preprocessing\n",
    "    - Régression logistique + matrice de confusion (accuracy score)\n",
    "    - Random Forest  + matrice de confusion (accuracy score)\n",
    "    - Comparaison des deux (de leur efficacité)\n",
    "    - Études avec Recall, F1, etc.\n",
    "    \n",
    "- Préparer les slides\n",
    "    - la problématique\n",
    "    - la question à répondre\n",
    "    - nos explorations et premières \"analyses\"\n",
    "    - le(s) modèle(s) utilisés\n",
    "    - les résultats\n",
    "    - ouverture sur ce que l'on aura pu faire de plus \n",
    "    - ouverture sur une autre question que l'on aurait pu répondre "
   ]
  },
  {
   "cell_type": "code",
   "execution_count": 141,
   "metadata": {},
   "outputs": [],
   "source": [
    "import pandas as pd\n",
    "\n",
    "import seaborn as sns\n",
    "import matplotlib.pyplot as plt\n",
    "\n",
    "import numpy as np\n",
    "\n",
    "import time\n",
    "\n",
    "from sklearn.model_selection import train_test_split\n",
    "from sklearn.impute import SimpleImputer\n",
    "from sklearn.preprocessing import StandardScaler, OneHotEncoder, LabelEncoder, OrdinalEncoder\n",
    "from sklearn.compose import ColumnTransformer\n",
    "from sklearn.tree import DecisionTreeClassifier\n",
    "from sklearn.ensemble import RandomForestClassifier\n",
    "from sklearn.linear_model import LogisticRegression\n",
    "from sklearn.metrics import confusion_matrix, ConfusionMatrixDisplay"
   ]
  },
  {
   "cell_type": "code",
   "execution_count": 142,
   "metadata": {},
   "outputs": [
    {
     "data": {
      "text/html": [
       "<div>\n",
       "<style scoped>\n",
       "    .dataframe tbody tr th:only-of-type {\n",
       "        vertical-align: middle;\n",
       "    }\n",
       "\n",
       "    .dataframe tbody tr th {\n",
       "        vertical-align: top;\n",
       "    }\n",
       "\n",
       "    .dataframe thead th {\n",
       "        text-align: right;\n",
       "    }\n",
       "</style>\n",
       "<table border=\"1\" class=\"dataframe\">\n",
       "  <thead>\n",
       "    <tr style=\"text-align: right;\">\n",
       "      <th></th>\n",
       "      <th>Timestamp</th>\n",
       "      <th>Age</th>\n",
       "      <th>Gender</th>\n",
       "      <th>Country</th>\n",
       "      <th>state</th>\n",
       "      <th>self_employed</th>\n",
       "      <th>family_history</th>\n",
       "      <th>treatment</th>\n",
       "      <th>work_interfere</th>\n",
       "      <th>no_employees</th>\n",
       "      <th>...</th>\n",
       "      <th>leave</th>\n",
       "      <th>mental_health_consequence</th>\n",
       "      <th>phys_health_consequence</th>\n",
       "      <th>coworkers</th>\n",
       "      <th>supervisor</th>\n",
       "      <th>mental_health_interview</th>\n",
       "      <th>phys_health_interview</th>\n",
       "      <th>mental_vs_physical</th>\n",
       "      <th>obs_consequence</th>\n",
       "      <th>comments</th>\n",
       "    </tr>\n",
       "  </thead>\n",
       "  <tbody>\n",
       "    <tr>\n",
       "      <th>0</th>\n",
       "      <td>2014-08-27 11:29:31</td>\n",
       "      <td>37</td>\n",
       "      <td>Female</td>\n",
       "      <td>United States</td>\n",
       "      <td>IL</td>\n",
       "      <td>NaN</td>\n",
       "      <td>No</td>\n",
       "      <td>Yes</td>\n",
       "      <td>Often</td>\n",
       "      <td>6-25</td>\n",
       "      <td>...</td>\n",
       "      <td>Somewhat easy</td>\n",
       "      <td>No</td>\n",
       "      <td>No</td>\n",
       "      <td>Some of them</td>\n",
       "      <td>Yes</td>\n",
       "      <td>No</td>\n",
       "      <td>Maybe</td>\n",
       "      <td>Yes</td>\n",
       "      <td>No</td>\n",
       "      <td>NaN</td>\n",
       "    </tr>\n",
       "    <tr>\n",
       "      <th>1</th>\n",
       "      <td>2014-08-27 11:29:37</td>\n",
       "      <td>44</td>\n",
       "      <td>M</td>\n",
       "      <td>United States</td>\n",
       "      <td>IN</td>\n",
       "      <td>NaN</td>\n",
       "      <td>No</td>\n",
       "      <td>No</td>\n",
       "      <td>Rarely</td>\n",
       "      <td>More than 1000</td>\n",
       "      <td>...</td>\n",
       "      <td>Don't know</td>\n",
       "      <td>Maybe</td>\n",
       "      <td>No</td>\n",
       "      <td>No</td>\n",
       "      <td>No</td>\n",
       "      <td>No</td>\n",
       "      <td>No</td>\n",
       "      <td>Don't know</td>\n",
       "      <td>No</td>\n",
       "      <td>NaN</td>\n",
       "    </tr>\n",
       "    <tr>\n",
       "      <th>2</th>\n",
       "      <td>2014-08-27 11:29:44</td>\n",
       "      <td>32</td>\n",
       "      <td>Male</td>\n",
       "      <td>Canada</td>\n",
       "      <td>NaN</td>\n",
       "      <td>NaN</td>\n",
       "      <td>No</td>\n",
       "      <td>No</td>\n",
       "      <td>Rarely</td>\n",
       "      <td>6-25</td>\n",
       "      <td>...</td>\n",
       "      <td>Somewhat difficult</td>\n",
       "      <td>No</td>\n",
       "      <td>No</td>\n",
       "      <td>Yes</td>\n",
       "      <td>Yes</td>\n",
       "      <td>Yes</td>\n",
       "      <td>Yes</td>\n",
       "      <td>No</td>\n",
       "      <td>No</td>\n",
       "      <td>NaN</td>\n",
       "    </tr>\n",
       "    <tr>\n",
       "      <th>3</th>\n",
       "      <td>2014-08-27 11:29:46</td>\n",
       "      <td>31</td>\n",
       "      <td>Male</td>\n",
       "      <td>United Kingdom</td>\n",
       "      <td>NaN</td>\n",
       "      <td>NaN</td>\n",
       "      <td>Yes</td>\n",
       "      <td>Yes</td>\n",
       "      <td>Often</td>\n",
       "      <td>26-100</td>\n",
       "      <td>...</td>\n",
       "      <td>Somewhat difficult</td>\n",
       "      <td>Yes</td>\n",
       "      <td>Yes</td>\n",
       "      <td>Some of them</td>\n",
       "      <td>No</td>\n",
       "      <td>Maybe</td>\n",
       "      <td>Maybe</td>\n",
       "      <td>No</td>\n",
       "      <td>Yes</td>\n",
       "      <td>NaN</td>\n",
       "    </tr>\n",
       "    <tr>\n",
       "      <th>4</th>\n",
       "      <td>2014-08-27 11:30:22</td>\n",
       "      <td>31</td>\n",
       "      <td>Male</td>\n",
       "      <td>United States</td>\n",
       "      <td>TX</td>\n",
       "      <td>NaN</td>\n",
       "      <td>No</td>\n",
       "      <td>No</td>\n",
       "      <td>Never</td>\n",
       "      <td>100-500</td>\n",
       "      <td>...</td>\n",
       "      <td>Don't know</td>\n",
       "      <td>No</td>\n",
       "      <td>No</td>\n",
       "      <td>Some of them</td>\n",
       "      <td>Yes</td>\n",
       "      <td>Yes</td>\n",
       "      <td>Yes</td>\n",
       "      <td>Don't know</td>\n",
       "      <td>No</td>\n",
       "      <td>NaN</td>\n",
       "    </tr>\n",
       "  </tbody>\n",
       "</table>\n",
       "<p>5 rows × 27 columns</p>\n",
       "</div>"
      ],
      "text/plain": [
       "             Timestamp  Age  Gender         Country state self_employed  \\\n",
       "0  2014-08-27 11:29:31   37  Female   United States    IL           NaN   \n",
       "1  2014-08-27 11:29:37   44       M   United States    IN           NaN   \n",
       "2  2014-08-27 11:29:44   32    Male          Canada   NaN           NaN   \n",
       "3  2014-08-27 11:29:46   31    Male  United Kingdom   NaN           NaN   \n",
       "4  2014-08-27 11:30:22   31    Male   United States    TX           NaN   \n",
       "\n",
       "  family_history treatment work_interfere    no_employees  ...  \\\n",
       "0             No       Yes          Often            6-25  ...   \n",
       "1             No        No         Rarely  More than 1000  ...   \n",
       "2             No        No         Rarely            6-25  ...   \n",
       "3            Yes       Yes          Often          26-100  ...   \n",
       "4             No        No          Never         100-500  ...   \n",
       "\n",
       "                leave mental_health_consequence phys_health_consequence  \\\n",
       "0       Somewhat easy                        No                      No   \n",
       "1          Don't know                     Maybe                      No   \n",
       "2  Somewhat difficult                        No                      No   \n",
       "3  Somewhat difficult                       Yes                     Yes   \n",
       "4          Don't know                        No                      No   \n",
       "\n",
       "      coworkers supervisor mental_health_interview phys_health_interview  \\\n",
       "0  Some of them        Yes                      No                 Maybe   \n",
       "1            No         No                      No                    No   \n",
       "2           Yes        Yes                     Yes                   Yes   \n",
       "3  Some of them         No                   Maybe                 Maybe   \n",
       "4  Some of them        Yes                     Yes                   Yes   \n",
       "\n",
       "  mental_vs_physical obs_consequence comments  \n",
       "0                Yes              No      NaN  \n",
       "1         Don't know              No      NaN  \n",
       "2                 No              No      NaN  \n",
       "3                 No             Yes      NaN  \n",
       "4         Don't know              No      NaN  \n",
       "\n",
       "[5 rows x 27 columns]"
      ]
     },
     "metadata": {},
     "output_type": "display_data"
    },
    {
     "data": {
      "text/plain": [
       "Timestamp                    False\n",
       "Age                          False\n",
       "Gender                       False\n",
       "Country                      False\n",
       "state                         True\n",
       "self_employed                 True\n",
       "family_history               False\n",
       "treatment                    False\n",
       "work_interfere                True\n",
       "no_employees                 False\n",
       "remote_work                  False\n",
       "tech_company                 False\n",
       "benefits                     False\n",
       "care_options                 False\n",
       "wellness_program             False\n",
       "seek_help                    False\n",
       "anonymity                    False\n",
       "leave                        False\n",
       "mental_health_consequence    False\n",
       "phys_health_consequence      False\n",
       "coworkers                    False\n",
       "supervisor                   False\n",
       "mental_health_interview      False\n",
       "phys_health_interview        False\n",
       "mental_vs_physical           False\n",
       "obs_consequence              False\n",
       "comments                      True\n",
       "dtype: bool"
      ]
     },
     "metadata": {},
     "output_type": "display_data"
    }
   ],
   "source": [
    "df = pd.read_csv(\"/Users/qxzjy/vscworkspace/dse-ft-100/final_project/data/survey.csv\")\n",
    "display(df.head())\n",
    "\n",
    "display(df.isnull().any())"
   ]
  },
  {
   "cell_type": "code",
   "execution_count": 143,
   "metadata": {},
   "outputs": [
    {
     "name": "stdout",
     "output_type": "stream",
     "text": [
      "Aggregation des valeurs difficilement exploitables...\n",
      "...Fait\n"
     ]
    }
   ],
   "source": [
    "print(\"Aggregation des valeurs difficilement exploitables...\")\n",
    "\n",
    "africa = [\n",
    "    'Nigeria', 'South Africa', 'Zimbabwe'\n",
    "]\n",
    "australia = [\n",
    "    'Australia', 'New Zealand'\n",
    "]\n",
    "asia = [\n",
    "    'China', 'India', 'Israel', 'Japan', 'Philippines', 'Russia', 'Singapore', 'Thailand'\n",
    "]\n",
    "europe = [\n",
    "    'Austria', 'Belgium', 'Bosnia and Herzegovina', 'Bulgaria', 'Croatia', 'Czech Republic',\n",
    "    'Denmark', 'Finland', 'France', 'Georgia', 'Germany', 'Greece', 'Hungary', 'Ireland', 'Italy',\n",
    "    'Latvia', 'Moldova', 'Netherlands', 'Norway', 'Poland', 'Portugal', 'Romania', 'Spain', 'Sweden',\n",
    "    'United Kingdom', 'Slovenia', 'Switzerland'\n",
    "]\n",
    "north_america = [\n",
    "    'Bahamas, The', 'Canada', 'Costa Rica', 'Mexico', 'United States'\n",
    "]\n",
    "south_america = [\n",
    "    'Brazil', 'Colombia', 'Uruguay'\n",
    "]\n",
    "\n",
    "def continent_by_country(country):\n",
    "    country_str = str(country).strip()\n",
    "    if country_str in africa:\n",
    "        return 'Africa'\n",
    "    elif country_str in australia:\n",
    "        return 'Australia'\n",
    "    elif country_str in asia:\n",
    "        return 'Asia'\n",
    "    elif country_str in europe:\n",
    "        return 'Europe'\n",
    "    elif country_str in north_america:\n",
    "        return 'North America'\n",
    "    elif country_str in south_america:\n",
    "        return 'South America'\n",
    "    else:\n",
    "        return 'Undefined'\n",
    "\n",
    "df['Continent'] = df['Country'].apply(continent_by_country)\n",
    "\n",
    "male_values = [\n",
    "    'Male', 'male', 'make','Make' 'M', 'm','Man', 'msle', 'Mail', 'Malr', 'Cis male',\n",
    "    'Cis man','Cis Man','cis male', \"Guy (-ish) ^_^\", 'Male (CIS)', 'Male-ish', 'maile', 'Maile',\n",
    "    'something kinda male?', 'Mal', 'ostensibly male, unsure what that really means', 'cis Male', 'Make' \n",
    "]\n",
    "male_values = [x.lower() for x in male_values]\n",
    "\n",
    "female_values = [\n",
    "    'Female', 'F','f', 'woman', 'Female (trans)', 'Trans woman', 'Female (cis)',\n",
    "    'cis-female/femme', 'femail', 'Trans-female', 'Cis Female', 'Femake'\n",
    "]\n",
    "female_values = [x.lower() for x in female_values]\n",
    "\n",
    "queer_non_binary_values = [\n",
    "    'Neuter', 'Agender', 'Androgyne', 'non-binary', 'All', 'fluid', 'Enby', 'queer',\n",
    "    'Genderqueer', 'queer/she/they', 'male leaning androgynous'\n",
    "]\n",
    "queer_non_binary_values = [x.lower() for x in queer_non_binary_values]\n",
    "\n",
    "df['Gender'] = [x.lower() for x in df['Gender']]\n",
    "\n",
    "def normalize_gender(gender):\n",
    "    gender_str = str(gender).strip()\n",
    "    if gender_str in male_values:\n",
    "        return 'Male'\n",
    "    elif gender_str in female_values:\n",
    "        return 'Female'\n",
    "    elif gender_str in queer_non_binary_values:\n",
    "        return 'Queer/Non-binary'\n",
    "    else:\n",
    "        return 'Other'\n",
    "df['Gender2'] = df['Gender'].apply(normalize_gender)\n",
    "\n",
    "print(\"...Fait\")\n"
   ]
  },
  {
   "cell_type": "code",
   "execution_count": 144,
   "metadata": {},
   "outputs": [
    {
     "name": "stdout",
     "output_type": "stream",
     "text": [
      "Suppression des variables indépendantes non-pertinentes...\n",
      "...Fait\n"
     ]
    }
   ],
   "source": [
    "\n",
    "print(\"Suppression des variables indépendantes non-pertinentes...\")\n",
    "\n",
    "df = df.drop('Timestamp', axis=1)\n",
    "\n",
    "df = df.drop('comments', axis=1)\n",
    "\n",
    "df = df.drop('state', axis=1)\n",
    "\n",
    "df = df.drop('Gender', axis=1)\n",
    "\n",
    "df = df.drop('Country', axis=1)\n",
    "\n",
    "print(\"...Fait\")"
   ]
  },
  {
   "cell_type": "code",
   "execution_count": 145,
   "metadata": {},
   "outputs": [
    {
     "name": "stdout",
     "output_type": "stream",
     "text": [
      "Suppression des lignes non-pertinentes...\n",
      "...Fait\n"
     ]
    }
   ],
   "source": [
    "print(\"Suppression des lignes non-pertinentes...\")\n",
    "\n",
    "df = df.drop(df[df.Gender2 == \"Other\"].index)\n",
    "df = df.drop(df[df.tech_company == \"No\"].index)\n",
    "df = df.drop('tech_company', axis=1)\n",
    "print(\"...Fait\")\n"
   ]
  },
  {
   "cell_type": "code",
   "execution_count": 146,
   "metadata": {},
   "outputs": [
    {
     "name": "stdout",
     "output_type": "stream",
     "text": [
      "Attribution de valeurs pour les champs manquants ou incohérents...\n",
      "...Fait\n"
     ]
    }
   ],
   "source": [
    "\n",
    "print(\"Attribution de valeurs pour les champs manquants ou incohérents...\")\n",
    "\n",
    "df.loc[(df['self_employed'].isnull()) & (df['no_employees'] == \"1-5\"), 'self_employed'] = \"Yes\"\n",
    "df.loc[(df['self_employed'].isnull()) & (df['no_employees'] != \"1-5\"), 'self_employed'] = \"No\"\n",
    "\n",
    "df.loc[df['work_interfere'].isnull(), 'work_interfere'] = \"Not answered\"\n",
    "\n",
    "df.loc[(df['Age'] == -1), 'Age'] = df[\"Age\"].median()\n",
    "df.loc[(df['Age'] == -29), 'Age'] = df[\"Age\"].median()\n",
    "df.loc[(df['Age'] == -1726), 'Age'] = df[\"Age\"].median()\n",
    "df.loc[(df['Age'] == 99999999999), 'Age'] = df[\"Age\"].median()\n",
    "df.loc[(df['Age'] == 329), 'Age'] = df[\"Age\"].median()\n",
    "\n",
    "print(\"...Fait\")"
   ]
  },
  {
   "cell_type": "code",
   "execution_count": 147,
   "metadata": {},
   "outputs": [
    {
     "name": "stdout",
     "output_type": "stream",
     "text": [
      "Génération d'un nouveau fichier pour l'EDA dans Tableau...\n",
      "...Fait\n"
     ]
    }
   ],
   "source": [
    "print(\"Génération d'un nouveau fichier pour l'EDA dans Tableau...\")\n",
    "\n",
    "# df.to_csv(\"/Users/qxzjy/vscworkspace/dse-ft-100/final_project/data/survey_cleaned.csv\", index=False)\n",
    "\n",
    "print(\"...Fait\")"
   ]
  },
  {
   "cell_type": "code",
   "execution_count": 148,
   "metadata": {},
   "outputs": [
    {
     "name": "stdout",
     "output_type": "stream",
     "text": [
      "Séparation des variables indépendantes et dépendantes...\n",
      "...Fait\n"
     ]
    }
   ],
   "source": [
    "print(\"Séparation des variables indépendantes et dépendantes...\")\n",
    "\n",
    "features_list = [column_name for index, column_name in enumerate(df.columns) if column_name not in [\"treatment\"]]\n",
    "X = df.loc[:, features_list]\n",
    "y = df.loc[:,\"treatment\"]\n",
    "\n",
    "print(\"...Fait\")"
   ]
  },
  {
   "cell_type": "code",
   "execution_count": 149,
   "metadata": {},
   "outputs": [
    {
     "name": "stdout",
     "output_type": "stream",
     "text": [
      "Séparation du jeu de données en un jeu de données d'entrainement et de test...\n",
      "...Fait\n"
     ]
    }
   ],
   "source": [
    "print(\"Séparation du jeu de données en un jeu de données d'entrainement et de test...\")\n",
    "\n",
    "X_train, X_test, y_train, y_test = train_test_split(X, y, test_size=0.2, random_state=0, stratify=y)\n",
    "\n",
    "print(\"...Fait\")"
   ]
  },
  {
   "cell_type": "code",
   "execution_count": 150,
   "metadata": {},
   "outputs": [
    {
     "name": "stdout",
     "output_type": "stream",
     "text": [
      "----- Entrainement -----\n"
     ]
    }
   ],
   "source": [
    "print(\"----- Entrainement -----\")"
   ]
  },
  {
   "cell_type": "code",
   "execution_count": 151,
   "metadata": {},
   "outputs": [
    {
     "name": "stdout",
     "output_type": "stream",
     "text": [
      "Encodage des variables indépendantes catégorielles et standardisation des numériques...\n",
      "...Fait\n"
     ]
    }
   ],
   "source": [
    "print(\"Encodage des variables indépendantes catégorielles et standardisation des numériques...\")\n",
    "\n",
    "numeric_features = [i for i, item in enumerate(X_train.columns) if X_train[item].dtype in [\"int64\", \"float64\"]]\n",
    "numeric_transformer = StandardScaler()\n",
    "\n",
    "categorical_features = [i for i, item in enumerate(X_train.columns) if X_train[item].dtype in [\"object\", \"str\", \"category\"]]\n",
    "categorical_features_names = [item for i, item in enumerate(X_train.columns) if (X_train[item].dtype in [\"object\", \"str\", \"category\"])]\n",
    "categorical_transformer = OneHotEncoder(drop='first')\n",
    "\n",
    "nb_elements_after_drop=[]\n",
    "\n",
    "for i in range(1, len(X_train.columns)) :\n",
    "    nb_elements_after_drop.append(len(X_train.iloc[:,i].unique())-1)\n",
    "\n",
    "feature_encoder = ColumnTransformer(\n",
    "    transformers=[\n",
    "        ('cat', categorical_transformer, categorical_features),    \n",
    "        ('num', numeric_transformer, numeric_features)\n",
    "    ]\n",
    ")\n",
    "\n",
    "X_train_transformed = feature_encoder.fit_transform(X_train)\n",
    "\n",
    "labelencoder = LabelEncoder()\n",
    "y_train_transformed = labelencoder.fit_transform(y_train)\n",
    "\n",
    "print(\"...Fait\")"
   ]
  },
  {
   "cell_type": "code",
   "execution_count": 152,
   "metadata": {},
   "outputs": [
    {
     "name": "stdout",
     "output_type": "stream",
     "text": [
      "Entrainement du modele...\n",
      "Temps d'execution : 4.292\n",
      "...Fait\n"
     ]
    }
   ],
   "source": [
    "print(\"Entrainement du modele...\")\n",
    "start_time = time.perf_counter()\n",
    "\n",
    "classifier = LogisticRegression()\n",
    "classifier.fit(X_train_transformed, y_train_transformed)\n",
    "\n",
    "end_time = time.perf_counter()\n",
    "total_time = (end_time - start_time)*1000\n",
    "\n",
    "print(f\"Temps d'execution : {total_time:.3f}\")\n",
    "print(\"...Fait\")"
   ]
  },
  {
   "cell_type": "code",
   "execution_count": 153,
   "metadata": {},
   "outputs": [
    {
     "name": "stdout",
     "output_type": "stream",
     "text": [
      "Prédiction sur le jeu de données d'entrainement...\n",
      "...Fait\n"
     ]
    }
   ],
   "source": [
    "print(\"Prédiction sur le jeu de données d'entrainement...\")\n",
    "\n",
    "y_train_pred = classifier.predict(X_train_transformed)\n",
    "\n",
    "print(\"...Fait\")"
   ]
  },
  {
   "cell_type": "code",
   "execution_count": 154,
   "metadata": {},
   "outputs": [
    {
     "name": "stdout",
     "output_type": "stream",
     "text": [
      "----- Test -----\n"
     ]
    }
   ],
   "source": [
    "print(\"----- Test -----\")"
   ]
  },
  {
   "cell_type": "code",
   "execution_count": 155,
   "metadata": {},
   "outputs": [
    {
     "name": "stdout",
     "output_type": "stream",
     "text": [
      "Encodage des variables indépendantes catégorielles et standardisation des numériques...\n",
      "...Fait\n"
     ]
    }
   ],
   "source": [
    "print(\"Encodage des variables indépendantes catégorielles et standardisation des numériques...\")\n",
    "\n",
    "X_test_transformed = feature_encoder.transform(X_test)\n",
    "\n",
    "y_test_transformed = labelencoder.transform(y_test)\n",
    "\n",
    "print(\"...Fait\")"
   ]
  },
  {
   "cell_type": "code",
   "execution_count": 156,
   "metadata": {},
   "outputs": [
    {
     "name": "stdout",
     "output_type": "stream",
     "text": [
      "Prédiction sur le jeu de données de test...\n",
      "...Fait\n"
     ]
    }
   ],
   "source": [
    "print(\"Prédiction sur le jeu de données de test...\")\n",
    "\n",
    "y_test_pred = classifier.predict(X_test_transformed)\n",
    "\n",
    "print(\"...Fait\")"
   ]
  },
  {
   "cell_type": "code",
   "execution_count": 157,
   "metadata": {},
   "outputs": [
    {
     "name": "stdout",
     "output_type": "stream",
     "text": [
      "--- Evaluation des performances du modele ---\n"
     ]
    },
    {
     "data": {
      "image/png": "[encoded data removed]",
      "text/plain": [
       "<Figure size 640x480 with 2 Axes>"
      ]
     },
     "metadata": {},
     "output_type": "display_data"
    },
    {
     "name": "stdout",
     "output_type": "stream",
     "text": [
      "Score de précision du jeu de données d'entrainement' :  0.8503649635036497\n"
     ]
    },
    {
     "data": {
      "image/png": "[encoded data removed]",
      "text/plain": [
       "<Figure size 640x480 with 2 Axes>"
      ]
     },
     "metadata": {},
     "output_type": "display_data"
    },
    {
     "name": "stdout",
     "output_type": "stream",
     "text": [
      "Score de précision du jeu de données de test :  0.8300970873786407\n"
     ]
    }
   ],
   "source": [
    "print(\"--- Evaluation des performances du modele ---\")\n",
    "\n",
    "cm_display = ConfusionMatrixDisplay.from_predictions(y_train_transformed, y_train_pred)\n",
    "cm_display.ax_.set_title(\"Matrice de confusion du jeu de données d'entrainement \") # Simply to set a title\n",
    "plt.show()\n",
    "print(\"Score de précision du jeu de données d'entrainement' : \", classifier.score(X_train_transformed, y_train_transformed))\n",
    "\n",
    "cm_display = ConfusionMatrixDisplay.from_predictions(y_test_transformed, y_test_pred)\n",
    "cm_display.ax_.set_title(\"Matrice de confusion du jeu de données de test\") # Simply to set a title\n",
    "plt.show()\n",
    "print(\"Score de précision du jeu de données de test : \", classifier.score(X_test_transformed, y_test_transformed))"
   ]
  },
  {
   "cell_type": "code",
   "execution_count": 158,
   "metadata": {},
   "outputs": [
    {
     "name": "stdout",
     "output_type": "stream",
     "text": [
      "Les coefficients sont :  [[-1.96081339e-01  1.10302176e+00 -1.76747964e+00  2.83313113e+00\n",
      "   2.09361090e+00  2.54400530e+00  2.09861986e-01  4.09735750e-01\n",
      "  -1.58704973e-01  1.97702478e-01  5.46328588e-02 -2.64891588e-02\n",
      "   3.78789199e-01  6.42830033e-01  1.55570093e-02  7.30524268e-01\n",
      "   6.79725430e-04 -6.23153114e-01 -3.45189144e-01 -1.60947792e-02\n",
      "  -6.45319063e-01  3.70772863e-01  2.55002316e-01 -3.47854939e-01\n",
      "   4.17774363e-02  1.90448629e-01 -4.71410280e-01 -4.42543756e-02\n",
      "   2.37278939e-01 -1.29075236e-01  4.90330939e-01  8.65100793e-01\n",
      "  -1.50579284e-01 -7.54711987e-02  2.95687264e-01  4.72440881e-01\n",
      "   9.12989282e-02  2.81881988e-01 -6.04937013e-02 -2.73029935e-02\n",
      "  -5.34078008e-02 -5.97721018e-01 -1.83100474e-01  2.81594134e-01\n",
      "   8.67870193e-02 -1.02984923e-01 -9.40016182e-01  1.68294340e-01\n",
      "   2.74303874e-01]]\n",
      "La constante est :  [-2.41247858]\n"
     ]
    }
   ],
   "source": [
    "print(\"Les coefficients sont : \", classifier.coef_) \n",
    "print(\"La constante est : \", classifier.intercept_)"
   ]
  },
  {
   "cell_type": "code",
   "execution_count": 159,
   "metadata": {},
   "outputs": [
    {
     "name": "stdout",
     "output_type": "stream",
     "text": [
      " Toutes les colonnes :  ['self_employed' 'family_history' 'work_interfere' 'no_employees'\n",
      " 'remote_work' 'benefits' 'care_options' 'wellness_program' 'seek_help'\n",
      " 'anonymity' 'leave' 'mental_health_consequence' 'phys_health_consequence'\n",
      " 'coworkers' 'supervisor' 'mental_health_interview'\n",
      " 'phys_health_interview' 'mental_vs_physical' 'obs_consequence'\n",
      " 'Continent' 'Gender2' 'Age']\n"
     ]
    }
   ],
   "source": [
    "numerical_column_names = X.iloc[:, numeric_features].columns\n",
    "\n",
    "all_column_names = np.append(categorical_features_names, numerical_column_names)\n",
    "print(\" Toutes les colonnes : \", all_column_names)\n",
    "\n",
    "\n",
    "def getCoefAggregateByColumns(coef_features):\n",
    "    coef_aggregate = []\n",
    "\n",
    "    coefs = coef_features.tolist()\n",
    "\n",
    "    for i in range (0, len(nb_elements_after_drop)) :\n",
    "        coef_aggregate.append(np.mean(coefs[:nb_elements_after_drop[i]]))\n",
    "\n",
    "        for y in range (nb_elements_after_drop[i]) :\n",
    "            coefs.pop(0)\n",
    "\n",
    "    coef_aggregate.append(coefs[0])\n",
    "\n",
    "    return coef_aggregate\n",
    "\n",
    "\n",
    "coef_aggregate_by_columns = getCoefAggregateByColumns(classifier.coef_.squeeze())"
   ]
  },
  {
   "cell_type": "code",
   "execution_count": 160,
   "metadata": {},
   "outputs": [
    {
     "data": {
      "text/plain": [
       "20   -0.385861\n",
       "7    -0.311237\n",
       "11   -0.257832\n",
       "0    -0.196081\n",
       "8    -0.180642\n",
       "9    -0.137273\n",
       "14   -0.113025\n",
       "19   -0.103085\n",
       "18   -0.053408\n",
       "17   -0.043898\n",
       "4    -0.026489\n",
       "10    0.034843\n",
       "12    0.054102\n",
       "3     0.142646\n",
       "16    0.186590\n",
       "21    0.274304\n",
       "6     0.373041\n",
       "15    0.384064\n",
       "5     0.510810\n",
       "13    0.677716\n",
       "1     1.103022\n",
       "2     1.425817\n",
       "Name: coefficients, dtype: float64"
      ]
     },
     "execution_count": 160,
     "metadata": {},
     "output_type": "execute_result"
    }
   ],
   "source": [
    "\n",
    "feature_importance = pd.DataFrame({\n",
    "    \"feature_names\": all_column_names,\n",
    "    \"coefficients\":coef_aggregate_by_columns\n",
    "})\n",
    "\n",
    "feature_importance.coefficients.sort_values()"
   ]
  },
  {
   "cell_type": "code",
   "execution_count": 161,
   "metadata": {},
   "outputs": [
    {
     "data": {
      "text/plain": [
       "<seaborn.axisgrid.FacetGrid at 0x177907740>"
      ]
     },
     "execution_count": 161,
     "metadata": {},
     "output_type": "execute_result"
    },
    {
     "data": {
      "image/png": "[encoded data removed]",
      "text/plain": [
       "<Figure size 1500x500 with 1 Axes>"
      ]
     },
     "metadata": {},
     "output_type": "display_data"
    }
   ],
   "source": [
    "feature_importance[\"coefficients\"] = feature_importance[\"coefficients\"].abs()\n",
    "\n",
    "sns.catplot(x=\"feature_names\", \n",
    "            y=\"coefficients\", \n",
    "            data=feature_importance.sort_values(by=\"coefficients\", ascending=False).head(6), \n",
    "            kind=\"bar\",\n",
    "            aspect=30/10,\n",
    "            hue='feature_names')"
   ]
  },
  {
   "cell_type": "code",
   "execution_count": 162,
   "metadata": {},
   "outputs": [
    {
     "name": "stdout",
     "output_type": "stream",
     "text": [
      "Entrainement du modele...\n",
      "Temps d'execution : 417.916\n",
      "...Fait\n"
     ]
    }
   ],
   "source": [
    "print(\"Entrainement du modele...\")\n",
    "start_time_rf = time.perf_counter()\n",
    "\n",
    "classifier_rf = RandomForestClassifier(min_samples_split=100, class_weight='balanced', n_estimators=1000)\n",
    "classifier_rf.fit(X_train_transformed, y_train_transformed)\n",
    "\n",
    "end_time_rf = time.perf_counter()\n",
    "total_time_rf = (end_time_rf - start_time_rf)*1000\n",
    "\n",
    "print(f\"Temps d'execution : {total_time_rf:.3f}\")\n",
    "print(\"...Fait\")"
   ]
  },
  {
   "cell_type": "code",
   "execution_count": 163,
   "metadata": {},
   "outputs": [
    {
     "name": "stdout",
     "output_type": "stream",
     "text": [
      "Prédiction sur le jeu de données d'entrainement'...\n",
      "...Fait\n",
      "Prédiction sur le jeu de données de test...\n",
      "...Fait\n",
      "--- Evaluation des performances du modele ---\n"
     ]
    },
    {
     "data": {
      "image/png": "[encoded data removed]",
      "text/plain": [
       "<Figure size 640x480 with 2 Axes>"
      ]
     },
     "metadata": {},
     "output_type": "display_data"
    },
    {
     "name": "stdout",
     "output_type": "stream",
     "text": [
      "Score de précision du jeu de données d'entrainement 0.8223844282238443\n"
     ]
    },
    {
     "data": {
      "image/png": "[encoded data removed]",
      "text/plain": [
       "<Figure size 640x480 with 2 Axes>"
      ]
     },
     "metadata": {},
     "output_type": "display_data"
    },
    {
     "name": "stdout",
     "output_type": "stream",
     "text": [
      "Score de précision du jeu de données de test 0.8300970873786407\n"
     ]
    }
   ],
   "source": [
    "\n",
    "print(\"Prédiction sur le jeu de données d'entrainement'...\")\n",
    "y_train_pred_rf = classifier_rf.predict(X_train_transformed)\n",
    "print(\"...Fait\")\n",
    "\n",
    "print(\"Prédiction sur le jeu de données de test...\")\n",
    "y_test_pred_rf = classifier_rf.predict(X_test_transformed)\n",
    "print(\"...Fait\")\n",
    "\n",
    "print(\"--- Evaluation des performances du modele ---\")\n",
    "\n",
    "cm_display = ConfusionMatrixDisplay.from_predictions(y_train_transformed, y_train_pred_rf)\n",
    "cm_display.ax_.set_title(\"Matrice de confusion du jeu de données d'entrainement\")\n",
    "plt.show()\n",
    "print(\"Score de précision du jeu de données d'entrainement\", classifier_rf.score(X_train_transformed, y_train_transformed))\n",
    "\n",
    "cm_display = ConfusionMatrixDisplay.from_predictions(y_test_transformed, y_test_pred_rf)\n",
    "cm_display.ax_.set_title(\"Matrice de confusion du jeu de données de test\")\n",
    "plt.show()\n",
    "print(\"Score de précision du jeu de données de test\", classifier_rf.score(X_test_transformed, y_test_transformed))"
   ]
  },
  {
   "cell_type": "code",
   "execution_count": 164,
   "metadata": {},
   "outputs": [
    {
     "data": {
      "text/plain": [
       "12    0.000833\n",
       "16    0.001431\n",
       "4     0.001448\n",
       "3     0.001512\n",
       "14    0.001784\n",
       "8     0.002469\n",
       "15    0.002470\n",
       "19    0.002554\n",
       "17    0.002763\n",
       "7     0.002964\n",
       "10    0.002985\n",
       "13    0.003241\n",
       "0     0.003291\n",
       "18    0.006076\n",
       "11    0.006642\n",
       "9     0.007723\n",
       "20    0.016643\n",
       "5     0.019005\n",
       "21    0.019354\n",
       "6     0.035896\n",
       "2     0.143228\n",
       "1     0.156917\n",
       "Name: coefficients, dtype: float64"
      ]
     },
     "execution_count": 164,
     "metadata": {},
     "output_type": "execute_result"
    }
   ],
   "source": [
    "coef_rf_aggregate_by_columns = getCoefAggregateByColumns(classifier_rf.feature_importances_)\n",
    "\n",
    "feature_importance_rf = pd.DataFrame({\n",
    "    \"feature_names\": all_column_names,\n",
    "    \"coefficients\":coef_rf_aggregate_by_columns\n",
    "})\n",
    "\n",
    "feature_importance_rf.coefficients.sort_values()"
   ]
  },
  {
   "cell_type": "code",
   "execution_count": 165,
   "metadata": {},
   "outputs": [
    {
     "data": {
      "text/plain": [
       "<seaborn.axisgrid.FacetGrid at 0x17814bc20>"
      ]
     },
     "execution_count": 165,
     "metadata": {},
     "output_type": "execute_result"
    },
    {
     "data": {
      "image/png": "[encoded data removed]",
      "text/plain": [
       "<Figure size 1500x500 with 1 Axes>"
      ]
     },
     "metadata": {},
     "output_type": "display_data"
    }
   ],
   "source": [
    "feature_importance_rf[\"coefficients\"] = feature_importance_rf[\"coefficients\"].abs()\n",
    "\n",
    "sns.catplot(x=\"feature_names\", \n",
    "            y=\"coefficients\", \n",
    "            data=feature_importance_rf.sort_values(by=\"coefficients\", ascending=False).head(6), \n",
    "            kind=\"bar\",\n",
    "            aspect=30/10, # Resize graph\n",
    "            hue='feature_names')"
   ]
  }
 ],
 "metadata": {
  "kernelspec": {
   "display_name": "base",
   "language": "python",
   "name": "python3"
  },
  "language_info": {
   "codemirror_mode": {
    "name": "ipython",
    "version": 3
   },
   "file_extension": ".py",
   "mimetype": "text/x-python",
   "name": "python",
   "nbconvert_exporter": "python",
   "pygments_lexer": "ipython3",
   "version": "3.12.7"
  }
 },
 "nbformat": 4,
 "nbformat_minor": 2
}
