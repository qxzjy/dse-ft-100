{
 "cells": [
  {
   "cell_type": "code",
   "execution_count": 92,
   "metadata": {},
   "outputs": [],
   "source": [
    "import pandas as pd\n",
    "import numpy as np\n",
    "import sympy as sp\n",
    "from scipy.stats import norm, t\n",
    "\n",
    "\n",
    "data_path = \"/Users/qxzjy/vscworkspace/dse-ft-100/python_module/data/\""
   ]
  },
  {
   "cell_type": "markdown",
   "metadata": {},
   "source": [
    "# Facebook"
   ]
  },
  {
   "cell_type": "code",
   "execution_count": 48,
   "metadata": {},
   "outputs": [
    {
     "data": {
      "text/html": [
       "<div>\n",
       "<style scoped>\n",
       "    .dataframe tbody tr th:only-of-type {\n",
       "        vertical-align: middle;\n",
       "    }\n",
       "\n",
       "    .dataframe tbody tr th {\n",
       "        vertical-align: top;\n",
       "    }\n",
       "\n",
       "    .dataframe thead th {\n",
       "        text-align: right;\n",
       "    }\n",
       "</style>\n",
       "<table border=\"1\" class=\"dataframe\">\n",
       "  <thead>\n",
       "    <tr style=\"text-align: right;\">\n",
       "      <th></th>\n",
       "      <th>Customer</th>\n",
       "      <th>Hours spent on Facebook on Mobile</th>\n",
       "    </tr>\n",
       "  </thead>\n",
       "  <tbody>\n",
       "    <tr>\n",
       "      <th>0</th>\n",
       "      <td>1</td>\n",
       "      <td>4.092475</td>\n",
       "    </tr>\n",
       "    <tr>\n",
       "      <th>1</th>\n",
       "      <td>2</td>\n",
       "      <td>7.233371</td>\n",
       "    </tr>\n",
       "    <tr>\n",
       "      <th>2</th>\n",
       "      <td>3</td>\n",
       "      <td>7.455792</td>\n",
       "    </tr>\n",
       "    <tr>\n",
       "      <th>3</th>\n",
       "      <td>4</td>\n",
       "      <td>7.253503</td>\n",
       "    </tr>\n",
       "    <tr>\n",
       "      <th>4</th>\n",
       "      <td>5</td>\n",
       "      <td>2.249682</td>\n",
       "    </tr>\n",
       "  </tbody>\n",
       "</table>\n",
       "</div>"
      ],
      "text/plain": [
       "   Customer   Hours spent on Facebook on Mobile\n",
       "0          1                           4.092475\n",
       "1          2                           7.233371\n",
       "2          3                           7.455792\n",
       "3          4                           7.253503\n",
       "4          5                           2.249682"
      ]
     },
     "execution_count": 48,
     "metadata": {},
     "output_type": "execute_result"
    }
   ],
   "source": [
    "facebook_df = pd.read_excel(data_path + \"Hours spent on Facebook.xlsx\")\n",
    "facebook_df.head()"
   ]
  },
  {
   "cell_type": "code",
   "execution_count": 49,
   "metadata": {},
   "outputs": [
    {
     "name": "stdout",
     "output_type": "stream",
     "text": [
      "Mean : 4.847316438536623 | Standard Deviation : 2.9789129198018 | Sample size : 102\n"
     ]
    }
   ],
   "source": [
    "facebook_mean = facebook_df[\"Hours spent on Facebook on Mobile\"].mean()\n",
    "facebook_sigma = facebook_df[\"Hours spent on Facebook on Mobile\"].std()\n",
    "facebook_n = len(facebook_df)\n",
    "\n",
    "\n",
    "print(\"Mean : {} | Standard Deviation : {} | Sample size : {}\".format(facebook_mean, facebook_sigma, facebook_n))"
   ]
  },
  {
   "cell_type": "code",
   "execution_count": 65,
   "metadata": {},
   "outputs": [
    {
     "name": "stdout",
     "output_type": "stream",
     "text": [
      "Margin of error : 0.5781037854355929\n",
      "Confidence intervalle (95%) : [4.269212653101031, 5.425420223972216]\n"
     ]
    },
    {
     "data": {
      "text/plain": [
       "<Axes: >"
      ]
     },
     "execution_count": 65,
     "metadata": {},
     "output_type": "execute_result"
    },
    {
     "data": {
      "image/png": "[encoded data removed]",
      "text/plain": [
       "<Figure size 640x480 with 1 Axes>"
      ]
     },
     "metadata": {},
     "output_type": "display_data"
    }
   ],
   "source": [
    "# E = t * sigma / sqrt(n)\n",
    "# -> t = t_value\n",
    "# -> sigma = standard deviation\n",
    "# -> n = sample size\n",
    "\n",
    "# Normal distribution because n > 30-40\n",
    "# 95% confidence interval\n",
    "# -> p-value = alpha = 0,05\n",
    "# -> t_value = 1.96 \n",
    "\n",
    "# Using scipy library\n",
    "facebook_alpha = 0.05\n",
    "facebook_t_value = norm.ppf(1 - facebook_alpha / 2)\n",
    "\n",
    "facebook_E = facebook_t_value * facebook_sigma / np.sqrt(facebook_n)\n",
    "\n",
    "facebook_min_ci = facebook_mean - facebook_E\n",
    "facebook_max_ci = facebook_mean + facebook_E\n",
    "\n",
    "print(\"Margin of error : {}\".format(facebook_E))\n",
    "print(\"Confidence intervalle (95%) : [{}, {}]\".format(facebook_min_ci, facebook_max_ci))\n",
    "\n",
    "# iloc to only use the column that we want to calculate the mean and confidence interval\n",
    "facebook_df.iloc[:,1:].mean().plot(yerr=facebook_E, kind=\"bar\")"
   ]
  },
  {
   "cell_type": "code",
   "execution_count": 33,
   "metadata": {},
   "outputs": [
    {
     "data": {
      "text/plain": [
       "<Axes: >"
      ]
     },
     "execution_count": 33,
     "metadata": {},
     "output_type": "execute_result"
    },
    {
     "data": {
      "image/png": "[encoded data removed]",
      "text/plain": [
       "<Figure size 640x480 with 1 Axes>"
      ]
     },
     "metadata": {},
     "output_type": "display_data"
    }
   ],
   "source": [
    "facebook_df.boxplot(column=[\"Hours spent on Facebook on Mobile\"])"
   ]
  },
  {
   "cell_type": "markdown",
   "metadata": {},
   "source": [
    "# Google"
   ]
  },
  {
   "cell_type": "code",
   "execution_count": 22,
   "metadata": {},
   "outputs": [
    {
     "data": {
      "text/html": [
       "<div>\n",
       "<style scoped>\n",
       "    .dataframe tbody tr th:only-of-type {\n",
       "        vertical-align: middle;\n",
       "    }\n",
       "\n",
       "    .dataframe tbody tr th {\n",
       "        vertical-align: top;\n",
       "    }\n",
       "\n",
       "    .dataframe thead th {\n",
       "        text-align: right;\n",
       "    }\n",
       "</style>\n",
       "<table border=\"1\" class=\"dataframe\">\n",
       "  <thead>\n",
       "    <tr style=\"text-align: right;\">\n",
       "      <th></th>\n",
       "      <th>Monthly spending</th>\n",
       "    </tr>\n",
       "  </thead>\n",
       "  <tbody>\n",
       "    <tr>\n",
       "      <th>0</th>\n",
       "      <td>562.460391</td>\n",
       "    </tr>\n",
       "    <tr>\n",
       "      <th>1</th>\n",
       "      <td>382.543660</td>\n",
       "    </tr>\n",
       "    <tr>\n",
       "      <th>2</th>\n",
       "      <td>947.684175</td>\n",
       "    </tr>\n",
       "    <tr>\n",
       "      <th>3</th>\n",
       "      <td>425.084351</td>\n",
       "    </tr>\n",
       "    <tr>\n",
       "      <th>4</th>\n",
       "      <td>546.562302</td>\n",
       "    </tr>\n",
       "  </tbody>\n",
       "</table>\n",
       "</div>"
      ],
      "text/plain": [
       "   Monthly spending\n",
       "0        562.460391\n",
       "1        382.543660\n",
       "2        947.684175\n",
       "3        425.084351\n",
       "4        546.562302"
      ]
     },
     "execution_count": 22,
     "metadata": {},
     "output_type": "execute_result"
    }
   ],
   "source": [
    "google_df = pd.read_excel(data_path + \"Monthly spending on adwords.xlsx\")\n",
    "google_df.head()"
   ]
  },
  {
   "cell_type": "code",
   "execution_count": 30,
   "metadata": {},
   "outputs": [
    {
     "name": "stdout",
     "output_type": "stream",
     "text": [
      "Mean : 491.7728579747688 | Standard Deviation : 253.962767023645 | Sample Size : 31\n"
     ]
    }
   ],
   "source": [
    "google_mean = google_df[\"Monthly spending\"].mean()\n",
    "google_sigma = google_df[\"Monthly spending\"].std()\n",
    "google_n = len(google_df)\n",
    "\n",
    "print(\"Mean : {} | Standard Deviation : {} | Sample Size : {}\".format(google_mean, google_sigma, google_n))"
   ]
  },
  {
   "cell_type": "code",
   "execution_count": 95,
   "metadata": {},
   "outputs": [
    {
     "name": "stdout",
     "output_type": "stream",
     "text": [
      "2.0422724563012373\n",
      "Margin of error : 93.15429501309028\n",
      "Confidence intervalle (95%) : [398.6185629616785, 584.927152987859]\n"
     ]
    },
    {
     "data": {
      "text/plain": [
       "<Axes: >"
      ]
     },
     "execution_count": 95,
     "metadata": {},
     "output_type": "execute_result"
    },
    {
     "data": {
      "image/png": "[encoded data removed]",
      "text/plain": [
       "<Figure size 640x480 with 1 Axes>"
      ]
     },
     "metadata": {},
     "output_type": "display_data"
    }
   ],
   "source": [
    "# E = t * sigma / sqrt(n)\n",
    "# -> t = t_value\n",
    "# -> sigma = standard deviation\n",
    "# -> n = sample size\n",
    "\n",
    "# Student's t-distribution because n < 30-40 (n = 31)\n",
    "# 95% confidence interval\n",
    "# -> p-value = 0,05\n",
    "# -> d.f = n - 1 = 30\n",
    "# -> t_value = t = 2.043 \n",
    "\n",
    "# Using scipy library\n",
    "google_alpha = 0.05\n",
    "google_t_value = t.ppf(1-google_alpha/2, google_n-1)\n",
    "\n",
    "google_E = google_t_value * google_sigma / np.sqrt(google_n)\n",
    "\n",
    "google_min_ci = google_mean - google_E\n",
    "google_max_ci = google_mean + google_E\n",
    "\n",
    "print(\"Margin of error : {}\".format(google_E))\n",
    "print(\"Confidence intervalle (95%) : [{}, {}]\".format(google_min_ci, google_max_ci))\n",
    "\n",
    "# iloc to only use the column that we want to calculate the mean and confidence interval\n",
    "google_df.mean().plot(yerr=google_E, kind=\"bar\")"
   ]
  },
  {
   "cell_type": "code",
   "execution_count": 56,
   "metadata": {},
   "outputs": [
    {
     "data": {
      "text/plain": [
       "<Axes: >"
      ]
     },
     "execution_count": 56,
     "metadata": {},
     "output_type": "execute_result"
    },
    {
     "data": {
      "image/png": "[encoded data removed]",
      "text/plain": [
       "<Figure size 640x480 with 1 Axes>"
      ]
     },
     "metadata": {},
     "output_type": "display_data"
    }
   ],
   "source": [
    "google_df.boxplot()"
   ]
  },
  {
   "cell_type": "markdown",
   "metadata": {},
   "source": [
    "# Nitendo"
   ]
  },
  {
   "cell_type": "code",
   "execution_count": 97,
   "metadata": {},
   "outputs": [
    {
     "data": {
      "text/html": [
       "<div>\n",
       "<style scoped>\n",
       "    .dataframe tbody tr th:only-of-type {\n",
       "        vertical-align: middle;\n",
       "    }\n",
       "\n",
       "    .dataframe tbody tr th {\n",
       "        vertical-align: top;\n",
       "    }\n",
       "\n",
       "    .dataframe thead th {\n",
       "        text-align: right;\n",
       "    }\n",
       "</style>\n",
       "<table border=\"1\" class=\"dataframe\">\n",
       "  <thead>\n",
       "    <tr style=\"text-align: right;\">\n",
       "      <th></th>\n",
       "      <th>City</th>\n",
       "      <th>Number of sales</th>\n",
       "    </tr>\n",
       "  </thead>\n",
       "  <tbody>\n",
       "    <tr>\n",
       "      <th>0</th>\n",
       "      <td>New York</td>\n",
       "      <td>65538.794054</td>\n",
       "    </tr>\n",
       "    <tr>\n",
       "      <th>1</th>\n",
       "      <td>San Francisco</td>\n",
       "      <td>45709.289870</td>\n",
       "    </tr>\n",
       "    <tr>\n",
       "      <th>2</th>\n",
       "      <td>Seattle</td>\n",
       "      <td>87417.957092</td>\n",
       "    </tr>\n",
       "    <tr>\n",
       "      <th>3</th>\n",
       "      <td>Denver</td>\n",
       "      <td>96461.186529</td>\n",
       "    </tr>\n",
       "    <tr>\n",
       "      <th>4</th>\n",
       "      <td>Austin</td>\n",
       "      <td>3665.528408</td>\n",
       "    </tr>\n",
       "  </tbody>\n",
       "</table>\n",
       "</div>"
      ],
      "text/plain": [
       "            City  Number of sales\n",
       "0       New York     65538.794054\n",
       "1  San Francisco     45709.289870\n",
       "2       Seattle      87417.957092\n",
       "3        Denver      96461.186529\n",
       "4        Austin       3665.528408"
      ]
     },
     "execution_count": 97,
     "metadata": {},
     "output_type": "execute_result"
    }
   ],
   "source": [
    "nitendo_df = pd.read_excel(data_path + \"Number of switch sold.xlsx\")\n",
    "nitendo_df.head()"
   ]
  },
  {
   "cell_type": "code",
   "execution_count": 101,
   "metadata": {},
   "outputs": [
    {
     "name": "stdout",
     "output_type": "stream",
     "text": [
      "Mean : 42996.94036175361 | Standard Deviation : 28365.335356619857 | Sample Size : 20\n"
     ]
    }
   ],
   "source": [
    "nitendo_mean = nitendo_df[\"Number of sales\"].mean()\n",
    "nitendo_sigma = nitendo_df[\"Number of sales\"].std()\n",
    "nitendo_n = len(nitendo_df)\n",
    "\n",
    "print(\"Mean : {} | Standard Deviation : {} | Sample Size : {}\".format(nitendo_mean, nitendo_sigma, nitendo_n))"
   ]
  },
  {
   "cell_type": "code",
   "execution_count": 105,
   "metadata": {},
   "outputs": [
    {
     "name": "stdout",
     "output_type": "stream",
     "text": [
      "Minimum sample size for a margin of error (E) of 5000 : 123.6368634876361\n"
     ]
    }
   ],
   "source": [
    "# Set t value\n",
    "nitendo_t_value = 1.96\n",
    "\n",
    "# We forced the margin of error to 5000\n",
    "nitendo_E = 5000\n",
    "\n",
    "# Get minimum sample size needed for a margin of error of 5000\n",
    "nitendo_min_n = np.power(nitendo_t_value * nitendo_sigma / nitendo_E, 2)\n",
    "\n",
    "print(\"Minimum sample size for a margin of error (E) of 5000 : {}\".format(nitendo_min_n))"
   ]
  },
  {
   "cell_type": "markdown",
   "metadata": {},
   "source": [
    "# Apple"
   ]
  },
  {
   "cell_type": "code",
   "execution_count": 73,
   "metadata": {},
   "outputs": [
    {
     "data": {
      "text/html": [
       "<div>\n",
       "<style scoped>\n",
       "    .dataframe tbody tr th:only-of-type {\n",
       "        vertical-align: middle;\n",
       "    }\n",
       "\n",
       "    .dataframe tbody tr th {\n",
       "        vertical-align: top;\n",
       "    }\n",
       "\n",
       "    .dataframe thead th {\n",
       "        text-align: right;\n",
       "    }\n",
       "</style>\n",
       "<table border=\"1\" class=\"dataframe\">\n",
       "  <thead>\n",
       "    <tr style=\"text-align: right;\">\n",
       "      <th></th>\n",
       "      <th>Satisfied customer</th>\n",
       "    </tr>\n",
       "  </thead>\n",
       "  <tbody>\n",
       "    <tr>\n",
       "      <th>0</th>\n",
       "      <td>0</td>\n",
       "    </tr>\n",
       "    <tr>\n",
       "      <th>1</th>\n",
       "      <td>0</td>\n",
       "    </tr>\n",
       "    <tr>\n",
       "      <th>2</th>\n",
       "      <td>0</td>\n",
       "    </tr>\n",
       "    <tr>\n",
       "      <th>3</th>\n",
       "      <td>0</td>\n",
       "    </tr>\n",
       "    <tr>\n",
       "      <th>4</th>\n",
       "      <td>0</td>\n",
       "    </tr>\n",
       "  </tbody>\n",
       "</table>\n",
       "</div>"
      ],
      "text/plain": [
       "   Satisfied customer\n",
       "0                   0\n",
       "1                   0\n",
       "2                   0\n",
       "3                   0\n",
       "4                   0"
      ]
     },
     "execution_count": 73,
     "metadata": {},
     "output_type": "execute_result"
    }
   ],
   "source": [
    "apple_df = pd.read_excel(data_path + \"satisfaction apple release.xlsx\")\n",
    "apple_df.head()"
   ]
  },
  {
   "cell_type": "code",
   "execution_count": 74,
   "metadata": {},
   "outputs": [
    {
     "name": "stdout",
     "output_type": "stream",
     "text": [
      "Sample Size : 41\n",
      "Number of people satisfied : 15 (36.58536585365854 %)\n",
      "Number of people unsatisfied : 26 (63.41463414634146 %)\n"
     ]
    }
   ],
   "source": [
    "apple_n = len(apple_df)\n",
    "\n",
    "print(\"Sample Size : {}\".format(apple_n))\n",
    "\n",
    "apple_satisfied = apple_df[\"Satisfied customer\"].value_counts()[1]\n",
    "apple_unsatisfied = apple_df[\"Satisfied customer\"].value_counts()[0]\n",
    "\n",
    "apple_satisfied_proportion = apple_satisfied / apple_n\n",
    "apple_unsatisfied_proportion = apple_unsatisfied / apple_n\n",
    "\n",
    "print(\"Number of people satisfied : {} ({} %)\".format(apple_satisfied, apple_satisfied_proportion*100))\n",
    "print(\"Number of people unsatisfied : {} ({} %)\".format(apple_unsatisfied, apple_unsatisfied_proportion*100))\n",
    "\n"
   ]
  },
  {
   "cell_type": "code",
   "execution_count": null,
   "metadata": {},
   "outputs": [
    {
     "name": "stdout",
     "output_type": "stream",
     "text": [
      "1.959963984540054\n",
      "Margin of error : 0.14743636313719835\n",
      "Confidence intervalle (95%) : [0.218417295399387, 0.5132900216737837]\n"
     ]
    }
   ],
   "source": [
    "# E = z * sqrt((p * (1 - p)) / n)\n",
    "# -> z = z_value\n",
    "# -> p = proportion observate\n",
    "# -> n = sample size\n",
    "\n",
    "# Student's t-distribution because n > 30-40 (n = 41)\n",
    "# 95% confidence interval\n",
    "# -> p-value = 0,05\n",
    "# -> z_value = z = 1.96\n",
    "#  \n",
    "# Using scipy library\n",
    "apple_alpha = 0.05\n",
    "apple_z_value = norm.ppf(1 - apple_alpha / 2)\n",
    "\n",
    "apple_E = apple_z_value * np.sqrt((apple_satisfied_proportion * (1 - apple_satisfied_proportion)) / apple_n )\n",
    "\n",
    "apple_min_ci = apple_satisfied_proportion - apple_E\n",
    "apple_max_ci = apple_satisfied_proportion + apple_E\n",
    "\n",
    "print(\"Margin of error : {}\".format(apple_E))\n",
    "print(\"Confidence intervalle (95%) : [{}, {}]\".format(apple_min_ci, apple_max_ci))"
   ]
  },
  {
   "cell_type": "markdown",
   "metadata": {},
   "source": [
    "# Laboratory"
   ]
  },
  {
   "cell_type": "code",
   "execution_count": null,
   "metadata": {},
   "outputs": [
    {
     "name": "stdout",
     "output_type": "stream",
     "text": [
      "[3457.44000000000]\n"
     ]
    }
   ],
   "source": [
    "# Margin of error : E = z * sqrt((p * (1 - p)) / n)\n",
    "# -> z = 1.96\n",
    "# -> p = 0.90\n",
    "# -> n = ?\n",
    "\n",
    "n = sp.symbols(\"n\", real = True)\n",
    "\n",
    "expr = sp.Eq(0.01, (1.96 * sp.sqrt((0.90 * (1 - 0.90)) / n)))\n",
    "\n",
    "res = sp.solve(expr)\n",
    "\n",
    "print(res)"
   ]
  }
 ],
 "metadata": {
  "kernelspec": {
   "display_name": "Python [conda env:base] *",
   "language": "python",
   "name": "conda-base-py"
  }
 },
 "nbformat": 4,
 "nbformat_minor": 2
}
