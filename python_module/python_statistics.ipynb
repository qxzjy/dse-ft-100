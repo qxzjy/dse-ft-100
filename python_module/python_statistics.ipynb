{
 "cells": [
  {
   "cell_type": "markdown",
   "metadata": {},
   "source": [
    "# Data Collection exercice\n",
    "\n",
    "### Google\n",
    "1. Type d'étude : \n",
    "- Observationnelle -> récupère les données, sans intervenir sur le sujet (clients)\n",
    "- Transversale -> enquête sur l'avis de l'échantillon à l'instant T, pas sur une période\n",
    "\n",
    "2. Type d'échantillonage : en grappes, choix aléatoires de plusieurs sous-ensembles (villes)\n",
    "\n",
    "### Grammarly\n",
    "1. Type d'étude : \n",
    "- Expérimentale -> test l'impact sur les sujets (participant)\n",
    "- Longitudinale -> suivi d'un groupe sur 6 mois\n",
    "\n",
    "2. Type d'échantillonage : stratifié, on garde la même proportion d'un paramètre (répartition par nationnalité) entre la population et l'échantillon\n",
    "\n",
    "### Société Générale\n",
    "1. Type d'étude : \n",
    "- Observationnelle -> récupère les données, sans intervenir sur le sujet (clients)\n",
    "- Transversale -> enquête sur l'avis de l'échantillon à l'instant T, pas sur une période\n",
    "\n",
    "2. Type d'échantillonage : commodité/convenance, selectionne soi-même de façon non-aléatoire (beaucoup de biais)"
   ]
  },
  {
   "cell_type": "markdown",
   "metadata": {},
   "source": [
    "# Data Types\n",
    "\n",
    "1. Age :\n",
    "- Quantitatif\n",
    "- N/A\n",
    "- Discret\n",
    "\n",
    "2. Salaire :\n",
    "- Quantitatif\n",
    "- N/A\n",
    "- Continu\n",
    "\n",
    "3. Pays :\n",
    "- Qualitatif\n",
    "- Nominal\n",
    "- N/A\n",
    "\n",
    "4. Couleur :\n",
    "- Qualitatif\n",
    "- Nominal\n",
    "- N/A\n",
    "\n",
    "5. Sexe :\n",
    "- Qualitatif\n",
    "- Nominal\n",
    "- N/A\n",
    "\n",
    "6. Satisfaction client avec un service  :\n",
    "- Qualitatif\n",
    "- Ordinal\n",
    "- N/A"
   ]
  }
 ],
 "metadata": {
  "language_info": {
   "name": "python"
  }
 },
 "nbformat": 4,
 "nbformat_minor": 2
}
