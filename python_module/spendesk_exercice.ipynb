{
 "cells": [
  {
   "cell_type": "markdown",
   "metadata": {},
   "source": [
    "# Spendesk"
   ]
  },
  {
   "cell_type": "markdown",
   "metadata": {},
   "source": [
    "## Step 1 - Import libraries"
   ]
  },
  {
   "cell_type": "code",
   "execution_count": 13,
   "metadata": {},
   "outputs": [],
   "source": [
    "import pandas as pd\n",
    "import numpy as np\n",
    "import matplotlib.pyplot as plt\n",
    "import seaborn as sns\n",
    "from statsmodels.stats.weightstats import ztest\n",
    "\n",
    "data_path = \"/Users/qxzjy/vscworkspace/dse-ft-100/python_module/data/\""
   ]
  },
  {
   "cell_type": "markdown",
   "metadata": {},
   "source": [
    "## Step 2 - Import Dataset"
   ]
  },
  {
   "cell_type": "code",
   "execution_count": 14,
   "metadata": {},
   "outputs": [
    {
     "data": {
      "text/html": [
       "<div>\n",
       "<style scoped>\n",
       "    .dataframe tbody tr th:only-of-type {\n",
       "        vertical-align: middle;\n",
       "    }\n",
       "\n",
       "    .dataframe tbody tr th {\n",
       "        vertical-align: top;\n",
       "    }\n",
       "\n",
       "    .dataframe thead th {\n",
       "        text-align: right;\n",
       "    }\n",
       "</style>\n",
       "<table border=\"1\" class=\"dataframe\">\n",
       "  <thead>\n",
       "    <tr style=\"text-align: right;\">\n",
       "      <th></th>\n",
       "      <th>Time_for_producing_income_statement_before</th>\n",
       "      <th>Time_for_producing_income_statement_after</th>\n",
       "    </tr>\n",
       "  </thead>\n",
       "  <tbody>\n",
       "    <tr>\n",
       "      <th>0</th>\n",
       "      <td>11</td>\n",
       "      <td>75</td>\n",
       "    </tr>\n",
       "    <tr>\n",
       "      <th>1</th>\n",
       "      <td>13</td>\n",
       "      <td>72</td>\n",
       "    </tr>\n",
       "    <tr>\n",
       "      <th>2</th>\n",
       "      <td>38</td>\n",
       "      <td>15</td>\n",
       "    </tr>\n",
       "    <tr>\n",
       "      <th>3</th>\n",
       "      <td>28</td>\n",
       "      <td>34</td>\n",
       "    </tr>\n",
       "    <tr>\n",
       "      <th>4</th>\n",
       "      <td>39</td>\n",
       "      <td>17</td>\n",
       "    </tr>\n",
       "  </tbody>\n",
       "</table>\n",
       "</div>"
      ],
      "text/plain": [
       "   Time_for_producing_income_statement_before  \\\n",
       "0                                          11   \n",
       "1                                          13   \n",
       "2                                          38   \n",
       "3                                          28   \n",
       "4                                          39   \n",
       "\n",
       "   Time_for_producing_income_statement_after  \n",
       "0                                         75  \n",
       "1                                         72  \n",
       "2                                         15  \n",
       "3                                         34  \n",
       "4                                         17  "
      ]
     },
     "execution_count": 14,
     "metadata": {},
     "output_type": "execute_result"
    }
   ],
   "source": [
    "spendesk_df = pd.read_csv(data_path + \"spendesk_survey.csv\")\n",
    "spendesk_df.head()"
   ]
  },
  {
   "cell_type": "markdown",
   "metadata": {},
   "source": [
    "## Step 3 - EDA"
   ]
  },
  {
   "cell_type": "code",
   "execution_count": 15,
   "metadata": {},
   "outputs": [
    {
     "data": {
      "text/plain": [
       "[Text(0, 0, '65.7313'), Text(0, 0, '41.0267')]"
      ]
     },
     "execution_count": 15,
     "metadata": {},
     "output_type": "execute_result"
    },
    {
     "data": {
      "image/png": "[encoded data removed]",
      "text/plain": [
       "<Figure size 640x480 with 1 Axes>"
      ]
     },
     "metadata": {},
     "output_type": "display_data"
    }
   ],
   "source": [
    "axes = spendesk_df.mean().plot(kind=\"bar\")\n",
    "\n",
    "# We display the mean directly on the bar plot\n",
    "axes.bar_label(axes.containers[0])"
   ]
  },
  {
   "cell_type": "code",
   "execution_count": null,
   "metadata": {},
   "outputs": [
    {
     "name": "stdout",
     "output_type": "stream",
     "text": [
      "Average boost (rounded) : 38.0 %\n"
     ]
    }
   ],
   "source": [
    "average_productivity_boost = (spendesk_df.Time_for_producing_income_statement_before.mean() - spendesk_df.Time_for_producing_income_statement_after.mean()) / spendesk_df.Time_for_producing_income_statement_before.mean()\n",
    "# average_productivity_boost = (spendesk_df.mean()[0] - spendesk_df.mean()[1])/spendesk_df.mean()[0]\n",
    "print(\"Average productivity boost (rounded) : {} %\".format(np.round(average_productivity_boost*100)))"
   ]
  },
  {
   "cell_type": "code",
   "execution_count": null,
   "metadata": {},
   "outputs": [
    {
     "data": {
      "text/plain": [
       "24.704666666666668"
      ]
     },
     "execution_count": 19,
     "metadata": {},
     "output_type": "execute_result"
    }
   ],
   "source": [
    "spendesk_df[\"time_difference\"] = spendesk_df.Time_for_producing_income_statement_before - spendesk_df.Time_for_producing_income_statement_after\n",
    "spendesk_df.head()"
   ]
  },
  {
   "cell_type": "markdown",
   "metadata": {},
   "source": [
    "## Step 4 - Define hypothesises"
   ]
  },
  {
   "cell_type": "markdown",
   "metadata": {},
   "source": [
    "H<sub>0</sub> : AVERAGE_BOOST >= 26\n",
    "\n",
    "H<sub>1</sub> : AVERAGE_BOOST < 26\n",
    "\n",
    "We want to know if customers save at least 26 days using Spendesk"
   ]
  },
  {
   "cell_type": "markdown",
   "metadata": {},
   "source": [
    "## Step 5 - Calculate Z-score"
   ]
  },
  {
   "cell_type": "code",
   "execution_count": 21,
   "metadata": {},
   "outputs": [
    {
     "name": "stdout",
     "output_type": "stream",
     "text": [
      "Average : 24.704666666666668 | Standard deviation 37.97125213739304 | Average HO : 26\n",
      "Z-Score : -1.321211217800986\n"
     ]
    }
   ],
   "source": [
    "# Z = (X - mu) / sigma / n\n",
    "# -> X = mean\n",
    "# -> mu = mean H1\n",
    "# -> sigma = standard deviation\n",
    "# -> n = sample size\n",
    "mean = spendesk_df.time_difference.mean()\n",
    "std = spendesk_df.time_difference.std()\n",
    "mean_h1 = 26\n",
    "sample_size = len(spendesk_df)\n",
    "\n",
    "print(f\"Average : {mean} | Standard deviation {std} | Average HO : {mean_h1}\")\n",
    "\n",
    "calculated_z_score = (mean - mean_h1) / (std / np.sqrt(sample_size))\n",
    "print(f\"Z-Score : {calculated_z_score}\")"
   ]
  },
  {
   "cell_type": "markdown",
   "metadata": {},
   "source": [
    "## Step 6 - Set α"
   ]
  },
  {
   "cell_type": "code",
   "execution_count": 22,
   "metadata": {},
   "outputs": [
    {
     "name": "stdout",
     "output_type": "stream",
     "text": [
      "Confidence level (alpha) = 0.1\n"
     ]
    }
   ],
   "source": [
    "alpha = 0.10\n",
    "print(f\"Confidence level (alpha) = {alpha}\")"
   ]
  },
  {
   "cell_type": "markdown",
   "metadata": {},
   "source": [
    "## Step 7 - Compare p-value to α"
   ]
  },
  {
   "cell_type": "code",
   "execution_count": 24,
   "metadata": {},
   "outputs": [
    {
     "name": "stdout",
     "output_type": "stream",
     "text": [
      "Z_score : -1.3212112178009856\n",
      "p-value : 0.09321547347727516\n",
      "Null hypothesis H0 rejected\n"
     ]
    }
   ],
   "source": [
    "# Using ztest function from the statsmodels.stats.weightstat library\n",
    "z_score, p_value = ztest(spendesk_df.time_difference, alternative='smaller', value=mean_h1)\n",
    "\n",
    "print(\"Z_score : {}\".format(z_score))\n",
    "print(\"p-value : {}\".format(p_value))\n",
    "\n",
    "if p_value < alpha:\n",
    "    print(f\"Null hypothesis H0 rejected\")\n",
    "else:\n",
    "    print(\"Null hypothesis H0 not rejected\")"
   ]
  },
  {
   "cell_type": "markdown",
   "metadata": {},
   "source": [
    "## Step 8 (Optional) - Visualize probability"
   ]
  },
  {
   "cell_type": "code",
   "execution_count": 25,
   "metadata": {},
   "outputs": [
    {
     "data": {
      "image/png": "[encoded data removed]",
      "text/plain": [
       "<Figure size 500x500 with 1 Axes>"
      ]
     },
     "metadata": {},
     "output_type": "display_data"
    }
   ],
   "source": [
    "# Distplot from seaborn gives us a distribution from what is inside the parenthesis\n",
    "# => Dispolot is deprecated, we're going to use Displot instead\n",
    "# np.random.normal simulates a normal distribution \n",
    "# hist=None simply stats that we don't want a histogram\n",
    "# => Deprecated attribute, we're using kind=\"kde\" which is the same as a kdeplot(kernel density estimation)\n",
    "ax = sns.displot(np.random.normal(0, 1, size=1000000), kind=\"kde\") \n",
    "\n",
    "# => Since Displot isn't working like Distplot, we need to access the matplotlib axes differently\n",
    "axes = ax.axes[0, 0]\n",
    "\n",
    "# This is a mask that will let us filter only the values beyond z-score\n",
    "mask = axes.lines[0].get_xydata()[:, 0] < z_score ## Only modify the operator sign (<, >) depending on your problem\n",
    "\n",
    "# This will get the coordinates of all the data points beyon z-score\n",
    "x_area_under_curve = axes.lines[0].get_xydata()[:, 0][mask]\n",
    "y_area_under_curve = axes.lines[0].get_xydata()[:, 1][mask]\n",
    "\n",
    "# We finally fill the area with red\n",
    "axes.fill_between(x_area_under_curve, y_area_under_curve, color=\"red\")\n",
    "\n",
    "plt.show()"
   ]
  }
 ],
 "metadata": {
  "kernelspec": {
   "display_name": "Python [conda env:base] *",
   "language": "python",
   "name": "conda-base-py"
  }
 },
 "nbformat": 4,
 "nbformat_minor": 2
}
