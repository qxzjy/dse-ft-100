{
 "cells": [
  {
   "cell_type": "code",
   "execution_count": null,
   "metadata": {},
   "outputs": [],
   "source": [
    "class Basic_math():\n",
    "    \n",
    "    def __init__(self, a, b):\n",
    "        self.a = a\n",
    "        self.b = b\n",
    "\n",
    "    def addition(self):\n",
    "        return self.a + self.b"
   ]
  },
  {
   "cell_type": "code",
   "execution_count": 14,
   "metadata": {},
   "outputs": [
    {
     "data": {
      "text/plain": [
       "30"
      ]
     },
     "execution_count": 14,
     "metadata": {},
     "output_type": "execute_result"
    }
   ],
   "source": [
    "math = Basic_math(10, 20)\n",
    "math.addition()"
   ]
  },
  {
   "cell_type": "code",
   "execution_count": 16,
   "metadata": {},
   "outputs": [
    {
     "data": {
      "text/plain": [
       "60"
      ]
     },
     "execution_count": 16,
     "metadata": {},
     "output_type": "execute_result"
    }
   ],
   "source": [
    "class Pandas():\n",
    "    \n",
    "    def __init__(self, df=[]):\n",
    "        self.df = df\n",
    "\n",
    "    def addition(self):\n",
    "        return sum(self.df)\n",
    "\n",
    "pd = Pandas([10, 20, 30])\n",
    "pd.addition()"
   ]
  },
  {
   "cell_type": "markdown",
   "metadata": {},
   "source": [
    "## Encapsulation"
   ]
  },
  {
   "cell_type": "code",
   "execution_count": 3,
   "metadata": {},
   "outputs": [
    {
     "name": "stdout",
     "output_type": "stream",
     "text": [
      "25\n",
      "2700\n"
     ]
    }
   ],
   "source": [
    "class Person():\n",
    "    def __init__(self, salary, age):\n",
    "        self.salary = salary\n",
    "        self.age = age\n",
    "\n",
    "    def get_salary(self):\n",
    "        return self.salary\n",
    "    \n",
    "    def get_age(self):\n",
    "        return self.age\n",
    "    \n",
    "person = Person(25, 2700)\n",
    "print(person.get_salary()) #output: 2700 \n",
    "print(person.get_age()) #output: 25"
   ]
  },
  {
   "cell_type": "markdown",
   "metadata": {},
   "source": [
    "## Heritage"
   ]
  },
  {
   "cell_type": "code",
   "execution_count": 4,
   "metadata": {},
   "outputs": [
    {
     "data": {
      "text/plain": [
       "'10 * 20 is greater than 30'"
      ]
     },
     "execution_count": 4,
     "metadata": {},
     "output_type": "execute_result"
    }
   ],
   "source": [
    "class Basic_math():\n",
    "    \n",
    "    def __init__(self, a, b):\n",
    "        self.a = a\n",
    "        self.b = b\n",
    "\n",
    "    def add(self):\n",
    "        return self.a + self.b\n",
    "    \n",
    "    def sub(self):\n",
    "        return self.a - self.b\n",
    "\n",
    "# Heritage    \n",
    "class Complex_math(Basic_math):\n",
    "\n",
    "    def __init__(self, a, b, c) :\n",
    "        super().__init__(a, b)\n",
    "        self.c = c\n",
    "    \n",
    "    def mult(self):\n",
    "        return self.a * self.b\n",
    "    \n",
    "    def comp(self):\n",
    "        result = self.mult()\n",
    "\n",
    "        if result > self.c:\n",
    "            return '{} * {} is greater than {}'.format(self.a, self.b, self.c)\n",
    "        else:\n",
    "            return '{} * {} is lower than {}'.format(self.a, self.b, self.c)\n",
    "\n",
    "math = Complex_math(10, 20, 30)\n",
    "math.comp()"
   ]
  },
  {
   "cell_type": "markdown",
   "metadata": {},
   "source": [
    "## Abstraction"
   ]
  },
  {
   "cell_type": "code",
   "execution_count": 5,
   "metadata": {},
   "outputs": [
    {
     "name": "stdout",
     "output_type": "stream",
     "text": [
      "Woof!\n",
      "Meow!\n"
     ]
    }
   ],
   "source": [
    "\n",
    "from abc import ABC, abstractmethod\n",
    "\n",
    "class Animal(ABC):\n",
    "    @abstractmethod\n",
    "    def make_sound(self):\n",
    "        pass\n",
    "\n",
    "class Dog(Animal):\n",
    "    def make_sound(self):\n",
    "        print(\"Woof!\")\n",
    "\n",
    "class Cat(Animal):\n",
    "    def make_sound(self):\n",
    "        print(\"Meow!\")\n",
    "\n",
    "dog = Dog()\n",
    "dog.make_sound()  # Output: Woof!\n",
    "\n",
    "cat = Cat()\n",
    "cat.make_sound()  # Output: Meow!"
   ]
  },
  {
   "cell_type": "markdown",
   "metadata": {},
   "source": [
    "## Polymorphism"
   ]
  },
  {
   "cell_type": "code",
   "execution_count": 6,
   "metadata": {},
   "outputs": [
    {
     "name": "stdout",
     "output_type": "stream",
     "text": [
      "Woof!\n",
      "Meow!\n"
     ]
    }
   ],
   "source": [
    "class Animal:\n",
    "    def __init__(self, name):\n",
    "        self.name = name\n",
    "\n",
    "    def make_sound(self):\n",
    "        pass\n",
    "\n",
    "class Dog(Animal):\n",
    "    def make_sound(self):\n",
    "        return \"Woof!\"\n",
    "\n",
    "class Cat(Animal):\n",
    "    def make_sound(self):\n",
    "        return \"Meow!\"\n",
    "\n",
    "def make_animal_sound(animal):\n",
    "    print(animal.make_sound())\n",
    "\n",
    "dog = Dog(\"Buddy\")\n",
    "make_animal_sound(dog)  # Output: Woof!\n",
    "\n",
    "cat = Cat(\"Whiskers\")\n",
    "make_animal_sound(cat)  # Output: Meow!"
   ]
  }
 ],
 "metadata": {
  "kernelspec": {
   "display_name": "base",
   "language": "python",
   "name": "python3"
  },
  "language_info": {
   "codemirror_mode": {
    "name": "ipython",
    "version": 3
   },
   "file_extension": ".py",
   "mimetype": "text/x-python",
   "name": "python",
   "nbconvert_exporter": "python",
   "pygments_lexer": "ipython3",
   "version": "3.12.7"
  }
 },
 "nbformat": 4,
 "nbformat_minor": 2
}
