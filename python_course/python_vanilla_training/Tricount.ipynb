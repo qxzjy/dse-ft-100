{
 "cells": [
  {
   "cell_type": "code",
   "execution_count": null,
   "metadata": {},
   "outputs": [
    {
     "name": "stdout",
     "output_type": "stream",
     "text": [
      "Max doit donner 10.0 €.\n",
      " Toto ne doit rien.\n",
      " Céd doit recevoir 10.0 €.\n"
     ]
    }
   ],
   "source": [
    "list_of_participants = input(\"Tapez le nom des participants (séparés par une virgule).\")\n",
    "participants = list_of_participants.split(\",\")\n",
    "\n",
    "list_of_ammounts = []\n",
    "ammounts = []\n",
    "\n",
    "ammounts_correctly_formated = False\n",
    "\n",
    "while not ammounts_correctly_formated :\n",
    "    list_of_ammounts = input(\"Tapez le montant payé par chaque participant, dans le même ordre (séparés par une virgule).\")\n",
    "    ammounts = list_of_ammounts.split(\",\")\n",
    "\n",
    "    if len(ammounts) == len(participants) :\n",
    "        try :\n",
    "            ammounts = [float(ammount) for ammount in ammounts]\n",
    "            ammounts_correctly_formated = True\n",
    "        except :\n",
    "            print(\"Les montants doivent être des nombres !\")\n",
    "            \n",
    "    else :\n",
    "        print(\"Il doit y avoir autant de montants que de participants !\")        \n",
    "    \n",
    "ammount_by_participants = []\n",
    "total_spend = 0\n",
    "\n",
    "for (participant, ammount) in zip(participants, ammounts) :\n",
    "    ammount_by_participants.append((participant, ammount))\n",
    "    total_spend += ammount\n",
    "\n",
    "even_share = total_spend / len(ammount_by_participants)\n",
    "\n",
    "for (participant, ammount) in ammount_by_participants :\n",
    "    participant_balance = ammount - even_share\n",
    "    \n",
    "    if participant_balance < 0 :\n",
    "        print(\"{} doit donner {} €.\".format(participant, abs(participant_balance)))\n",
    "    elif participant_balance > 0 :\n",
    "        print(\"{} doit recevoir {} €.\".format(participant, participant_balance))\n",
    "    else :\n",
    "        print(\"{} ne doit rien.\".format(participant))\n",
    "\n",
    "\n"
   ]
  }
 ],
 "metadata": {
  "kernelspec": {
   "display_name": "base",
   "language": "python",
   "name": "python3"
  },
  "language_info": {
   "codemirror_mode": {
    "name": "ipython",
    "version": 3
   },
   "file_extension": ".py",
   "mimetype": "text/x-python",
   "name": "python",
   "nbconvert_exporter": "python",
   "pygments_lexer": "ipython3",
   "version": "3.12.7"
  }
 },
 "nbformat": 4,
 "nbformat_minor": 2
}
